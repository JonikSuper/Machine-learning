{
 "cells": [
  {
   "cell_type": "markdown",
   "id": "8bfa89ab",
   "metadata": {},
   "source": [
    "# Cross-Validation and the Bootstrap"
   ]
  },
  {
   "cell_type": "markdown",
   "id": "645fe0fc",
   "metadata": {},
   "source": [
    "## The Validation Set Approach"
   ]
  },
  {
   "cell_type": "code",
   "execution_count": 2,
   "id": "5791f19e",
   "metadata": {},
   "outputs": [],
   "source": [
    "options(warn = -1)"
   ]
  },
  {
   "cell_type": "code",
   "execution_count": 18,
   "id": "c7ad613f",
   "metadata": {},
   "outputs": [],
   "source": [
    "library(ISLR)\n",
    "library(boot)"
   ]
  },
  {
   "cell_type": "code",
   "execution_count": 13,
   "id": "1c6a6320",
   "metadata": {},
   "outputs": [],
   "source": [
    "set.seed(1)\n",
    "train = sample(392, 196)"
   ]
  },
  {
   "cell_type": "code",
   "execution_count": 14,
   "id": "5e63504f",
   "metadata": {},
   "outputs": [
    {
     "data": {
      "text/html": [
       "23.2660086465003"
      ],
      "text/latex": [
       "23.2660086465003"
      ],
      "text/markdown": [
       "23.2660086465003"
      ],
      "text/plain": [
       "[1] 23.26601"
      ]
     },
     "metadata": {},
     "output_type": "display_data"
    }
   ],
   "source": [
    "lm.fit = lm(mpg ~ horsepower, subset = train, data = Auto)\n",
    "mean((Auto$mpg - predict(lm.fit, Auto))[-train] ^ 2)"
   ]
  },
  {
   "cell_type": "code",
   "execution_count": 15,
   "id": "1f1249bf",
   "metadata": {},
   "outputs": [
    {
     "data": {
      "text/html": [
       "18.7164594933828"
      ],
      "text/latex": [
       "18.7164594933828"
      ],
      "text/markdown": [
       "18.7164594933828"
      ],
      "text/plain": [
       "[1] 18.71646"
      ]
     },
     "metadata": {},
     "output_type": "display_data"
    }
   ],
   "source": [
    "lm.fit2 = lm(mpg ~ poly(horsepower, 2), subset = train, data = Auto)\n",
    "mean((Auto$mpg - predict(lm.fit2, Auto))[-train] ^ 2)"
   ]
  },
  {
   "cell_type": "code",
   "execution_count": 16,
   "id": "290029f1",
   "metadata": {},
   "outputs": [
    {
     "data": {
      "text/html": [
       "18.7940067973945"
      ],
      "text/latex": [
       "18.7940067973945"
      ],
      "text/markdown": [
       "18.7940067973945"
      ],
      "text/plain": [
       "[1] 18.79401"
      ]
     },
     "metadata": {},
     "output_type": "display_data"
    }
   ],
   "source": [
    "lm.fit3 = lm(mpg ~ poly(horsepower, 3), subset = train, data = Auto)\n",
    "mean((Auto$mpg - predict(lm.fit3, Auto))[-train] ^ 2)"
   ]
  },
  {
   "cell_type": "markdown",
   "id": "cd629c56",
   "metadata": {},
   "source": [
    "## Leave-One-Out Cross-Validation"
   ]
  },
  {
   "cell_type": "code",
   "execution_count": 17,
   "id": "d624c407",
   "metadata": {},
   "outputs": [
    {
     "data": {
      "text/html": [
       "<dl class=dl-horizontal>\n",
       "\t<dt>(Intercept)</dt>\n",
       "\t\t<dd>39.9358610211705</dd>\n",
       "\t<dt>horsepower</dt>\n",
       "\t\t<dd>-0.157844733353654</dd>\n",
       "</dl>\n"
      ],
      "text/latex": [
       "\\begin{description*}\n",
       "\\item[(Intercept)] 39.9358610211705\n",
       "\\item[horsepower] -0.157844733353654\n",
       "\\end{description*}\n"
      ],
      "text/markdown": [
       "(Intercept)\n",
       ":   39.9358610211705horsepower\n",
       ":   -0.157844733353654\n",
       "\n"
      ],
      "text/plain": [
       "(Intercept)  horsepower \n",
       " 39.9358610  -0.1578447 "
      ]
     },
     "metadata": {},
     "output_type": "display_data"
    }
   ],
   "source": [
    "glm.fit = glm(mpg ~ horsepower, data = Auto)\n",
    "coef(glm.fit)"
   ]
  },
  {
   "cell_type": "code",
   "execution_count": 19,
   "id": "7eb98701",
   "metadata": {},
   "outputs": [
    {
     "data": {
      "text/html": [
       "<ol class=list-inline>\n",
       "\t<li>24.2315135179292</li>\n",
       "\t<li>24.2311440937562</li>\n",
       "</ol>\n"
      ],
      "text/latex": [
       "\\begin{enumerate*}\n",
       "\\item 24.2315135179292\n",
       "\\item 24.2311440937562\n",
       "\\end{enumerate*}\n"
      ],
      "text/markdown": [
       "1. 24.2315135179292\n",
       "2. 24.2311440937562\n",
       "\n",
       "\n"
      ],
      "text/plain": [
       "[1] 24.23151 24.23114"
      ]
     },
     "metadata": {},
     "output_type": "display_data"
    }
   ],
   "source": [
    "cv.err = cv.glm(Auto, glm.fit)\n",
    "cv.err$delta"
   ]
  },
  {
   "cell_type": "code",
   "execution_count": 21,
   "id": "52bea53b",
   "metadata": {},
   "outputs": [
    {
     "data": {
      "text/html": [
       "<ol class=list-inline>\n",
       "\t<li>24.2315135179292</li>\n",
       "\t<li>19.2482131244897</li>\n",
       "\t<li>19.334984064029</li>\n",
       "\t<li>19.4244303104302</li>\n",
       "\t<li>19.0332138547041</li>\n",
       "</ol>\n"
      ],
      "text/latex": [
       "\\begin{enumerate*}\n",
       "\\item 24.2315135179292\n",
       "\\item 19.2482131244897\n",
       "\\item 19.334984064029\n",
       "\\item 19.4244303104302\n",
       "\\item 19.0332138547041\n",
       "\\end{enumerate*}\n"
      ],
      "text/markdown": [
       "1. 24.2315135179292\n",
       "2. 19.2482131244897\n",
       "3. 19.334984064029\n",
       "4. 19.4244303104302\n",
       "5. 19.0332138547041\n",
       "\n",
       "\n"
      ],
      "text/plain": [
       "[1] 24.23151 19.24821 19.33498 19.42443 19.03321"
      ]
     },
     "metadata": {},
     "output_type": "display_data"
    }
   ],
   "source": [
    "cv.error = rep(0, 5)\n",
    "for (i in 1:5) {\n",
    "  glm.fit = glm(mpg ~ poly(horsepower, i), data = Auto)\n",
    "  cv.error[i] = cv.glm(Auto, glm.fit)$delta[1]\n",
    "}\n",
    "cv.error"
   ]
  },
  {
   "cell_type": "markdown",
   "id": "44160df1",
   "metadata": {},
   "source": [
    "## k-Fold Cross-Validation"
   ]
  },
  {
   "cell_type": "code",
   "execution_count": 24,
   "id": "51f98053",
   "metadata": {},
   "outputs": [
    {
     "data": {
      "text/html": [
       "<ol class=list-inline>\n",
       "\t<li>24.2153770376871</li>\n",
       "\t<li>19.2832743906712</li>\n",
       "\t<li>19.1299761940895</li>\n",
       "\t<li>19.2920146764047</li>\n",
       "\t<li>19.0947090246303</li>\n",
       "\t<li>18.8787391968873</li>\n",
       "\t<li>18.7812714645688</li>\n",
       "\t<li>18.8048368792722</li>\n",
       "\t<li>18.9267584938098</li>\n",
       "\t<li>18.9943905609698</li>\n",
       "</ol>\n"
      ],
      "text/latex": [
       "\\begin{enumerate*}\n",
       "\\item 24.2153770376871\n",
       "\\item 19.2832743906712\n",
       "\\item 19.1299761940895\n",
       "\\item 19.2920146764047\n",
       "\\item 19.0947090246303\n",
       "\\item 18.8787391968873\n",
       "\\item 18.7812714645688\n",
       "\\item 18.8048368792722\n",
       "\\item 18.9267584938098\n",
       "\\item 18.9943905609698\n",
       "\\end{enumerate*}\n"
      ],
      "text/markdown": [
       "1. 24.2153770376871\n",
       "2. 19.2832743906712\n",
       "3. 19.1299761940895\n",
       "4. 19.2920146764047\n",
       "5. 19.0947090246303\n",
       "6. 18.8787391968873\n",
       "7. 18.7812714645688\n",
       "8. 18.8048368792722\n",
       "9. 18.9267584938098\n",
       "10. 18.9943905609698\n",
       "\n",
       "\n"
      ],
      "text/plain": [
       " [1] 24.21538 19.28327 19.12998 19.29201 19.09471 18.87874 18.78127 18.80484\n",
       " [9] 18.92676 18.99439"
      ]
     },
     "metadata": {},
     "output_type": "display_data"
    }
   ],
   "source": [
    "set.seed(1)\n",
    "cv.error.10 = rep(0, 10)\n",
    "for (i in 1:10) {\n",
    "  glm.fit = glm(mpg ~ poly(horsepower, i), data = Auto)\n",
    "  cv.error.10[i] = cv.glm(Auto, glm.fit, K = 10)$delta[1]\n",
    "}\n",
    "cv.error.10"
   ]
  },
  {
   "cell_type": "markdown",
   "id": "1e45df56",
   "metadata": {},
   "source": [
    "# The Bootstrap"
   ]
  },
  {
   "cell_type": "markdown",
   "id": "c1fbe025",
   "metadata": {},
   "source": [
    "## Estimating the Accuracy of a Statistic of Interest"
   ]
  },
  {
   "cell_type": "code",
   "execution_count": 25,
   "id": "061216f1",
   "metadata": {},
   "outputs": [],
   "source": [
    "alpha.fn = function(data, index) {\n",
    "  X = data$X[index]\n",
    "  Y = data$Y[index]\n",
    "  return ((var(Y) - cov(X, Y)) / (var(X) + var(Y) - 2 * cov(X, Y)))\n",
    "}"
   ]
  },
  {
   "cell_type": "code",
   "execution_count": 26,
   "id": "6efa5662",
   "metadata": {},
   "outputs": [
    {
     "data": {
      "text/html": [
       "0.57583207459283"
      ],
      "text/latex": [
       "0.57583207459283"
      ],
      "text/markdown": [
       "0.57583207459283"
      ],
      "text/plain": [
       "[1] 0.5758321"
      ]
     },
     "metadata": {},
     "output_type": "display_data"
    }
   ],
   "source": [
    "alpha.fn(Portfolio, 1:100)"
   ]
  },
  {
   "cell_type": "code",
   "execution_count": 27,
   "id": "868a236e",
   "metadata": {},
   "outputs": [
    {
     "data": {
      "text/html": [
       "0.736837501928544"
      ],
      "text/latex": [
       "0.736837501928544"
      ],
      "text/markdown": [
       "0.736837501928544"
      ],
      "text/plain": [
       "[1] 0.7368375"
      ]
     },
     "metadata": {},
     "output_type": "display_data"
    }
   ],
   "source": [
    "set.seed(1)\n",
    "alpha.fn(Portfolio, sample(100, 100, replace = T))"
   ]
  },
  {
   "cell_type": "code",
   "execution_count": 28,
   "id": "4a5df509",
   "metadata": {},
   "outputs": [
    {
     "data": {
      "text/plain": [
       "\n",
       "ORDINARY NONPARAMETRIC BOOTSTRAP\n",
       "\n",
       "\n",
       "Call:\n",
       "boot(data = Portfolio, statistic = alpha.fn, R = 1000)\n",
       "\n",
       "\n",
       "Bootstrap Statistics :\n",
       "     original       bias    std. error\n",
       "t1* 0.5758321 -0.001695873  0.09366347"
      ]
     },
     "metadata": {},
     "output_type": "display_data"
    }
   ],
   "source": [
    "boot(Portfolio, alpha.fn, R = 1000)"
   ]
  },
  {
   "cell_type": "markdown",
   "id": "9b5b6011",
   "metadata": {},
   "source": [
    "## Estimating the Accuracy of a Linear Regression Model"
   ]
  },
  {
   "cell_type": "code",
   "execution_count": 29,
   "id": "a540846e",
   "metadata": {},
   "outputs": [],
   "source": [
    "boot.fn = function(data, index) {\n",
    "  return(coef(lm(\n",
    "    mpg ~ horsepower, data = data, subset = index\n",
    "  )))\n",
    "}"
   ]
  },
  {
   "cell_type": "code",
   "execution_count": 30,
   "id": "8fb82475",
   "metadata": {},
   "outputs": [
    {
     "data": {
      "text/html": [
       "<dl class=dl-horizontal>\n",
       "\t<dt>(Intercept)</dt>\n",
       "\t\t<dd>39.9358610211705</dd>\n",
       "\t<dt>horsepower</dt>\n",
       "\t\t<dd>-0.157844733353654</dd>\n",
       "</dl>\n"
      ],
      "text/latex": [
       "\\begin{description*}\n",
       "\\item[(Intercept)] 39.9358610211705\n",
       "\\item[horsepower] -0.157844733353654\n",
       "\\end{description*}\n"
      ],
      "text/markdown": [
       "(Intercept)\n",
       ":   39.9358610211705horsepower\n",
       ":   -0.157844733353654\n",
       "\n"
      ],
      "text/plain": [
       "(Intercept)  horsepower \n",
       " 39.9358610  -0.1578447 "
      ]
     },
     "metadata": {},
     "output_type": "display_data"
    }
   ],
   "source": [
    "boot.fn(Auto, 1:392)"
   ]
  },
  {
   "cell_type": "code",
   "execution_count": 33,
   "id": "627669ed",
   "metadata": {},
   "outputs": [
    {
     "data": {
      "text/html": [
       "<dl class=dl-horizontal>\n",
       "\t<dt>(Intercept)</dt>\n",
       "\t\t<dd>40.3404516830189</dd>\n",
       "\t<dt>horsepower</dt>\n",
       "\t\t<dd>-0.163486837689938</dd>\n",
       "</dl>\n"
      ],
      "text/latex": [
       "\\begin{description*}\n",
       "\\item[(Intercept)] 40.3404516830189\n",
       "\\item[horsepower] -0.163486837689938\n",
       "\\end{description*}\n"
      ],
      "text/markdown": [
       "(Intercept)\n",
       ":   40.3404516830189horsepower\n",
       ":   -0.163486837689938\n",
       "\n"
      ],
      "text/plain": [
       "(Intercept)  horsepower \n",
       " 40.3404517  -0.1634868 "
      ]
     },
     "metadata": {},
     "output_type": "display_data"
    }
   ],
   "source": [
    "set.seed(1)\n",
    "boot.fn(Auto, sample(392, 392, replace = T))"
   ]
  },
  {
   "cell_type": "code",
   "execution_count": 34,
   "id": "f619cada",
   "metadata": {},
   "outputs": [
    {
     "data": {
      "text/plain": [
       "\n",
       "ORDINARY NONPARAMETRIC BOOTSTRAP\n",
       "\n",
       "\n",
       "Call:\n",
       "boot(data = Auto, statistic = boot.fn, R = 1000)\n",
       "\n",
       "\n",
       "Bootstrap Statistics :\n",
       "      original        bias    std. error\n",
       "t1* 39.9358610  0.0549915227 0.841925746\n",
       "t2* -0.1578447 -0.0006210818 0.007348956"
      ]
     },
     "metadata": {},
     "output_type": "display_data"
    }
   ],
   "source": [
    "boot(Auto, boot.fn, 1000)"
   ]
  },
  {
   "cell_type": "code",
   "execution_count": 35,
   "id": "e9abb7c3",
   "metadata": {},
   "outputs": [
    {
     "data": {
      "text/html": [
       "<table>\n",
       "<thead><tr><th></th><th scope=col>Estimate</th><th scope=col>Std. Error</th><th scope=col>t value</th><th scope=col>Pr(&gt;|t|)</th></tr></thead>\n",
       "<tbody>\n",
       "\t<tr><th scope=row>(Intercept)</th><td>39.9358610   </td><td>0.717498656  </td><td> 55.65984    </td><td>1.220362e-187</td></tr>\n",
       "\t<tr><th scope=row>horsepower</th><td>-0.1578447   </td><td>0.006445501  </td><td>-24.48914    </td><td> 7.031989e-81</td></tr>\n",
       "</tbody>\n",
       "</table>\n"
      ],
      "text/latex": [
       "\\begin{tabular}{r|llll}\n",
       "  & Estimate & Std. Error & t value & Pr(>\\textbar{}t\\textbar{})\\\\\n",
       "\\hline\n",
       "\t(Intercept) & 39.9358610    & 0.717498656   &  55.65984     & 1.220362e-187\\\\\n",
       "\thorsepower & -0.1578447    & 0.006445501   & -24.48914     &  7.031989e-81\\\\\n",
       "\\end{tabular}\n"
      ],
      "text/markdown": [
       "\n",
       "| <!--/--> | Estimate | Std. Error | t value | Pr(>|t|) |\n",
       "|---|---|---|---|---|\n",
       "| (Intercept) | 39.9358610    | 0.717498656   |  55.65984     | 1.220362e-187 |\n",
       "| horsepower | -0.1578447    | 0.006445501   | -24.48914     |  7.031989e-81 |\n",
       "\n"
      ],
      "text/plain": [
       "            Estimate   Std. Error  t value   Pr(>|t|)     \n",
       "(Intercept) 39.9358610 0.717498656  55.65984 1.220362e-187\n",
       "horsepower  -0.1578447 0.006445501 -24.48914  7.031989e-81"
      ]
     },
     "metadata": {},
     "output_type": "display_data"
    }
   ],
   "source": [
    "summary(lm(mpg ~ horsepower, data = Auto))$coef"
   ]
  },
  {
   "cell_type": "code",
   "execution_count": 36,
   "id": "388f9496",
   "metadata": {},
   "outputs": [],
   "source": [
    "boot.fn = function(data, index) {\n",
    "  coef(lm(\n",
    "    mpg ~ horsepower + I(horsepower ^ 2),\n",
    "    data = data,\n",
    "    subset = index\n",
    "  ))\n",
    "}"
   ]
  },
  {
   "cell_type": "code",
   "execution_count": 37,
   "id": "7afe93ea",
   "metadata": {},
   "outputs": [
    {
     "data": {
      "text/plain": [
       "\n",
       "ORDINARY NONPARAMETRIC BOOTSTRAP\n",
       "\n",
       "\n",
       "Call:\n",
       "boot(data = Auto, statistic = boot.fn, R = 1000)\n",
       "\n",
       "\n",
       "Bootstrap Statistics :\n",
       "        original        bias     std. error\n",
       "t1* 56.900099702  3.511640e-02 2.0300222526\n",
       "t2* -0.466189630 -7.080834e-04 0.0324241984\n",
       "t3*  0.001230536  2.840324e-06 0.0001172164"
      ]
     },
     "metadata": {},
     "output_type": "display_data"
    }
   ],
   "source": [
    "set.seed(1)\n",
    "boot(Auto, boot.fn, 1000)"
   ]
  },
  {
   "cell_type": "code",
   "execution_count": 39,
   "id": "c1e2d21d",
   "metadata": {},
   "outputs": [
    {
     "data": {
      "text/html": [
       "<table>\n",
       "<thead><tr><th></th><th scope=col>Estimate</th><th scope=col>Std. Error</th><th scope=col>t value</th><th scope=col>Pr(&gt;|t|)</th></tr></thead>\n",
       "<tbody>\n",
       "\t<tr><th scope=row>(Intercept)</th><td>56.900099702 </td><td>1.8004268063 </td><td> 31.60367    </td><td>1.740911e-109</td></tr>\n",
       "\t<tr><th scope=row>horsepower</th><td>-0.466189630 </td><td>0.0311246171 </td><td>-14.97816    </td><td> 2.289429e-40</td></tr>\n",
       "\t<tr><th scope=row>I(horsepower^2)</th><td> 0.001230536 </td><td>0.0001220759 </td><td> 10.08009    </td><td> 2.196340e-21</td></tr>\n",
       "</tbody>\n",
       "</table>\n"
      ],
      "text/latex": [
       "\\begin{tabular}{r|llll}\n",
       "  & Estimate & Std. Error & t value & Pr(>\\textbar{}t\\textbar{})\\\\\n",
       "\\hline\n",
       "\t(Intercept) & 56.900099702  & 1.8004268063  &  31.60367     & 1.740911e-109\\\\\n",
       "\thorsepower & -0.466189630  & 0.0311246171  & -14.97816     &  2.289429e-40\\\\\n",
       "\tI(horsepower\\textasciicircum{}2) &  0.001230536  & 0.0001220759  &  10.08009     &  2.196340e-21\\\\\n",
       "\\end{tabular}\n"
      ],
      "text/markdown": [
       "\n",
       "| <!--/--> | Estimate | Std. Error | t value | Pr(>|t|) |\n",
       "|---|---|---|---|---|\n",
       "| (Intercept) | 56.900099702  | 1.8004268063  |  31.60367     | 1.740911e-109 |\n",
       "| horsepower | -0.466189630  | 0.0311246171  | -14.97816     |  2.289429e-40 |\n",
       "| I(horsepower^2) |  0.001230536  | 0.0001220759  |  10.08009     |  2.196340e-21 |\n",
       "\n"
      ],
      "text/plain": [
       "                Estimate     Std. Error   t value   Pr(>|t|)     \n",
       "(Intercept)     56.900099702 1.8004268063  31.60367 1.740911e-109\n",
       "horsepower      -0.466189630 0.0311246171 -14.97816  2.289429e-40\n",
       "I(horsepower^2)  0.001230536 0.0001220759  10.08009  2.196340e-21"
      ]
     },
     "metadata": {},
     "output_type": "display_data"
    }
   ],
   "source": [
    "summary(lm(mpg ~ horsepower + I(horsepower ^ 2), data = Auto))$coef"
   ]
  },
  {
   "cell_type": "code",
   "execution_count": null,
   "id": "1b79dfb2",
   "metadata": {},
   "outputs": [],
   "source": []
  }
 ],
 "metadata": {
  "kernelspec": {
   "display_name": "R",
   "language": "R",
   "name": "ir"
  },
  "language_info": {
   "codemirror_mode": "r",
   "file_extension": ".r",
   "mimetype": "text/x-r-source",
   "name": "R",
   "pygments_lexer": "r",
   "version": "3.6.1"
  }
 },
 "nbformat": 4,
 "nbformat_minor": 5
}
