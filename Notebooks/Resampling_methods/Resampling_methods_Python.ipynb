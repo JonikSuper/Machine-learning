{
 "cells": [
  {
   "cell_type": "markdown",
   "id": "forty-allocation",
   "metadata": {},
   "source": [
    "# Cross-Validation and the Bootstrap"
   ]
  },
  {
   "cell_type": "markdown",
   "id": "micro-favor",
   "metadata": {},
   "source": [
    "## The Validation Set Approach"
   ]
  },
  {
   "cell_type": "code",
   "execution_count": 21,
   "id": "atomic-magnitude",
   "metadata": {},
   "outputs": [],
   "source": [
    "import pandas as pd\n",
    "import numpy as np\n",
    "import statsmodels.formula.api as smf\n",
    "from sklearn.metrics import mean_squared_error\n",
    "from sklearn.linear_model import LinearRegression\n",
    "from sklearn.model_selection import cross_val_score, LeaveOneOut, KFold\n",
    "from sklearn.preprocessing import PolynomialFeatures"
   ]
  },
  {
   "cell_type": "code",
   "execution_count": 3,
   "id": "closing-alliance",
   "metadata": {},
   "outputs": [
    {
     "name": "stdout",
     "output_type": "stream",
     "text": [
      "<class 'pandas.core.frame.DataFrame'>\n",
      "Int64Index: 392 entries, 1 to 397\n",
      "Data columns (total 9 columns):\n",
      " #   Column        Non-Null Count  Dtype  \n",
      "---  ------        --------------  -----  \n",
      " 0   mpg           392 non-null    float64\n",
      " 1   cylinders     392 non-null    int64  \n",
      " 2   displacement  392 non-null    float64\n",
      " 3   horsepower    392 non-null    int64  \n",
      " 4   weight        392 non-null    int64  \n",
      " 5   acceleration  392 non-null    float64\n",
      " 6   year          392 non-null    int64  \n",
      " 7   origin        392 non-null    int64  \n",
      " 8   name          392 non-null    object \n",
      "dtypes: float64(3), int64(5), object(1)\n",
      "memory usage: 30.6+ KB\n"
     ]
    }
   ],
   "source": [
    "auto = pd.read_csv('./Downloads/Auto.csv', index_col=0)\n",
    "auto.info()"
   ]
  },
  {
   "cell_type": "code",
   "execution_count": 4,
   "id": "whole-healthcare",
   "metadata": {},
   "outputs": [
    {
     "data": {
      "text/html": [
       "<div>\n",
       "<style scoped>\n",
       "    .dataframe tbody tr th:only-of-type {\n",
       "        vertical-align: middle;\n",
       "    }\n",
       "\n",
       "    .dataframe tbody tr th {\n",
       "        vertical-align: top;\n",
       "    }\n",
       "\n",
       "    .dataframe thead th {\n",
       "        text-align: right;\n",
       "    }\n",
       "</style>\n",
       "<table border=\"1\" class=\"dataframe\">\n",
       "  <thead>\n",
       "    <tr style=\"text-align: right;\">\n",
       "      <th></th>\n",
       "      <th>mpg</th>\n",
       "      <th>cylinders</th>\n",
       "      <th>displacement</th>\n",
       "      <th>horsepower</th>\n",
       "      <th>weight</th>\n",
       "      <th>acceleration</th>\n",
       "      <th>year</th>\n",
       "      <th>origin</th>\n",
       "      <th>name</th>\n",
       "    </tr>\n",
       "  </thead>\n",
       "  <tbody>\n",
       "    <tr>\n",
       "      <th>1</th>\n",
       "      <td>18.0</td>\n",
       "      <td>8</td>\n",
       "      <td>307.0</td>\n",
       "      <td>130</td>\n",
       "      <td>3504</td>\n",
       "      <td>12.0</td>\n",
       "      <td>70</td>\n",
       "      <td>1</td>\n",
       "      <td>chevrolet chevelle malibu</td>\n",
       "    </tr>\n",
       "    <tr>\n",
       "      <th>2</th>\n",
       "      <td>15.0</td>\n",
       "      <td>8</td>\n",
       "      <td>350.0</td>\n",
       "      <td>165</td>\n",
       "      <td>3693</td>\n",
       "      <td>11.5</td>\n",
       "      <td>70</td>\n",
       "      <td>1</td>\n",
       "      <td>buick skylark 320</td>\n",
       "    </tr>\n",
       "    <tr>\n",
       "      <th>3</th>\n",
       "      <td>18.0</td>\n",
       "      <td>8</td>\n",
       "      <td>318.0</td>\n",
       "      <td>150</td>\n",
       "      <td>3436</td>\n",
       "      <td>11.0</td>\n",
       "      <td>70</td>\n",
       "      <td>1</td>\n",
       "      <td>plymouth satellite</td>\n",
       "    </tr>\n",
       "    <tr>\n",
       "      <th>4</th>\n",
       "      <td>16.0</td>\n",
       "      <td>8</td>\n",
       "      <td>304.0</td>\n",
       "      <td>150</td>\n",
       "      <td>3433</td>\n",
       "      <td>12.0</td>\n",
       "      <td>70</td>\n",
       "      <td>1</td>\n",
       "      <td>amc rebel sst</td>\n",
       "    </tr>\n",
       "    <tr>\n",
       "      <th>5</th>\n",
       "      <td>17.0</td>\n",
       "      <td>8</td>\n",
       "      <td>302.0</td>\n",
       "      <td>140</td>\n",
       "      <td>3449</td>\n",
       "      <td>10.5</td>\n",
       "      <td>70</td>\n",
       "      <td>1</td>\n",
       "      <td>ford torino</td>\n",
       "    </tr>\n",
       "  </tbody>\n",
       "</table>\n",
       "</div>"
      ],
      "text/plain": [
       "    mpg  cylinders  displacement  horsepower  weight  acceleration  year  \\\n",
       "1  18.0          8         307.0         130    3504          12.0    70   \n",
       "2  15.0          8         350.0         165    3693          11.5    70   \n",
       "3  18.0          8         318.0         150    3436          11.0    70   \n",
       "4  16.0          8         304.0         150    3433          12.0    70   \n",
       "5  17.0          8         302.0         140    3449          10.5    70   \n",
       "\n",
       "   origin                       name  \n",
       "1       1  chevrolet chevelle malibu  \n",
       "2       1          buick skylark 320  \n",
       "3       1         plymouth satellite  \n",
       "4       1              amc rebel sst  \n",
       "5       1                ford torino  "
      ]
     },
     "execution_count": 4,
     "metadata": {},
     "output_type": "execute_result"
    }
   ],
   "source": [
    "auto.head()"
   ]
  },
  {
   "cell_type": "code",
   "execution_count": 5,
   "id": "brutal-printer",
   "metadata": {},
   "outputs": [],
   "source": [
    "train = auto.sample(196, random_state=1)\n",
    "test = auto.drop(train.index)"
   ]
  },
  {
   "cell_type": "code",
   "execution_count": 6,
   "id": "reserved-david",
   "metadata": {},
   "outputs": [
    {
     "data": {
      "text/plain": [
       "23.361902892587235"
      ]
     },
     "execution_count": 6,
     "metadata": {},
     "output_type": "execute_result"
    }
   ],
   "source": [
    "est = smf.ols('mpg~horsepower', train).fit()\n",
    "pred = est.predict(test)\n",
    "\n",
    "mean_squared_error(test['mpg'], pred)"
   ]
  },
  {
   "cell_type": "code",
   "execution_count": 7,
   "id": "initial-elizabeth",
   "metadata": {},
   "outputs": [
    {
     "data": {
      "text/plain": [
       "20.252690858350192"
      ]
     },
     "execution_count": 7,
     "metadata": {},
     "output_type": "execute_result"
    }
   ],
   "source": [
    "est = smf.ols('mpg~horsepower+np.power(horsepower, 2)', train).fit()\n",
    "pred = est.predict(test)\n",
    "\n",
    "mean_squared_error(test['mpg'], pred)"
   ]
  },
  {
   "cell_type": "code",
   "execution_count": 8,
   "id": "desirable-mayor",
   "metadata": {},
   "outputs": [
    {
     "data": {
      "text/plain": [
       "20.325609365878563"
      ]
     },
     "execution_count": 8,
     "metadata": {},
     "output_type": "execute_result"
    }
   ],
   "source": [
    "est = smf.ols('mpg~horsepower+np.power(horsepower, 2)+np.power(horsepower, 3)', train).fit()\n",
    "pred = est.predict(test)\n",
    "\n",
    "mean_squared_error(test['mpg'], pred)"
   ]
  },
  {
   "cell_type": "markdown",
   "id": "arbitrary-statement",
   "metadata": {},
   "source": [
    "## Leave-One-Out Cross-Validation"
   ]
  },
  {
   "cell_type": "code",
   "execution_count": 13,
   "id": "yellow-berlin",
   "metadata": {},
   "outputs": [
    {
     "data": {
      "text/plain": [
       "24.231513517929226"
      ]
     },
     "execution_count": 13,
     "metadata": {},
     "output_type": "execute_result"
    }
   ],
   "source": [
    "lin_reg = LinearRegression()\n",
    "loo = LeaveOneOut()\n",
    "-cross_val_score(lin_reg, auto[['horsepower']], auto['mpg'],\n",
    "                 cv=loo, scoring='neg_mean_squared_error').mean()"
   ]
  },
  {
   "cell_type": "code",
   "execution_count": 16,
   "id": "orange-teaching",
   "metadata": {},
   "outputs": [],
   "source": [
    "res = []\n",
    "for i in range(1, 6):\n",
    "    poly = PolynomialFeatures(i)\n",
    "    cv_score = -cross_val_score(lin_reg, poly.fit_transform(\n",
    "        auto[['horsepower']]), auto['mpg'], cv=loo, scoring='neg_mean_squared_error').mean()\n",
    "    res.append((i, cv_score))"
   ]
  },
  {
   "cell_type": "code",
   "execution_count": 20,
   "id": "statewide-finnish",
   "metadata": {},
   "outputs": [
    {
     "data": {
      "text/plain": [
       "[(1, 24.231513517929226),\n",
       " (2, 19.24821312448939),\n",
       " (3, 19.334984064114092),\n",
       " (4, 19.424430309411886),\n",
       " (5, 19.033211842978396)]"
      ]
     },
     "execution_count": 20,
     "metadata": {},
     "output_type": "execute_result"
    }
   ],
   "source": [
    "res"
   ]
  },
  {
   "cell_type": "markdown",
   "id": "martial-kingdom",
   "metadata": {},
   "source": [
    "## k-Fold Cross-Validation"
   ]
  },
  {
   "cell_type": "code",
   "execution_count": 22,
   "id": "cooperative-arizona",
   "metadata": {},
   "outputs": [],
   "source": [
    "lin_reg = LinearRegression()\n",
    "kf10 = KFold(n_splits=10, random_state=1, shuffle=True)\n",
    "\n",
    "res = []\n",
    "for i in range(1, 11):\n",
    "    poly = PolynomialFeatures(i)\n",
    "    cv_score = -cross_val_score(lin_reg, poly.fit_transform(\n",
    "        auto[['horsepower']]), auto['mpg'], cv=kf10, scoring='neg_mean_squared_error').mean()\n",
    "    res.append((i, cv_score))"
   ]
  },
  {
   "cell_type": "code",
   "execution_count": 23,
   "id": "steady-cuisine",
   "metadata": {},
   "outputs": [
    {
     "data": {
      "text/plain": [
       "[(1, 24.09767573188306),\n",
       " (2, 19.17888986488974),\n",
       " (3, 19.213859523719318),\n",
       " (4, 19.212807016847393),\n",
       " (5, 18.75798588326042),\n",
       " (6, 18.641065858861953),\n",
       " (7, 18.82081002496441),\n",
       " (8, 18.975736690279508),\n",
       " (9, 18.937579150541712),\n",
       " (10, 18.793495362139453)]"
      ]
     },
     "execution_count": 23,
     "metadata": {},
     "output_type": "execute_result"
    }
   ],
   "source": [
    "res"
   ]
  },
  {
   "cell_type": "markdown",
   "id": "moving-bhutan",
   "metadata": {},
   "source": [
    "# The Bootstrap"
   ]
  },
  {
   "cell_type": "markdown",
   "id": "clinical-pressing",
   "metadata": {},
   "source": [
    "## Estimating the Accuracy of a Statistic of Interest"
   ]
  },
  {
   "cell_type": "code",
   "execution_count": 24,
   "id": "official-mustang",
   "metadata": {},
   "outputs": [
    {
     "name": "stdout",
     "output_type": "stream",
     "text": [
      "<class 'pandas.core.frame.DataFrame'>\n",
      "Int64Index: 100 entries, 1 to 100\n",
      "Data columns (total 2 columns):\n",
      " #   Column  Non-Null Count  Dtype  \n",
      "---  ------  --------------  -----  \n",
      " 0   X       100 non-null    float64\n",
      " 1   Y       100 non-null    float64\n",
      "dtypes: float64(2)\n",
      "memory usage: 2.3 KB\n"
     ]
    }
   ],
   "source": [
    "portfolio = pd.read_csv('./Downloads/Portfolio.csv', index_col=0)\n",
    "portfolio.info()"
   ]
  },
  {
   "cell_type": "code",
   "execution_count": 25,
   "id": "sufficient-jacksonville",
   "metadata": {},
   "outputs": [
    {
     "data": {
      "text/html": [
       "<div>\n",
       "<style scoped>\n",
       "    .dataframe tbody tr th:only-of-type {\n",
       "        vertical-align: middle;\n",
       "    }\n",
       "\n",
       "    .dataframe tbody tr th {\n",
       "        vertical-align: top;\n",
       "    }\n",
       "\n",
       "    .dataframe thead th {\n",
       "        text-align: right;\n",
       "    }\n",
       "</style>\n",
       "<table border=\"1\" class=\"dataframe\">\n",
       "  <thead>\n",
       "    <tr style=\"text-align: right;\">\n",
       "      <th></th>\n",
       "      <th>X</th>\n",
       "      <th>Y</th>\n",
       "    </tr>\n",
       "  </thead>\n",
       "  <tbody>\n",
       "    <tr>\n",
       "      <th>1</th>\n",
       "      <td>-0.895251</td>\n",
       "      <td>-0.234924</td>\n",
       "    </tr>\n",
       "    <tr>\n",
       "      <th>2</th>\n",
       "      <td>-1.562454</td>\n",
       "      <td>-0.885176</td>\n",
       "    </tr>\n",
       "    <tr>\n",
       "      <th>3</th>\n",
       "      <td>-0.417090</td>\n",
       "      <td>0.271888</td>\n",
       "    </tr>\n",
       "    <tr>\n",
       "      <th>4</th>\n",
       "      <td>1.044356</td>\n",
       "      <td>-0.734198</td>\n",
       "    </tr>\n",
       "    <tr>\n",
       "      <th>5</th>\n",
       "      <td>-0.315568</td>\n",
       "      <td>0.841983</td>\n",
       "    </tr>\n",
       "  </tbody>\n",
       "</table>\n",
       "</div>"
      ],
      "text/plain": [
       "          X         Y\n",
       "1 -0.895251 -0.234924\n",
       "2 -1.562454 -0.885176\n",
       "3 -0.417090  0.271888\n",
       "4  1.044356 -0.734198\n",
       "5 -0.315568  0.841983"
      ]
     },
     "execution_count": 25,
     "metadata": {},
     "output_type": "execute_result"
    }
   ],
   "source": [
    "portfolio.head()"
   ]
  },
  {
   "cell_type": "code",
   "execution_count": 26,
   "id": "nutritional-tunisia",
   "metadata": {},
   "outputs": [],
   "source": [
    "def alpha(data):\n",
    "    X = data['X']\n",
    "    Y = data['Y']\n",
    "\n",
    "    return (np.var(Y)-np.cov(X, Y)[0, 1])/(np.var(X)+np.var(Y)-2*np.cov(X, Y)[0, 1])"
   ]
  },
  {
   "cell_type": "code",
   "execution_count": 27,
   "id": "frozen-insight",
   "metadata": {},
   "outputs": [
    {
     "data": {
      "text/plain": [
       "0.5766511516104116"
      ]
     },
     "execution_count": 27,
     "metadata": {},
     "output_type": "execute_result"
    }
   ],
   "source": [
    "alpha(portfolio)"
   ]
  },
  {
   "cell_type": "code",
   "execution_count": 28,
   "id": "absolute-amendment",
   "metadata": {},
   "outputs": [
    {
     "data": {
      "text/plain": [
       "0.4504820492455901"
      ]
     },
     "execution_count": 28,
     "metadata": {},
     "output_type": "execute_result"
    }
   ],
   "source": [
    "np.random.seed(1)\n",
    "\n",
    "alpha(portfolio.sample(frac=1, replace=True))"
   ]
  },
  {
   "cell_type": "code",
   "execution_count": 29,
   "id": "forbidden-binding",
   "metadata": {},
   "outputs": [],
   "source": [
    "np.random.seed(1)\n",
    "\n",
    "def boot(data, R):\n",
    "    res = np.empty(R)\n",
    "    for i in range(R):\n",
    "        res[i] = alpha(data.sample(frac=1, replace=True))\n",
    "    return res"
   ]
  },
  {
   "cell_type": "code",
   "execution_count": 30,
   "id": "historic-tension",
   "metadata": {},
   "outputs": [],
   "source": [
    "results = boot(portfolio, 1000)"
   ]
  },
  {
   "cell_type": "code",
   "execution_count": 31,
   "id": "extraordinary-pencil",
   "metadata": {},
   "outputs": [
    {
     "name": "stdout",
     "output_type": "stream",
     "text": [
      "Mean: 0.5794285126180528\n",
      "Standart deviation: 0.09405177965236293\n",
      "Variance: 0.00884573725577663\n"
     ]
    }
   ],
   "source": [
    "print('Mean:', results.mean())\n",
    "print('Standart deviation:', results.std())\n",
    "print('Variance:', results.var())"
   ]
  },
  {
   "cell_type": "markdown",
   "id": "numerous-semester",
   "metadata": {},
   "source": [
    "## Estimating the Accuracy of a Linear Regression Model"
   ]
  },
  {
   "cell_type": "code",
   "execution_count": 32,
   "id": "corrected-cooperative",
   "metadata": {},
   "outputs": [],
   "source": [
    "def boot_lm(data):\n",
    "    X = data[['horsepower']]\n",
    "    y = data['mpg']\n",
    "    \n",
    "    lin_reg = LinearRegression()\n",
    "    lin_reg.fit(X, y)\n",
    "    \n",
    "    return lin_reg.intercept_, lin_reg.coef_[0]"
   ]
  },
  {
   "cell_type": "code",
   "execution_count": 33,
   "id": "funky-millennium",
   "metadata": {},
   "outputs": [
    {
     "data": {
      "text/plain": [
       "Intercept      39.935861\n",
       "Coefficient    -0.157845\n",
       "dtype: float64"
      ]
     },
     "execution_count": 33,
     "metadata": {},
     "output_type": "execute_result"
    }
   ],
   "source": [
    "pd.Series(boot_lm(auto), index=['Intercept', 'Coefficient'])"
   ]
  },
  {
   "cell_type": "code",
   "execution_count": 34,
   "id": "solved-stanford",
   "metadata": {},
   "outputs": [
    {
     "data": {
      "text/plain": [
       "Intercept      39.658479\n",
       "Coefficient    -0.155898\n",
       "dtype: float64"
      ]
     },
     "execution_count": 34,
     "metadata": {},
     "output_type": "execute_result"
    }
   ],
   "source": [
    "np.random.seed(1)\n",
    "\n",
    "pd.Series(boot_lm(auto.sample(frac=1, replace=True)), index=['Intercept', 'Coefficient'])"
   ]
  },
  {
   "cell_type": "code",
   "execution_count": 35,
   "id": "chronic-chaos",
   "metadata": {},
   "outputs": [],
   "source": [
    "np.random.seed(1)\n",
    "\n",
    "res = []\n",
    "def boot_lm_mult(data, R):    \n",
    "    for i in range(R):\n",
    "        res.append(boot_lm(data.sample(frac=1, replace=True)))\n",
    "    return res"
   ]
  },
  {
   "cell_type": "code",
   "execution_count": 36,
   "id": "breathing-interface",
   "metadata": {},
   "outputs": [],
   "source": [
    "results = boot_lm_mult(auto, 1000)"
   ]
  },
  {
   "cell_type": "code",
   "execution_count": 37,
   "id": "worse-charger",
   "metadata": {},
   "outputs": [
    {
     "name": "stdout",
     "output_type": "stream",
     "text": [
      "Mean: [39.96338479 -0.1583057 ]\n",
      "Standart deviation: [0.82526625 0.00713573]\n",
      "Variance: [6.81064388e-01 5.09187058e-05]\n"
     ]
    }
   ],
   "source": [
    "print('Mean:', np.mean(results, axis=0))\n",
    "print('Standart deviation:', np.std(results, axis=0))\n",
    "print('Variance:', np.var(results, axis=0))"
   ]
  },
  {
   "cell_type": "code",
   "execution_count": 38,
   "id": "acoustic-tsunami",
   "metadata": {},
   "outputs": [
    {
     "data": {
      "text/html": [
       "<table class=\"simpletable\">\n",
       "<tr>\n",
       "       <td></td>         <th>coef</th>     <th>std err</th>      <th>t</th>      <th>P>|t|</th>  <th>[0.025</th>    <th>0.975]</th>  \n",
       "</tr>\n",
       "<tr>\n",
       "  <th>Intercept</th>  <td>   39.9359</td> <td>    0.717</td> <td>   55.660</td> <td> 0.000</td> <td>   38.525</td> <td>   41.347</td>\n",
       "</tr>\n",
       "<tr>\n",
       "  <th>horsepower</th> <td>   -0.1578</td> <td>    0.006</td> <td>  -24.489</td> <td> 0.000</td> <td>   -0.171</td> <td>   -0.145</td>\n",
       "</tr>\n",
       "</table>"
      ],
      "text/plain": [
       "<class 'statsmodels.iolib.table.SimpleTable'>"
      ]
     },
     "execution_count": 38,
     "metadata": {},
     "output_type": "execute_result"
    }
   ],
   "source": [
    "est = smf.ols('mpg ~ horsepower', auto).fit()\n",
    "est.summary().tables[1]"
   ]
  },
  {
   "cell_type": "code",
   "execution_count": 39,
   "id": "accessible-ceramic",
   "metadata": {},
   "outputs": [],
   "source": [
    "def boot_lm2(data):   \n",
    "    est = smf.ols('mpg ~ horsepower + np.power(horsepower, 2)', data).fit()\n",
    "    \n",
    "    return est.params.to_list()"
   ]
  },
  {
   "cell_type": "code",
   "execution_count": 40,
   "id": "naked-stylus",
   "metadata": {},
   "outputs": [],
   "source": [
    "np.random.seed(5)\n",
    "\n",
    "res = []\n",
    "def boot_lm2_mult(data, R):    \n",
    "    for i in range(R):\n",
    "        res.append(boot_lm2(data.sample(frac=1, replace=True)))\n",
    "    return res"
   ]
  },
  {
   "cell_type": "code",
   "execution_count": 41,
   "id": "nutritional-situation",
   "metadata": {},
   "outputs": [],
   "source": [
    "results = boot_lm2_mult(auto, 1000)"
   ]
  },
  {
   "cell_type": "code",
   "execution_count": 42,
   "id": "adopted-fiber",
   "metadata": {},
   "outputs": [
    {
     "name": "stdout",
     "output_type": "stream",
     "text": [
      "Mean: [ 5.70313029e+01 -4.68655549e-01  1.24070402e-03]\n",
      "Standart deviation: [2.07113749e+00 3.33196933e-02 1.20920217e-04]\n",
      "Variance: [4.28961052e+00 1.11020196e-03 1.46216988e-08]\n"
     ]
    }
   ],
   "source": [
    "print('Mean:', np.mean(results, axis=0))\n",
    "print('Standart deviation:', np.std(results, axis=0))\n",
    "print('Variance:', np.var(results, axis=0))"
   ]
  },
  {
   "cell_type": "code",
   "execution_count": 43,
   "id": "rapid-electricity",
   "metadata": {},
   "outputs": [
    {
     "data": {
      "text/html": [
       "<table class=\"simpletable\">\n",
       "<tr>\n",
       "             <td></td>                <th>coef</th>     <th>std err</th>      <th>t</th>      <th>P>|t|</th>  <th>[0.025</th>    <th>0.975]</th>  \n",
       "</tr>\n",
       "<tr>\n",
       "  <th>Intercept</th>               <td>   56.9001</td> <td>    1.800</td> <td>   31.604</td> <td> 0.000</td> <td>   53.360</td> <td>   60.440</td>\n",
       "</tr>\n",
       "<tr>\n",
       "  <th>horsepower</th>              <td>   -0.4662</td> <td>    0.031</td> <td>  -14.978</td> <td> 0.000</td> <td>   -0.527</td> <td>   -0.405</td>\n",
       "</tr>\n",
       "<tr>\n",
       "  <th>np.power(horsepower, 2)</th> <td>    0.0012</td> <td>    0.000</td> <td>   10.080</td> <td> 0.000</td> <td>    0.001</td> <td>    0.001</td>\n",
       "</tr>\n",
       "</table>"
      ],
      "text/plain": [
       "<class 'statsmodels.iolib.table.SimpleTable'>"
      ]
     },
     "execution_count": 43,
     "metadata": {},
     "output_type": "execute_result"
    }
   ],
   "source": [
    "est = smf.ols('mpg ~ horsepower + np.power(horsepower, 2)', auto).fit()\n",
    "est.summary().tables[1]"
   ]
  },
  {
   "cell_type": "code",
   "execution_count": null,
   "id": "federal-adoption",
   "metadata": {},
   "outputs": [],
   "source": []
  }
 ],
 "metadata": {
  "kernelspec": {
   "display_name": "Python 3",
   "language": "python",
   "name": "python3"
  },
  "language_info": {
   "codemirror_mode": {
    "name": "ipython",
    "version": 3
   },
   "file_extension": ".py",
   "mimetype": "text/x-python",
   "name": "python",
   "nbconvert_exporter": "python",
   "pygments_lexer": "ipython3",
   "version": "3.8.5"
  },
  "varInspector": {
   "cols": {
    "lenName": 16,
    "lenType": 16,
    "lenVar": 40
   },
   "kernels_config": {
    "python": {
     "delete_cmd_postfix": "",
     "delete_cmd_prefix": "del ",
     "library": "var_list.py",
     "varRefreshCmd": "print(var_dic_list())"
    },
    "r": {
     "delete_cmd_postfix": ") ",
     "delete_cmd_prefix": "rm(",
     "library": "var_list.r",
     "varRefreshCmd": "cat(var_dic_list()) "
    }
   },
   "types_to_exclude": [
    "module",
    "function",
    "builtin_function_or_method",
    "instance",
    "_Feature"
   ],
   "window_display": false
  }
 },
 "nbformat": 4,
 "nbformat_minor": 5
}
