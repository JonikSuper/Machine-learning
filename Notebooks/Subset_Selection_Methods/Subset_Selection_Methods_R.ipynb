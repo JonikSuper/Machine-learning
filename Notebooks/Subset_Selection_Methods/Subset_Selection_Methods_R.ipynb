{
 "cells": [
  {
   "cell_type": "markdown",
   "id": "6cb826cd",
   "metadata": {},
   "source": [
    "# Best Subset Selection"
   ]
  },
  {
   "cell_type": "code",
   "execution_count": 1,
   "id": "e4a0d9a6",
   "metadata": {},
   "outputs": [],
   "source": [
    "options(warn = -1)"
   ]
  },
  {
   "cell_type": "code",
   "execution_count": 9,
   "id": "801d6de1",
   "metadata": {},
   "outputs": [],
   "source": [
    "library(ISLR)\n",
    "library(leaps)"
   ]
  },
  {
   "cell_type": "code",
   "execution_count": 3,
   "id": "875e5255",
   "metadata": {},
   "outputs": [],
   "source": [
    "fix(Hitters)"
   ]
  },
  {
   "cell_type": "code",
   "execution_count": 5,
   "id": "0c70ec0a",
   "metadata": {},
   "outputs": [
    {
     "data": {
      "text/html": [
       "59"
      ],
      "text/latex": [
       "59"
      ],
      "text/markdown": [
       "59"
      ],
      "text/plain": [
       "[1] 59"
      ]
     },
     "metadata": {},
     "output_type": "display_data"
    }
   ],
   "source": [
    "sum(is.na(Hitters))"
   ]
  },
  {
   "cell_type": "code",
   "execution_count": 6,
   "id": "ff6820a5",
   "metadata": {},
   "outputs": [
    {
     "data": {
      "text/html": [
       "0"
      ],
      "text/latex": [
       "0"
      ],
      "text/markdown": [
       "0"
      ],
      "text/plain": [
       "[1] 0"
      ]
     },
     "metadata": {},
     "output_type": "display_data"
    }
   ],
   "source": [
    "Hitters = na.omit(Hitters)\n",
    "sum(is.na(Hitters))"
   ]
  },
  {
   "cell_type": "code",
   "execution_count": 11,
   "id": "791e297e",
   "metadata": {},
   "outputs": [
    {
     "data": {
      "text/plain": [
       "Subset selection object\n",
       "Call: regsubsets.formula(Salary ~ ., Hitters)\n",
       "19 Variables  (and intercept)\n",
       "           Forced in Forced out\n",
       "AtBat          FALSE      FALSE\n",
       "Hits           FALSE      FALSE\n",
       "HmRun          FALSE      FALSE\n",
       "Runs           FALSE      FALSE\n",
       "RBI            FALSE      FALSE\n",
       "Walks          FALSE      FALSE\n",
       "Years          FALSE      FALSE\n",
       "CAtBat         FALSE      FALSE\n",
       "CHits          FALSE      FALSE\n",
       "CHmRun         FALSE      FALSE\n",
       "CRuns          FALSE      FALSE\n",
       "CRBI           FALSE      FALSE\n",
       "CWalks         FALSE      FALSE\n",
       "LeagueN        FALSE      FALSE\n",
       "DivisionW      FALSE      FALSE\n",
       "PutOuts        FALSE      FALSE\n",
       "Assists        FALSE      FALSE\n",
       "Errors         FALSE      FALSE\n",
       "NewLeagueN     FALSE      FALSE\n",
       "1 subsets of each size up to 8\n",
       "Selection Algorithm: exhaustive\n",
       "         AtBat Hits HmRun Runs RBI Walks Years CAtBat CHits CHmRun CRuns CRBI\n",
       "1  ( 1 ) \" \"   \" \"  \" \"   \" \"  \" \" \" \"   \" \"   \" \"    \" \"   \" \"    \" \"   \"*\" \n",
       "2  ( 1 ) \" \"   \"*\"  \" \"   \" \"  \" \" \" \"   \" \"   \" \"    \" \"   \" \"    \" \"   \"*\" \n",
       "3  ( 1 ) \" \"   \"*\"  \" \"   \" \"  \" \" \" \"   \" \"   \" \"    \" \"   \" \"    \" \"   \"*\" \n",
       "4  ( 1 ) \" \"   \"*\"  \" \"   \" \"  \" \" \" \"   \" \"   \" \"    \" \"   \" \"    \" \"   \"*\" \n",
       "5  ( 1 ) \"*\"   \"*\"  \" \"   \" \"  \" \" \" \"   \" \"   \" \"    \" \"   \" \"    \" \"   \"*\" \n",
       "6  ( 1 ) \"*\"   \"*\"  \" \"   \" \"  \" \" \"*\"   \" \"   \" \"    \" \"   \" \"    \" \"   \"*\" \n",
       "7  ( 1 ) \" \"   \"*\"  \" \"   \" \"  \" \" \"*\"   \" \"   \"*\"    \"*\"   \"*\"    \" \"   \" \" \n",
       "8  ( 1 ) \"*\"   \"*\"  \" \"   \" \"  \" \" \"*\"   \" \"   \" \"    \" \"   \"*\"    \"*\"   \" \" \n",
       "         CWalks LeagueN DivisionW PutOuts Assists Errors NewLeagueN\n",
       "1  ( 1 ) \" \"    \" \"     \" \"       \" \"     \" \"     \" \"    \" \"       \n",
       "2  ( 1 ) \" \"    \" \"     \" \"       \" \"     \" \"     \" \"    \" \"       \n",
       "3  ( 1 ) \" \"    \" \"     \" \"       \"*\"     \" \"     \" \"    \" \"       \n",
       "4  ( 1 ) \" \"    \" \"     \"*\"       \"*\"     \" \"     \" \"    \" \"       \n",
       "5  ( 1 ) \" \"    \" \"     \"*\"       \"*\"     \" \"     \" \"    \" \"       \n",
       "6  ( 1 ) \" \"    \" \"     \"*\"       \"*\"     \" \"     \" \"    \" \"       \n",
       "7  ( 1 ) \" \"    \" \"     \"*\"       \"*\"     \" \"     \" \"    \" \"       \n",
       "8  ( 1 ) \"*\"    \" \"     \"*\"       \"*\"     \" \"     \" \"    \" \"       "
      ]
     },
     "metadata": {},
     "output_type": "display_data"
    }
   ],
   "source": [
    "regfit.full = regsubsets(Salary ~ ., Hitters)\n",
    "summary(regfit.full)"
   ]
  },
  {
   "cell_type": "code",
   "execution_count": 12,
   "id": "720d0758",
   "metadata": {},
   "outputs": [
    {
     "data": {
      "text/html": [
       "<ol class=list-inline>\n",
       "\t<li>'which'</li>\n",
       "\t<li>'rsq'</li>\n",
       "\t<li>'rss'</li>\n",
       "\t<li>'adjr2'</li>\n",
       "\t<li>'cp'</li>\n",
       "\t<li>'bic'</li>\n",
       "\t<li>'outmat'</li>\n",
       "\t<li>'obj'</li>\n",
       "</ol>\n"
      ],
      "text/latex": [
       "\\begin{enumerate*}\n",
       "\\item 'which'\n",
       "\\item 'rsq'\n",
       "\\item 'rss'\n",
       "\\item 'adjr2'\n",
       "\\item 'cp'\n",
       "\\item 'bic'\n",
       "\\item 'outmat'\n",
       "\\item 'obj'\n",
       "\\end{enumerate*}\n"
      ],
      "text/markdown": [
       "1. 'which'\n",
       "2. 'rsq'\n",
       "3. 'rss'\n",
       "4. 'adjr2'\n",
       "5. 'cp'\n",
       "6. 'bic'\n",
       "7. 'outmat'\n",
       "8. 'obj'\n",
       "\n",
       "\n"
      ],
      "text/plain": [
       "[1] \"which\"  \"rsq\"    \"rss\"    \"adjr2\"  \"cp\"     \"bic\"    \"outmat\" \"obj\"   "
      ]
     },
     "metadata": {},
     "output_type": "display_data"
    }
   ],
   "source": [
    "regfit.full = regsubsets(Salary ~ ., Hitters, nvmax = 19)\n",
    "reg.summary = summary(regfit.full)\n",
    "names(reg.summary)"
   ]
  },
  {
   "cell_type": "code",
   "execution_count": 13,
   "id": "91864039",
   "metadata": {},
   "outputs": [
    {
     "data": {
      "text/html": [
       "<ol class=list-inline>\n",
       "\t<li>0.321450088667894</li>\n",
       "\t<li>0.425223746466778</li>\n",
       "\t<li>0.451429415717957</li>\n",
       "\t<li>0.475406653394787</li>\n",
       "\t<li>0.490803615963518</li>\n",
       "\t<li>0.508714557358996</li>\n",
       "\t<li>0.514122682361273</li>\n",
       "\t<li>0.528556860302574</li>\n",
       "\t<li>0.534612447792431</li>\n",
       "\t<li>0.540494950940798</li>\n",
       "\t<li>0.54261532542542</li>\n",
       "\t<li>0.543630208632163</li>\n",
       "\t<li>0.544457014231977</li>\n",
       "\t<li>0.545216356301489</li>\n",
       "\t<li>0.545469230681164</li>\n",
       "\t<li>0.54576555748528</li>\n",
       "\t<li>0.545951808076699</li>\n",
       "\t<li>0.546094522341906</li>\n",
       "\t<li>0.546115861912532</li>\n",
       "</ol>\n"
      ],
      "text/latex": [
       "\\begin{enumerate*}\n",
       "\\item 0.321450088667894\n",
       "\\item 0.425223746466778\n",
       "\\item 0.451429415717957\n",
       "\\item 0.475406653394787\n",
       "\\item 0.490803615963518\n",
       "\\item 0.508714557358996\n",
       "\\item 0.514122682361273\n",
       "\\item 0.528556860302574\n",
       "\\item 0.534612447792431\n",
       "\\item 0.540494950940798\n",
       "\\item 0.54261532542542\n",
       "\\item 0.543630208632163\n",
       "\\item 0.544457014231977\n",
       "\\item 0.545216356301489\n",
       "\\item 0.545469230681164\n",
       "\\item 0.54576555748528\n",
       "\\item 0.545951808076699\n",
       "\\item 0.546094522341906\n",
       "\\item 0.546115861912532\n",
       "\\end{enumerate*}\n"
      ],
      "text/markdown": [
       "1. 0.321450088667894\n",
       "2. 0.425223746466778\n",
       "3. 0.451429415717957\n",
       "4. 0.475406653394787\n",
       "5. 0.490803615963518\n",
       "6. 0.508714557358996\n",
       "7. 0.514122682361273\n",
       "8. 0.528556860302574\n",
       "9. 0.534612447792431\n",
       "10. 0.540494950940798\n",
       "11. 0.54261532542542\n",
       "12. 0.543630208632163\n",
       "13. 0.544457014231977\n",
       "14. 0.545216356301489\n",
       "15. 0.545469230681164\n",
       "16. 0.54576555748528\n",
       "17. 0.545951808076699\n",
       "18. 0.546094522341906\n",
       "19. 0.546115861912532\n",
       "\n",
       "\n"
      ],
      "text/plain": [
       " [1] 0.3214501 0.4252237 0.4514294 0.4754067 0.4908036 0.5087146 0.5141227\n",
       " [8] 0.5285569 0.5346124 0.5404950 0.5426153 0.5436302 0.5444570 0.5452164\n",
       "[15] 0.5454692 0.5457656 0.5459518 0.5460945 0.5461159"
      ]
     },
     "metadata": {},
     "output_type": "display_data"
    }
   ],
   "source": [
    "reg.summary$rsq"
   ]
  },
  {
   "cell_type": "code",
   "execution_count": 15,
   "id": "d2434f20",
   "metadata": {},
   "outputs": [
    {
     "data": {
      "text/html": [
       "11"
      ],
      "text/latex": [
       "11"
      ],
      "text/markdown": [
       "11"
      ],
      "text/plain": [
       "[1] 11"
      ]
     },
     "metadata": {},
     "output_type": "display_data"
    }
   ],
   "source": [
    "which.max(reg.summary$adjr2)"
   ]
  },
  {
   "cell_type": "code",
   "execution_count": 16,
   "id": "00d750fc",
   "metadata": {},
   "outputs": [
    {
     "data": {
      "text/html": [
       "10"
      ],
      "text/latex": [
       "10"
      ],
      "text/markdown": [
       "10"
      ],
      "text/plain": [
       "[1] 10"
      ]
     },
     "metadata": {},
     "output_type": "display_data"
    }
   ],
   "source": [
    "which.min(reg.summary$cp)"
   ]
  },
  {
   "cell_type": "code",
   "execution_count": 18,
   "id": "168769a3",
   "metadata": {},
   "outputs": [
    {
     "data": {
      "text/html": [
       "6"
      ],
      "text/latex": [
       "6"
      ],
      "text/markdown": [
       "6"
      ],
      "text/plain": [
       "[1] 6"
      ]
     },
     "metadata": {},
     "output_type": "display_data"
    }
   ],
   "source": [
    "which.min(reg.summary$bic)"
   ]
  },
  {
   "cell_type": "code",
   "execution_count": 19,
   "id": "66eb274c",
   "metadata": {},
   "outputs": [
    {
     "data": {
      "image/png": "[encoded data removed]",
      "text/plain": [
       "plot without title"
      ]
     },
     "metadata": {},
     "output_type": "display_data"
    }
   ],
   "source": [
    "par(mfrow = c(2, 2))\n",
    "\n",
    "plot(reg.summary$rss, xlab = 'Number of Variables', ylab = 'RSS', type = 'l')\n",
    "\n",
    "plot(reg.summary$adjr2, xlab = 'Number of Variables', ylab = 'Adjusted RSq', type = 'l')\n",
    "points(11, reg.summary$adjr2[11], col = 'red', cex = 2, pch = 20)\n",
    "\n",
    "plot(reg.summary$cp, xlab = 'Number of Variables', ylab = 'Cp', type = 'l')\n",
    "points(10, reg.summary$cp[10], col = 'red', cex = 2, pch = 20)\n",
    "\n",
    "plot(reg.summary$bic, xlab = 'Number of Variables', ylab = 'BIC', type = 'l')\n",
    "points(6, reg.summary$bic[6], col = 'red', cex = 2, pch = 20)"
   ]
  },
  {
   "cell_type": "code",
   "execution_count": 21,
   "id": "b27b49ba",
   "metadata": {},
   "outputs": [
    {
     "data": {
      "image/png": "[encoded data removed]",
      "text/plain": [
       "plot without title"
      ]
     },
     "metadata": {},
     "output_type": "display_data"
    }
   ],
   "source": [
    "par(mfrow = c(2, 2))\n",
    "\n",
    "plot(regfit.full, scale = 'r2')\n",
    "plot(regfit.full, scale = 'adjr2')\n",
    "plot(regfit.full, scale = 'Cp')\n",
    "plot(regfit.full, scale = 'bic')"
   ]
  },
  {
   "cell_type": "code",
   "execution_count": 22,
   "id": "af6ace83",
   "metadata": {},
   "outputs": [
    {
     "data": {
      "text/html": [
       "<dl class=dl-horizontal>\n",
       "\t<dt>(Intercept)</dt>\n",
       "\t\t<dd>91.5117981171539</dd>\n",
       "\t<dt>AtBat</dt>\n",
       "\t\t<dd>-1.86858923135561</dd>\n",
       "\t<dt>Hits</dt>\n",
       "\t\t<dd>7.60439763117204</dd>\n",
       "\t<dt>Walks</dt>\n",
       "\t\t<dd>3.69764677424139</dd>\n",
       "\t<dt>CRBI</dt>\n",
       "\t\t<dd>0.643016935097332</dd>\n",
       "\t<dt>DivisionW</dt>\n",
       "\t\t<dd>-122.95153377292</dd>\n",
       "\t<dt>PutOuts</dt>\n",
       "\t\t<dd>0.264307605461511</dd>\n",
       "</dl>\n"
      ],
      "text/latex": [
       "\\begin{description*}\n",
       "\\item[(Intercept)] 91.5117981171539\n",
       "\\item[AtBat] -1.86858923135561\n",
       "\\item[Hits] 7.60439763117204\n",
       "\\item[Walks] 3.69764677424139\n",
       "\\item[CRBI] 0.643016935097332\n",
       "\\item[DivisionW] -122.95153377292\n",
       "\\item[PutOuts] 0.264307605461511\n",
       "\\end{description*}\n"
      ],
      "text/markdown": [
       "(Intercept)\n",
       ":   91.5117981171539AtBat\n",
       ":   -1.86858923135561Hits\n",
       ":   7.60439763117204Walks\n",
       ":   3.69764677424139CRBI\n",
       ":   0.643016935097332DivisionW\n",
       ":   -122.95153377292PutOuts\n",
       ":   0.264307605461511\n",
       "\n"
      ],
      "text/plain": [
       " (Intercept)        AtBat         Hits        Walks         CRBI    DivisionW \n",
       "  91.5117981   -1.8685892    7.6043976    3.6976468    0.6430169 -122.9515338 \n",
       "     PutOuts \n",
       "   0.2643076 "
      ]
     },
     "metadata": {},
     "output_type": "display_data"
    }
   ],
   "source": [
    "coef(regfit.full, 6)"
   ]
  },
  {
   "cell_type": "markdown",
   "id": "eda2a698",
   "metadata": {},
   "source": [
    "# Forward and Backward Stepwise Selection"
   ]
  },
  {
   "cell_type": "code",
   "execution_count": 23,
   "id": "ab2008a6",
   "metadata": {},
   "outputs": [
    {
     "data": {
      "text/plain": [
       "Subset selection object\n",
       "Call: regsubsets.formula(Salary ~ ., Hitters, nvmax = 19, method = \"forward\")\n",
       "19 Variables  (and intercept)\n",
       "           Forced in Forced out\n",
       "AtBat          FALSE      FALSE\n",
       "Hits           FALSE      FALSE\n",
       "HmRun          FALSE      FALSE\n",
       "Runs           FALSE      FALSE\n",
       "RBI            FALSE      FALSE\n",
       "Walks          FALSE      FALSE\n",
       "Years          FALSE      FALSE\n",
       "CAtBat         FALSE      FALSE\n",
       "CHits          FALSE      FALSE\n",
       "CHmRun         FALSE      FALSE\n",
       "CRuns          FALSE      FALSE\n",
       "CRBI           FALSE      FALSE\n",
       "CWalks         FALSE      FALSE\n",
       "LeagueN        FALSE      FALSE\n",
       "DivisionW      FALSE      FALSE\n",
       "PutOuts        FALSE      FALSE\n",
       "Assists        FALSE      FALSE\n",
       "Errors         FALSE      FALSE\n",
       "NewLeagueN     FALSE      FALSE\n",
       "1 subsets of each size up to 19\n",
       "Selection Algorithm: forward\n",
       "          AtBat Hits HmRun Runs RBI Walks Years CAtBat CHits CHmRun CRuns CRBI\n",
       "1  ( 1 )  \" \"   \" \"  \" \"   \" \"  \" \" \" \"   \" \"   \" \"    \" \"   \" \"    \" \"   \"*\" \n",
       "2  ( 1 )  \" \"   \"*\"  \" \"   \" \"  \" \" \" \"   \" \"   \" \"    \" \"   \" \"    \" \"   \"*\" \n",
       "3  ( 1 )  \" \"   \"*\"  \" \"   \" \"  \" \" \" \"   \" \"   \" \"    \" \"   \" \"    \" \"   \"*\" \n",
       "4  ( 1 )  \" \"   \"*\"  \" \"   \" \"  \" \" \" \"   \" \"   \" \"    \" \"   \" \"    \" \"   \"*\" \n",
       "5  ( 1 )  \"*\"   \"*\"  \" \"   \" \"  \" \" \" \"   \" \"   \" \"    \" \"   \" \"    \" \"   \"*\" \n",
       "6  ( 1 )  \"*\"   \"*\"  \" \"   \" \"  \" \" \"*\"   \" \"   \" \"    \" \"   \" \"    \" \"   \"*\" \n",
       "7  ( 1 )  \"*\"   \"*\"  \" \"   \" \"  \" \" \"*\"   \" \"   \" \"    \" \"   \" \"    \" \"   \"*\" \n",
       "8  ( 1 )  \"*\"   \"*\"  \" \"   \" \"  \" \" \"*\"   \" \"   \" \"    \" \"   \" \"    \"*\"   \"*\" \n",
       "9  ( 1 )  \"*\"   \"*\"  \" \"   \" \"  \" \" \"*\"   \" \"   \"*\"    \" \"   \" \"    \"*\"   \"*\" \n",
       "10  ( 1 ) \"*\"   \"*\"  \" \"   \" \"  \" \" \"*\"   \" \"   \"*\"    \" \"   \" \"    \"*\"   \"*\" \n",
       "11  ( 1 ) \"*\"   \"*\"  \" \"   \" \"  \" \" \"*\"   \" \"   \"*\"    \" \"   \" \"    \"*\"   \"*\" \n",
       "12  ( 1 ) \"*\"   \"*\"  \" \"   \"*\"  \" \" \"*\"   \" \"   \"*\"    \" \"   \" \"    \"*\"   \"*\" \n",
       "13  ( 1 ) \"*\"   \"*\"  \" \"   \"*\"  \" \" \"*\"   \" \"   \"*\"    \" \"   \" \"    \"*\"   \"*\" \n",
       "14  ( 1 ) \"*\"   \"*\"  \"*\"   \"*\"  \" \" \"*\"   \" \"   \"*\"    \" \"   \" \"    \"*\"   \"*\" \n",
       "15  ( 1 ) \"*\"   \"*\"  \"*\"   \"*\"  \" \" \"*\"   \" \"   \"*\"    \"*\"   \" \"    \"*\"   \"*\" \n",
       "16  ( 1 ) \"*\"   \"*\"  \"*\"   \"*\"  \"*\" \"*\"   \" \"   \"*\"    \"*\"   \" \"    \"*\"   \"*\" \n",
       "17  ( 1 ) \"*\"   \"*\"  \"*\"   \"*\"  \"*\" \"*\"   \" \"   \"*\"    \"*\"   \" \"    \"*\"   \"*\" \n",
       "18  ( 1 ) \"*\"   \"*\"  \"*\"   \"*\"  \"*\" \"*\"   \"*\"   \"*\"    \"*\"   \" \"    \"*\"   \"*\" \n",
       "19  ( 1 ) \"*\"   \"*\"  \"*\"   \"*\"  \"*\" \"*\"   \"*\"   \"*\"    \"*\"   \"*\"    \"*\"   \"*\" \n",
       "          CWalks LeagueN DivisionW PutOuts Assists Errors NewLeagueN\n",
       "1  ( 1 )  \" \"    \" \"     \" \"       \" \"     \" \"     \" \"    \" \"       \n",
       "2  ( 1 )  \" \"    \" \"     \" \"       \" \"     \" \"     \" \"    \" \"       \n",
       "3  ( 1 )  \" \"    \" \"     \" \"       \"*\"     \" \"     \" \"    \" \"       \n",
       "4  ( 1 )  \" \"    \" \"     \"*\"       \"*\"     \" \"     \" \"    \" \"       \n",
       "5  ( 1 )  \" \"    \" \"     \"*\"       \"*\"     \" \"     \" \"    \" \"       \n",
       "6  ( 1 )  \" \"    \" \"     \"*\"       \"*\"     \" \"     \" \"    \" \"       \n",
       "7  ( 1 )  \"*\"    \" \"     \"*\"       \"*\"     \" \"     \" \"    \" \"       \n",
       "8  ( 1 )  \"*\"    \" \"     \"*\"       \"*\"     \" \"     \" \"    \" \"       \n",
       "9  ( 1 )  \"*\"    \" \"     \"*\"       \"*\"     \" \"     \" \"    \" \"       \n",
       "10  ( 1 ) \"*\"    \" \"     \"*\"       \"*\"     \"*\"     \" \"    \" \"       \n",
       "11  ( 1 ) \"*\"    \"*\"     \"*\"       \"*\"     \"*\"     \" \"    \" \"       \n",
       "12  ( 1 ) \"*\"    \"*\"     \"*\"       \"*\"     \"*\"     \" \"    \" \"       \n",
       "13  ( 1 ) \"*\"    \"*\"     \"*\"       \"*\"     \"*\"     \"*\"    \" \"       \n",
       "14  ( 1 ) \"*\"    \"*\"     \"*\"       \"*\"     \"*\"     \"*\"    \" \"       \n",
       "15  ( 1 ) \"*\"    \"*\"     \"*\"       \"*\"     \"*\"     \"*\"    \" \"       \n",
       "16  ( 1 ) \"*\"    \"*\"     \"*\"       \"*\"     \"*\"     \"*\"    \" \"       \n",
       "17  ( 1 ) \"*\"    \"*\"     \"*\"       \"*\"     \"*\"     \"*\"    \"*\"       \n",
       "18  ( 1 ) \"*\"    \"*\"     \"*\"       \"*\"     \"*\"     \"*\"    \"*\"       \n",
       "19  ( 1 ) \"*\"    \"*\"     \"*\"       \"*\"     \"*\"     \"*\"    \"*\"       "
      ]
     },
     "metadata": {},
     "output_type": "display_data"
    }
   ],
   "source": [
    "regfit.fwd = regsubsets(Salary ~ ., Hitters, nvmax = 19, method = 'forward')\n",
    "summary(regfit.fwd)"
   ]
  },
  {
   "cell_type": "code",
   "execution_count": 24,
   "id": "1ebe9832",
   "metadata": {},
   "outputs": [
    {
     "data": {
      "text/plain": [
       "Subset selection object\n",
       "Call: regsubsets.formula(Salary ~ ., Hitters, nvmax = 19, method = \"backward\")\n",
       "19 Variables  (and intercept)\n",
       "           Forced in Forced out\n",
       "AtBat          FALSE      FALSE\n",
       "Hits           FALSE      FALSE\n",
       "HmRun          FALSE      FALSE\n",
       "Runs           FALSE      FALSE\n",
       "RBI            FALSE      FALSE\n",
       "Walks          FALSE      FALSE\n",
       "Years          FALSE      FALSE\n",
       "CAtBat         FALSE      FALSE\n",
       "CHits          FALSE      FALSE\n",
       "CHmRun         FALSE      FALSE\n",
       "CRuns          FALSE      FALSE\n",
       "CRBI           FALSE      FALSE\n",
       "CWalks         FALSE      FALSE\n",
       "LeagueN        FALSE      FALSE\n",
       "DivisionW      FALSE      FALSE\n",
       "PutOuts        FALSE      FALSE\n",
       "Assists        FALSE      FALSE\n",
       "Errors         FALSE      FALSE\n",
       "NewLeagueN     FALSE      FALSE\n",
       "1 subsets of each size up to 19\n",
       "Selection Algorithm: backward\n",
       "          AtBat Hits HmRun Runs RBI Walks Years CAtBat CHits CHmRun CRuns CRBI\n",
       "1  ( 1 )  \" \"   \" \"  \" \"   \" \"  \" \" \" \"   \" \"   \" \"    \" \"   \" \"    \"*\"   \" \" \n",
       "2  ( 1 )  \" \"   \"*\"  \" \"   \" \"  \" \" \" \"   \" \"   \" \"    \" \"   \" \"    \"*\"   \" \" \n",
       "3  ( 1 )  \" \"   \"*\"  \" \"   \" \"  \" \" \" \"   \" \"   \" \"    \" \"   \" \"    \"*\"   \" \" \n",
       "4  ( 1 )  \"*\"   \"*\"  \" \"   \" \"  \" \" \" \"   \" \"   \" \"    \" \"   \" \"    \"*\"   \" \" \n",
       "5  ( 1 )  \"*\"   \"*\"  \" \"   \" \"  \" \" \"*\"   \" \"   \" \"    \" \"   \" \"    \"*\"   \" \" \n",
       "6  ( 1 )  \"*\"   \"*\"  \" \"   \" \"  \" \" \"*\"   \" \"   \" \"    \" \"   \" \"    \"*\"   \" \" \n",
       "7  ( 1 )  \"*\"   \"*\"  \" \"   \" \"  \" \" \"*\"   \" \"   \" \"    \" \"   \" \"    \"*\"   \" \" \n",
       "8  ( 1 )  \"*\"   \"*\"  \" \"   \" \"  \" \" \"*\"   \" \"   \" \"    \" \"   \" \"    \"*\"   \"*\" \n",
       "9  ( 1 )  \"*\"   \"*\"  \" \"   \" \"  \" \" \"*\"   \" \"   \"*\"    \" \"   \" \"    \"*\"   \"*\" \n",
       "10  ( 1 ) \"*\"   \"*\"  \" \"   \" \"  \" \" \"*\"   \" \"   \"*\"    \" \"   \" \"    \"*\"   \"*\" \n",
       "11  ( 1 ) \"*\"   \"*\"  \" \"   \" \"  \" \" \"*\"   \" \"   \"*\"    \" \"   \" \"    \"*\"   \"*\" \n",
       "12  ( 1 ) \"*\"   \"*\"  \" \"   \"*\"  \" \" \"*\"   \" \"   \"*\"    \" \"   \" \"    \"*\"   \"*\" \n",
       "13  ( 1 ) \"*\"   \"*\"  \" \"   \"*\"  \" \" \"*\"   \" \"   \"*\"    \" \"   \" \"    \"*\"   \"*\" \n",
       "14  ( 1 ) \"*\"   \"*\"  \"*\"   \"*\"  \" \" \"*\"   \" \"   \"*\"    \" \"   \" \"    \"*\"   \"*\" \n",
       "15  ( 1 ) \"*\"   \"*\"  \"*\"   \"*\"  \" \" \"*\"   \" \"   \"*\"    \"*\"   \" \"    \"*\"   \"*\" \n",
       "16  ( 1 ) \"*\"   \"*\"  \"*\"   \"*\"  \"*\" \"*\"   \" \"   \"*\"    \"*\"   \" \"    \"*\"   \"*\" \n",
       "17  ( 1 ) \"*\"   \"*\"  \"*\"   \"*\"  \"*\" \"*\"   \" \"   \"*\"    \"*\"   \" \"    \"*\"   \"*\" \n",
       "18  ( 1 ) \"*\"   \"*\"  \"*\"   \"*\"  \"*\" \"*\"   \"*\"   \"*\"    \"*\"   \" \"    \"*\"   \"*\" \n",
       "19  ( 1 ) \"*\"   \"*\"  \"*\"   \"*\"  \"*\" \"*\"   \"*\"   \"*\"    \"*\"   \"*\"    \"*\"   \"*\" \n",
       "          CWalks LeagueN DivisionW PutOuts Assists Errors NewLeagueN\n",
       "1  ( 1 )  \" \"    \" \"     \" \"       \" \"     \" \"     \" \"    \" \"       \n",
       "2  ( 1 )  \" \"    \" \"     \" \"       \" \"     \" \"     \" \"    \" \"       \n",
       "3  ( 1 )  \" \"    \" \"     \" \"       \"*\"     \" \"     \" \"    \" \"       \n",
       "4  ( 1 )  \" \"    \" \"     \" \"       \"*\"     \" \"     \" \"    \" \"       \n",
       "5  ( 1 )  \" \"    \" \"     \" \"       \"*\"     \" \"     \" \"    \" \"       \n",
       "6  ( 1 )  \" \"    \" \"     \"*\"       \"*\"     \" \"     \" \"    \" \"       \n",
       "7  ( 1 )  \"*\"    \" \"     \"*\"       \"*\"     \" \"     \" \"    \" \"       \n",
       "8  ( 1 )  \"*\"    \" \"     \"*\"       \"*\"     \" \"     \" \"    \" \"       \n",
       "9  ( 1 )  \"*\"    \" \"     \"*\"       \"*\"     \" \"     \" \"    \" \"       \n",
       "10  ( 1 ) \"*\"    \" \"     \"*\"       \"*\"     \"*\"     \" \"    \" \"       \n",
       "11  ( 1 ) \"*\"    \"*\"     \"*\"       \"*\"     \"*\"     \" \"    \" \"       \n",
       "12  ( 1 ) \"*\"    \"*\"     \"*\"       \"*\"     \"*\"     \" \"    \" \"       \n",
       "13  ( 1 ) \"*\"    \"*\"     \"*\"       \"*\"     \"*\"     \"*\"    \" \"       \n",
       "14  ( 1 ) \"*\"    \"*\"     \"*\"       \"*\"     \"*\"     \"*\"    \" \"       \n",
       "15  ( 1 ) \"*\"    \"*\"     \"*\"       \"*\"     \"*\"     \"*\"    \" \"       \n",
       "16  ( 1 ) \"*\"    \"*\"     \"*\"       \"*\"     \"*\"     \"*\"    \" \"       \n",
       "17  ( 1 ) \"*\"    \"*\"     \"*\"       \"*\"     \"*\"     \"*\"    \"*\"       \n",
       "18  ( 1 ) \"*\"    \"*\"     \"*\"       \"*\"     \"*\"     \"*\"    \"*\"       \n",
       "19  ( 1 ) \"*\"    \"*\"     \"*\"       \"*\"     \"*\"     \"*\"    \"*\"       "
      ]
     },
     "metadata": {},
     "output_type": "display_data"
    }
   ],
   "source": [
    "regfit.bwd = regsubsets(Salary ~ ., Hitters, nvmax = 19, method = 'backward')\n",
    "summary(regfit.bwd)"
   ]
  },
  {
   "cell_type": "code",
   "execution_count": 25,
   "id": "87636f6f",
   "metadata": {},
   "outputs": [
    {
     "data": {
      "text/html": [
       "<dl class=dl-horizontal>\n",
       "\t<dt>(Intercept)</dt>\n",
       "\t\t<dd>79.4509472435319</dd>\n",
       "\t<dt>Hits</dt>\n",
       "\t\t<dd>1.28335125463328</dd>\n",
       "\t<dt>Walks</dt>\n",
       "\t\t<dd>3.22742638972714</dd>\n",
       "\t<dt>CAtBat</dt>\n",
       "\t\t<dd>-0.375235019565453</dd>\n",
       "\t<dt>CHits</dt>\n",
       "\t\t<dd>1.49570730989869</dd>\n",
       "\t<dt>CHmRun</dt>\n",
       "\t\t<dd>1.44205381889666</dd>\n",
       "\t<dt>DivisionW</dt>\n",
       "\t\t<dd>-129.986643165116</dd>\n",
       "\t<dt>PutOuts</dt>\n",
       "\t\t<dd>0.236681317525621</dd>\n",
       "</dl>\n"
      ],
      "text/latex": [
       "\\begin{description*}\n",
       "\\item[(Intercept)] 79.4509472435319\n",
       "\\item[Hits] 1.28335125463328\n",
       "\\item[Walks] 3.22742638972714\n",
       "\\item[CAtBat] -0.375235019565453\n",
       "\\item[CHits] 1.49570730989869\n",
       "\\item[CHmRun] 1.44205381889666\n",
       "\\item[DivisionW] -129.986643165116\n",
       "\\item[PutOuts] 0.236681317525621\n",
       "\\end{description*}\n"
      ],
      "text/markdown": [
       "(Intercept)\n",
       ":   79.4509472435319Hits\n",
       ":   1.28335125463328Walks\n",
       ":   3.22742638972714CAtBat\n",
       ":   -0.375235019565453CHits\n",
       ":   1.49570730989869CHmRun\n",
       ":   1.44205381889666DivisionW\n",
       ":   -129.986643165116PutOuts\n",
       ":   0.236681317525621\n",
       "\n"
      ],
      "text/plain": [
       " (Intercept)         Hits        Walks       CAtBat        CHits       CHmRun \n",
       "  79.4509472    1.2833513    3.2274264   -0.3752350    1.4957073    1.4420538 \n",
       "   DivisionW      PutOuts \n",
       "-129.9866432    0.2366813 "
      ]
     },
     "metadata": {},
     "output_type": "display_data"
    },
    {
     "data": {
      "text/html": [
       "<dl class=dl-horizontal>\n",
       "\t<dt>(Intercept)</dt>\n",
       "\t\t<dd>109.787306240078</dd>\n",
       "\t<dt>AtBat</dt>\n",
       "\t\t<dd>-1.95888512315655</dd>\n",
       "\t<dt>Hits</dt>\n",
       "\t\t<dd>7.44987721841218</dd>\n",
       "\t<dt>Walks</dt>\n",
       "\t\t<dd>4.91314009272066</dd>\n",
       "\t<dt>CRBI</dt>\n",
       "\t\t<dd>0.853762209061578</dd>\n",
       "\t<dt>CWalks</dt>\n",
       "\t\t<dd>-0.305307000381738</dd>\n",
       "\t<dt>DivisionW</dt>\n",
       "\t\t<dd>-127.122392777488</dd>\n",
       "\t<dt>PutOuts</dt>\n",
       "\t\t<dd>0.253340431147386</dd>\n",
       "</dl>\n"
      ],
      "text/latex": [
       "\\begin{description*}\n",
       "\\item[(Intercept)] 109.787306240078\n",
       "\\item[AtBat] -1.95888512315655\n",
       "\\item[Hits] 7.44987721841218\n",
       "\\item[Walks] 4.91314009272066\n",
       "\\item[CRBI] 0.853762209061578\n",
       "\\item[CWalks] -0.305307000381738\n",
       "\\item[DivisionW] -127.122392777488\n",
       "\\item[PutOuts] 0.253340431147386\n",
       "\\end{description*}\n"
      ],
      "text/markdown": [
       "(Intercept)\n",
       ":   109.787306240078AtBat\n",
       ":   -1.95888512315655Hits\n",
       ":   7.44987721841218Walks\n",
       ":   4.91314009272066CRBI\n",
       ":   0.853762209061578CWalks\n",
       ":   -0.305307000381738DivisionW\n",
       ":   -127.122392777488PutOuts\n",
       ":   0.253340431147386\n",
       "\n"
      ],
      "text/plain": [
       " (Intercept)        AtBat         Hits        Walks         CRBI       CWalks \n",
       " 109.7873062   -1.9588851    7.4498772    4.9131401    0.8537622   -0.3053070 \n",
       "   DivisionW      PutOuts \n",
       "-127.1223928    0.2533404 "
      ]
     },
     "metadata": {},
     "output_type": "display_data"
    },
    {
     "data": {
      "text/html": [
       "<dl class=dl-horizontal>\n",
       "\t<dt>(Intercept)</dt>\n",
       "\t\t<dd>105.648748778828</dd>\n",
       "\t<dt>AtBat</dt>\n",
       "\t\t<dd>-1.97628381026618</dd>\n",
       "\t<dt>Hits</dt>\n",
       "\t\t<dd>6.75749144281392</dd>\n",
       "\t<dt>Walks</dt>\n",
       "\t\t<dd>6.05586912154598</dd>\n",
       "\t<dt>CRuns</dt>\n",
       "\t\t<dd>1.12930946903271</dd>\n",
       "\t<dt>CWalks</dt>\n",
       "\t\t<dd>-0.71633458662198</dd>\n",
       "\t<dt>DivisionW</dt>\n",
       "\t\t<dd>-116.16921690431</dd>\n",
       "\t<dt>PutOuts</dt>\n",
       "\t\t<dd>0.302884743257576</dd>\n",
       "</dl>\n"
      ],
      "text/latex": [
       "\\begin{description*}\n",
       "\\item[(Intercept)] 105.648748778828\n",
       "\\item[AtBat] -1.97628381026618\n",
       "\\item[Hits] 6.75749144281392\n",
       "\\item[Walks] 6.05586912154598\n",
       "\\item[CRuns] 1.12930946903271\n",
       "\\item[CWalks] -0.71633458662198\n",
       "\\item[DivisionW] -116.16921690431\n",
       "\\item[PutOuts] 0.302884743257576\n",
       "\\end{description*}\n"
      ],
      "text/markdown": [
       "(Intercept)\n",
       ":   105.648748778828AtBat\n",
       ":   -1.97628381026618Hits\n",
       ":   6.75749144281392Walks\n",
       ":   6.05586912154598CRuns\n",
       ":   1.12930946903271CWalks\n",
       ":   -0.71633458662198DivisionW\n",
       ":   -116.16921690431PutOuts\n",
       ":   0.302884743257576\n",
       "\n"
      ],
      "text/plain": [
       " (Intercept)        AtBat         Hits        Walks        CRuns       CWalks \n",
       " 105.6487488   -1.9762838    6.7574914    6.0558691    1.1293095   -0.7163346 \n",
       "   DivisionW      PutOuts \n",
       "-116.1692169    0.3028847 "
      ]
     },
     "metadata": {},
     "output_type": "display_data"
    }
   ],
   "source": [
    "coef(regfit.full, 7)\n",
    "coef(regfit.fwd, 7)\n",
    "coef(regfit.bwd, 7)"
   ]
  },
  {
   "cell_type": "markdown",
   "id": "af1bfe90",
   "metadata": {},
   "source": [
    "# Choosing Among Models Using the Validation Set"
   ]
  },
  {
   "cell_type": "code",
   "execution_count": 26,
   "id": "2d41caea",
   "metadata": {},
   "outputs": [],
   "source": [
    "set.seed(1)\n",
    "train = sample(c(TRUE, FALSE), nrow(Hitters), replace = TRUE)\n",
    "test = !train"
   ]
  },
  {
   "cell_type": "code",
   "execution_count": 34,
   "id": "7f1f65d2",
   "metadata": {},
   "outputs": [],
   "source": [
    "regfit.best = regsubsets(Salary ~ ., Hitters[train,], nvmax = 19)\n",
    "test.mat = model.matrix(Salary ~ ., Hitters[test,])\n",
    "val.errors = rep(NA, 19)\n",
    "for (i in 1:19) {\n",
    "  coefi = coef(regfit.best, id = i)\n",
    "  pred = test.mat[, names(coefi)] %*% coefi\n",
    "  val.errors[i] = mean((Hitters$Salary[test] - pred) ^ 2)\n",
    "}"
   ]
  },
  {
   "cell_type": "code",
   "execution_count": 35,
   "id": "40ad7183",
   "metadata": {},
   "outputs": [
    {
     "data": {
      "text/html": [
       "<ol class=list-inline>\n",
       "\t<li>164377.260362341</li>\n",
       "\t<li>144405.470709589</li>\n",
       "\t<li>152175.69459474</li>\n",
       "\t<li>145198.381708901</li>\n",
       "\t<li>137902.113680192</li>\n",
       "\t<li>139175.74540071</li>\n",
       "\t<li>126848.963422889</li>\n",
       "\t<li>136191.381502395</li>\n",
       "\t<li>132889.632125506</li>\n",
       "\t<li>135434.897163883</li>\n",
       "\t<li>136963.294656889</li>\n",
       "\t<li>140694.931446905</li>\n",
       "\t<li>140690.940552605</li>\n",
       "\t<li>141951.168986255</li>\n",
       "\t<li>141508.153781646</li>\n",
       "\t<li>142164.368072385</li>\n",
       "\t<li>141767.40236927</li>\n",
       "\t<li>142339.552749068</li>\n",
       "\t<li>142238.156755267</li>\n",
       "</ol>\n"
      ],
      "text/latex": [
       "\\begin{enumerate*}\n",
       "\\item 164377.260362341\n",
       "\\item 144405.470709589\n",
       "\\item 152175.69459474\n",
       "\\item 145198.381708901\n",
       "\\item 137902.113680192\n",
       "\\item 139175.74540071\n",
       "\\item 126848.963422889\n",
       "\\item 136191.381502395\n",
       "\\item 132889.632125506\n",
       "\\item 135434.897163883\n",
       "\\item 136963.294656889\n",
       "\\item 140694.931446905\n",
       "\\item 140690.940552605\n",
       "\\item 141951.168986255\n",
       "\\item 141508.153781646\n",
       "\\item 142164.368072385\n",
       "\\item 141767.40236927\n",
       "\\item 142339.552749068\n",
       "\\item 142238.156755267\n",
       "\\end{enumerate*}\n"
      ],
      "text/markdown": [
       "1. 164377.260362341\n",
       "2. 144405.470709589\n",
       "3. 152175.69459474\n",
       "4. 145198.381708901\n",
       "5. 137902.113680192\n",
       "6. 139175.74540071\n",
       "7. 126848.963422889\n",
       "8. 136191.381502395\n",
       "9. 132889.632125506\n",
       "10. 135434.897163883\n",
       "11. 136963.294656889\n",
       "12. 140694.931446905\n",
       "13. 140690.940552605\n",
       "14. 141951.168986255\n",
       "15. 141508.153781646\n",
       "16. 142164.368072385\n",
       "17. 141767.40236927\n",
       "18. 142339.552749068\n",
       "19. 142238.156755267\n",
       "\n",
       "\n"
      ],
      "text/plain": [
       " [1] 164377.3 144405.5 152175.7 145198.4 137902.1 139175.7 126849.0 136191.4\n",
       " [9] 132889.6 135434.9 136963.3 140694.9 140690.9 141951.2 141508.2 142164.4\n",
       "[17] 141767.4 142339.6 142238.2"
      ]
     },
     "metadata": {},
     "output_type": "display_data"
    }
   ],
   "source": [
    "val.errors"
   ]
  },
  {
   "cell_type": "code",
   "execution_count": 28,
   "id": "4b228ed1",
   "metadata": {},
   "outputs": [
    {
     "data": {
      "text/html": [
       "7"
      ],
      "text/latex": [
       "7"
      ],
      "text/markdown": [
       "7"
      ],
      "text/plain": [
       "[1] 7"
      ]
     },
     "metadata": {},
     "output_type": "display_data"
    }
   ],
   "source": [
    "which.min(val.errors)"
   ]
  },
  {
   "cell_type": "code",
   "execution_count": 29,
   "id": "be12b73b",
   "metadata": {},
   "outputs": [
    {
     "data": {
      "text/html": [
       "<dl class=dl-horizontal>\n",
       "\t<dt>(Intercept)</dt>\n",
       "\t\t<dd>67.1085369123294</dd>\n",
       "\t<dt>AtBat</dt>\n",
       "\t\t<dd>-2.14629867457481</dd>\n",
       "\t<dt>Hits</dt>\n",
       "\t\t<dd>7.01495467840133</dd>\n",
       "\t<dt>Walks</dt>\n",
       "\t\t<dd>8.07166403119075</dd>\n",
       "\t<dt>CRuns</dt>\n",
       "\t\t<dd>1.24251126334183</dd>\n",
       "\t<dt>CWalks</dt>\n",
       "\t\t<dd>-0.833784385185916</dd>\n",
       "\t<dt>DivisionW</dt>\n",
       "\t\t<dd>-118.436499846968</dd>\n",
       "\t<dt>PutOuts</dt>\n",
       "\t\t<dd>0.252692546543788</dd>\n",
       "</dl>\n"
      ],
      "text/latex": [
       "\\begin{description*}\n",
       "\\item[(Intercept)] 67.1085369123294\n",
       "\\item[AtBat] -2.14629867457481\n",
       "\\item[Hits] 7.01495467840133\n",
       "\\item[Walks] 8.07166403119075\n",
       "\\item[CRuns] 1.24251126334183\n",
       "\\item[CWalks] -0.833784385185916\n",
       "\\item[DivisionW] -118.436499846968\n",
       "\\item[PutOuts] 0.252692546543788\n",
       "\\end{description*}\n"
      ],
      "text/markdown": [
       "(Intercept)\n",
       ":   67.1085369123294AtBat\n",
       ":   -2.14629867457481Hits\n",
       ":   7.01495467840133Walks\n",
       ":   8.07166403119075CRuns\n",
       ":   1.24251126334183CWalks\n",
       ":   -0.833784385185916DivisionW\n",
       ":   -118.436499846968PutOuts\n",
       ":   0.252692546543788\n",
       "\n"
      ],
      "text/plain": [
       " (Intercept)        AtBat         Hits        Walks        CRuns       CWalks \n",
       "  67.1085369   -2.1462987    7.0149547    8.0716640    1.2425113   -0.8337844 \n",
       "   DivisionW      PutOuts \n",
       "-118.4364998    0.2526925 "
      ]
     },
     "metadata": {},
     "output_type": "display_data"
    }
   ],
   "source": [
    "coef(regfit.best, 7)"
   ]
  },
  {
   "cell_type": "code",
   "execution_count": 30,
   "id": "b46dea80",
   "metadata": {},
   "outputs": [],
   "source": [
    "predict.regsubsets = function(object, newdata, id, ...) {\n",
    "  form = as.formula(object$call[[2]])\n",
    "  mat = model.matrix(form, newdata)\n",
    "  coefi = coef(object, id = id)\n",
    "  xvars = names(coefi)\n",
    "  mat[, xvars] %*% coefi\n",
    "}"
   ]
  },
  {
   "cell_type": "code",
   "execution_count": 31,
   "id": "d84ad922",
   "metadata": {},
   "outputs": [
    {
     "data": {
      "text/html": [
       "<dl class=dl-horizontal>\n",
       "\t<dt>(Intercept)</dt>\n",
       "\t\t<dd>79.4509472435319</dd>\n",
       "\t<dt>Hits</dt>\n",
       "\t\t<dd>1.28335125463328</dd>\n",
       "\t<dt>Walks</dt>\n",
       "\t\t<dd>3.22742638972714</dd>\n",
       "\t<dt>CAtBat</dt>\n",
       "\t\t<dd>-0.375235019565453</dd>\n",
       "\t<dt>CHits</dt>\n",
       "\t\t<dd>1.49570730989869</dd>\n",
       "\t<dt>CHmRun</dt>\n",
       "\t\t<dd>1.44205381889666</dd>\n",
       "\t<dt>DivisionW</dt>\n",
       "\t\t<dd>-129.986643165116</dd>\n",
       "\t<dt>PutOuts</dt>\n",
       "\t\t<dd>0.236681317525621</dd>\n",
       "</dl>\n"
      ],
      "text/latex": [
       "\\begin{description*}\n",
       "\\item[(Intercept)] 79.4509472435319\n",
       "\\item[Hits] 1.28335125463328\n",
       "\\item[Walks] 3.22742638972714\n",
       "\\item[CAtBat] -0.375235019565453\n",
       "\\item[CHits] 1.49570730989869\n",
       "\\item[CHmRun] 1.44205381889666\n",
       "\\item[DivisionW] -129.986643165116\n",
       "\\item[PutOuts] 0.236681317525621\n",
       "\\end{description*}\n"
      ],
      "text/markdown": [
       "(Intercept)\n",
       ":   79.4509472435319Hits\n",
       ":   1.28335125463328Walks\n",
       ":   3.22742638972714CAtBat\n",
       ":   -0.375235019565453CHits\n",
       ":   1.49570730989869CHmRun\n",
       ":   1.44205381889666DivisionW\n",
       ":   -129.986643165116PutOuts\n",
       ":   0.236681317525621\n",
       "\n"
      ],
      "text/plain": [
       " (Intercept)         Hits        Walks       CAtBat        CHits       CHmRun \n",
       "  79.4509472    1.2833513    3.2274264   -0.3752350    1.4957073    1.4420538 \n",
       "   DivisionW      PutOuts \n",
       "-129.9866432    0.2366813 "
      ]
     },
     "metadata": {},
     "output_type": "display_data"
    }
   ],
   "source": [
    "regfit.best = regsubsets(Salary ~ ., Hitters, nvmax = 19)\n",
    "coef(regfit.best, 7)"
   ]
  },
  {
   "cell_type": "code",
   "execution_count": 32,
   "id": "18dd6500",
   "metadata": {},
   "outputs": [],
   "source": [
    "k = 10\n",
    "set.seed(1)\n",
    "folds = sample(1:k, nrow(Hitters), replace = TRUE)\n",
    "cv.errors = matrix(NA, k, 19, dimnames = list(NULL, paste(1:19)))\n",
    "for (j in 1:k) {\n",
    "  best.fit = regsubsets(Salary ~ ., data = Hitters[folds != j,], nvmax = 19)\n",
    "  for (i in 1:19) {\n",
    "    pred = predict(best.fit, Hitters[folds == j,], id = i)\n",
    "    cv.errors[j, i] = mean((Hitters$Salary[folds == j] - pred) ^ 2)\n",
    "  }\n",
    "}"
   ]
  },
  {
   "cell_type": "code",
   "execution_count": 36,
   "id": "10f788df",
   "metadata": {},
   "outputs": [
    {
     "data": {
      "text/html": [
       "<dl class=dl-horizontal>\n",
       "\t<dt>1</dt>\n",
       "\t\t<dd>149821.091405766</dd>\n",
       "\t<dt>2</dt>\n",
       "\t\t<dd>130922.0379764</dd>\n",
       "\t<dt>3</dt>\n",
       "\t\t<dd>139126.99031373</dd>\n",
       "\t<dt>4</dt>\n",
       "\t\t<dd>131028.824879075</dd>\n",
       "\t<dt>5</dt>\n",
       "\t\t<dd>131050.227792617</dd>\n",
       "\t<dt>6</dt>\n",
       "\t\t<dd>119538.639321733</dd>\n",
       "\t<dt>7</dt>\n",
       "\t\t<dd>124286.069572618</dd>\n",
       "\t<dt>8</dt>\n",
       "\t\t<dd>113580.024720024</dd>\n",
       "\t<dt>9</dt>\n",
       "\t\t<dd>115556.482968124</dd>\n",
       "\t<dt>10</dt>\n",
       "\t\t<dd>112216.694692405</dd>\n",
       "\t<dt>11</dt>\n",
       "\t\t<dd>113251.206611335</dd>\n",
       "\t<dt>12</dt>\n",
       "\t\t<dd>115755.928654414</dd>\n",
       "\t<dt>13</dt>\n",
       "\t\t<dd>117820.765179339</dd>\n",
       "\t<dt>14</dt>\n",
       "\t\t<dd>119481.192743936</dd>\n",
       "\t<dt>15</dt>\n",
       "\t\t<dd>120121.611555325</dd>\n",
       "\t<dt>16</dt>\n",
       "\t\t<dd>120074.319791001</dd>\n",
       "\t<dt>17</dt>\n",
       "\t\t<dd>120084.806046921</dd>\n",
       "\t<dt>18</dt>\n",
       "\t\t<dd>120085.752471046</dd>\n",
       "\t<dt>19</dt>\n",
       "\t\t<dd>120403.519222888</dd>\n",
       "</dl>\n"
      ],
      "text/latex": [
       "\\begin{description*}\n",
       "\\item[1] 149821.091405766\n",
       "\\item[2] 130922.0379764\n",
       "\\item[3] 139126.99031373\n",
       "\\item[4] 131028.824879075\n",
       "\\item[5] 131050.227792617\n",
       "\\item[6] 119538.639321733\n",
       "\\item[7] 124286.069572618\n",
       "\\item[8] 113580.024720024\n",
       "\\item[9] 115556.482968124\n",
       "\\item[10] 112216.694692405\n",
       "\\item[11] 113251.206611335\n",
       "\\item[12] 115755.928654414\n",
       "\\item[13] 117820.765179339\n",
       "\\item[14] 119481.192743936\n",
       "\\item[15] 120121.611555325\n",
       "\\item[16] 120074.319791001\n",
       "\\item[17] 120084.806046921\n",
       "\\item[18] 120085.752471046\n",
       "\\item[19] 120403.519222888\n",
       "\\end{description*}\n"
      ],
      "text/markdown": [
       "1\n",
       ":   149821.0914057662\n",
       ":   130922.03797643\n",
       ":   139126.990313734\n",
       ":   131028.8248790755\n",
       ":   131050.2277926176\n",
       ":   119538.6393217337\n",
       ":   124286.0695726188\n",
       ":   113580.0247200249\n",
       ":   115556.48296812410\n",
       ":   112216.69469240511\n",
       ":   113251.20661133512\n",
       ":   115755.92865441413\n",
       ":   117820.76517933914\n",
       ":   119481.19274393615\n",
       ":   120121.61155532516\n",
       ":   120074.31979100117\n",
       ":   120084.80604692118\n",
       ":   120085.75247104619\n",
       ":   120403.519222888\n",
       "\n"
      ],
      "text/plain": [
       "       1        2        3        4        5        6        7        8 \n",
       "149821.1 130922.0 139127.0 131028.8 131050.2 119538.6 124286.1 113580.0 \n",
       "       9       10       11       12       13       14       15       16 \n",
       "115556.5 112216.7 113251.2 115755.9 117820.8 119481.2 120121.6 120074.3 \n",
       "      17       18       19 \n",
       "120084.8 120085.8 120403.5 "
      ]
     },
     "metadata": {},
     "output_type": "display_data"
    }
   ],
   "source": [
    "mean.cv.errors = apply(cv.errors, 2, mean)\n",
    "mean.cv.errors"
   ]
  },
  {
   "cell_type": "code",
   "execution_count": 37,
   "id": "7648ee58",
   "metadata": {},
   "outputs": [
    {
     "data": {
      "image/png": "[encoded data removed]",
      "text/plain": [
       "plot without title"
      ]
     },
     "metadata": {},
     "output_type": "display_data"
    }
   ],
   "source": [
    "par(mfrow = c(1, 1))\n",
    "plot(mean.cv.errors, type = 'b')"
   ]
  },
  {
   "cell_type": "code",
   "execution_count": 38,
   "id": "cf4a76da",
   "metadata": {},
   "outputs": [
    {
     "data": {
      "text/html": [
       "<dl class=dl-horizontal>\n",
       "\t<dt>(Intercept)</dt>\n",
       "\t\t<dd>162.535442040545</dd>\n",
       "\t<dt>AtBat</dt>\n",
       "\t\t<dd>-2.16865005340437</dd>\n",
       "\t<dt>Hits</dt>\n",
       "\t\t<dd>6.91801749476659</dd>\n",
       "\t<dt>Walks</dt>\n",
       "\t\t<dd>5.7732246470264</dd>\n",
       "\t<dt>CAtBat</dt>\n",
       "\t\t<dd>-0.130079783913646</dd>\n",
       "\t<dt>CRuns</dt>\n",
       "\t\t<dd>1.40824900877044</dd>\n",
       "\t<dt>CRBI</dt>\n",
       "\t\t<dd>0.774312153250204</dd>\n",
       "\t<dt>CWalks</dt>\n",
       "\t\t<dd>-0.830826351501743</dd>\n",
       "\t<dt>DivisionW</dt>\n",
       "\t\t<dd>-112.380057493543</dd>\n",
       "\t<dt>PutOuts</dt>\n",
       "\t\t<dd>0.297372596603942</dd>\n",
       "\t<dt>Assists</dt>\n",
       "\t\t<dd>0.283168028635278</dd>\n",
       "</dl>\n"
      ],
      "text/latex": [
       "\\begin{description*}\n",
       "\\item[(Intercept)] 162.535442040545\n",
       "\\item[AtBat] -2.16865005340437\n",
       "\\item[Hits] 6.91801749476659\n",
       "\\item[Walks] 5.7732246470264\n",
       "\\item[CAtBat] -0.130079783913646\n",
       "\\item[CRuns] 1.40824900877044\n",
       "\\item[CRBI] 0.774312153250204\n",
       "\\item[CWalks] -0.830826351501743\n",
       "\\item[DivisionW] -112.380057493543\n",
       "\\item[PutOuts] 0.297372596603942\n",
       "\\item[Assists] 0.283168028635278\n",
       "\\end{description*}\n"
      ],
      "text/markdown": [
       "(Intercept)\n",
       ":   162.535442040545AtBat\n",
       ":   -2.16865005340437Hits\n",
       ":   6.91801749476659Walks\n",
       ":   5.7732246470264CAtBat\n",
       ":   -0.130079783913646CRuns\n",
       ":   1.40824900877044CRBI\n",
       ":   0.774312153250204CWalks\n",
       ":   -0.830826351501743DivisionW\n",
       ":   -112.380057493543PutOuts\n",
       ":   0.297372596603942Assists\n",
       ":   0.283168028635278\n",
       "\n"
      ],
      "text/plain": [
       " (Intercept)        AtBat         Hits        Walks       CAtBat        CRuns \n",
       " 162.5354420   -2.1686501    6.9180175    5.7732246   -0.1300798    1.4082490 \n",
       "        CRBI       CWalks    DivisionW      PutOuts      Assists \n",
       "   0.7743122   -0.8308264 -112.3800575    0.2973726    0.2831680 "
      ]
     },
     "metadata": {},
     "output_type": "display_data"
    }
   ],
   "source": [
    "reg.best = regsubsets(Salary ~ ., Hitters, nvmax = 19)\n",
    "coef(reg.best, 10)"
   ]
  },
  {
   "cell_type": "code",
   "execution_count": null,
   "id": "4bc11b4a",
   "metadata": {},
   "outputs": [],
   "source": []
  }
 ],
 "metadata": {
  "kernelspec": {
   "display_name": "R",
   "language": "R",
   "name": "ir"
  },
  "language_info": {
   "codemirror_mode": "r",
   "file_extension": ".r",
   "mimetype": "text/x-r-source",
   "name": "R",
   "pygments_lexer": "r",
   "version": "3.6.1"
  }
 },
 "nbformat": 4,
 "nbformat_minor": 5
}
