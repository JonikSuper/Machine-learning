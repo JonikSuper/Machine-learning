{
 "cells": [
  {
   "cell_type": "markdown",
   "metadata": {},
   "source": [
    "# Best Subset Selection"
   ]
  },
  {
   "cell_type": "code",
   "execution_count": 25,
   "metadata": {},
   "outputs": [],
   "source": [
    "import pandas as pd\n",
    "import numpy as np\n",
    "import matplotlib.pyplot as plt\n",
    "import seaborn as sns\n",
    "import statsmodels.api as sm\n",
    "from tqdm import tqdm\n",
    "from itertools import combinations\n",
    "from operator import itemgetter\n",
    "from sklearn.metrics import mean_squared_error\n",
    "from sklearn.model_selection import KFold\n",
    "\n",
    "%matplotlib inline\n",
    "plt.style.use('ggplot')"
   ]
  },
  {
   "cell_type": "code",
   "execution_count": 2,
   "metadata": {},
   "outputs": [
    {
     "name": "stdout",
     "output_type": "stream",
     "text": [
      "<class 'pandas.core.frame.DataFrame'>\n",
      "Index: 322 entries, -Andy Allanson to -Willie Wilson\n",
      "Data columns (total 20 columns):\n",
      " #   Column     Non-Null Count  Dtype  \n",
      "---  ------     --------------  -----  \n",
      " 0   AtBat      322 non-null    int64  \n",
      " 1   Hits       322 non-null    int64  \n",
      " 2   HmRun      322 non-null    int64  \n",
      " 3   Runs       322 non-null    int64  \n",
      " 4   RBI        322 non-null    int64  \n",
      " 5   Walks      322 non-null    int64  \n",
      " 6   Years      322 non-null    int64  \n",
      " 7   CAtBat     322 non-null    int64  \n",
      " 8   CHits      322 non-null    int64  \n",
      " 9   CHmRun     322 non-null    int64  \n",
      " 10  CRuns      322 non-null    int64  \n",
      " 11  CRBI       322 non-null    int64  \n",
      " 12  CWalks     322 non-null    int64  \n",
      " 13  League     322 non-null    object \n",
      " 14  Division   322 non-null    object \n",
      " 15  PutOuts    322 non-null    int64  \n",
      " 16  Assists    322 non-null    int64  \n",
      " 17  Errors     322 non-null    int64  \n",
      " 18  Salary     263 non-null    float64\n",
      " 19  NewLeague  322 non-null    object \n",
      "dtypes: float64(1), int64(16), object(3)\n",
      "memory usage: 52.8+ KB\n"
     ]
    }
   ],
   "source": [
    "hitters = pd.read_csv('./Downloads/Hitters.csv', index_col=0)\n",
    "hitters.info()"
   ]
  },
  {
   "cell_type": "code",
   "execution_count": 3,
   "metadata": {},
   "outputs": [
    {
     "data": {
      "text/plain": [
       "59"
      ]
     },
     "execution_count": 3,
     "metadata": {},
     "output_type": "execute_result"
    }
   ],
   "source": [
    "hitters.isnull().sum().sum()"
   ]
  },
  {
   "cell_type": "code",
   "execution_count": 4,
   "metadata": {},
   "outputs": [
    {
     "data": {
      "text/plain": [
       "False"
      ]
     },
     "execution_count": 4,
     "metadata": {},
     "output_type": "execute_result"
    }
   ],
   "source": [
    "hitters.dropna(inplace=True)\n",
    "hitters.isnull().values.any()"
   ]
  },
  {
   "cell_type": "code",
   "execution_count": 5,
   "metadata": {},
   "outputs": [
    {
     "name": "stdout",
     "output_type": "stream",
     "text": [
      "<class 'pandas.core.frame.DataFrame'>\n",
      "Index: 263 entries, -Alan Ashby to -Willie Wilson\n",
      "Data columns (total 20 columns):\n",
      " #   Column       Non-Null Count  Dtype  \n",
      "---  ------       --------------  -----  \n",
      " 0   AtBat        263 non-null    int64  \n",
      " 1   Hits         263 non-null    int64  \n",
      " 2   HmRun        263 non-null    int64  \n",
      " 3   Runs         263 non-null    int64  \n",
      " 4   RBI          263 non-null    int64  \n",
      " 5   Walks        263 non-null    int64  \n",
      " 6   Years        263 non-null    int64  \n",
      " 7   CAtBat       263 non-null    int64  \n",
      " 8   CHits        263 non-null    int64  \n",
      " 9   CHmRun       263 non-null    int64  \n",
      " 10  CRuns        263 non-null    int64  \n",
      " 11  CRBI         263 non-null    int64  \n",
      " 12  CWalks       263 non-null    int64  \n",
      " 13  PutOuts      263 non-null    int64  \n",
      " 14  Assists      263 non-null    int64  \n",
      " 15  Errors       263 non-null    int64  \n",
      " 16  Salary       263 non-null    float64\n",
      " 17  League_N     263 non-null    uint8  \n",
      " 18  Division_W   263 non-null    uint8  \n",
      " 19  NewLeague_N  263 non-null    uint8  \n",
      "dtypes: float64(1), int64(16), uint8(3)\n",
      "memory usage: 37.8+ KB\n"
     ]
    }
   ],
   "source": [
    "hitters_df = pd.get_dummies(hitters, drop_first=True)\n",
    "hitters_df.info()"
   ]
  },
  {
   "cell_type": "code",
   "execution_count": 6,
   "metadata": {},
   "outputs": [
    {
     "data": {
      "text/html": [
       "<div>\n",
       "<style scoped>\n",
       "    .dataframe tbody tr th:only-of-type {\n",
       "        vertical-align: middle;\n",
       "    }\n",
       "\n",
       "    .dataframe tbody tr th {\n",
       "        vertical-align: top;\n",
       "    }\n",
       "\n",
       "    .dataframe thead th {\n",
       "        text-align: right;\n",
       "    }\n",
       "</style>\n",
       "<table border=\"1\" class=\"dataframe\">\n",
       "  <thead>\n",
       "    <tr style=\"text-align: right;\">\n",
       "      <th></th>\n",
       "      <th>AtBat</th>\n",
       "      <th>Hits</th>\n",
       "      <th>HmRun</th>\n",
       "      <th>Runs</th>\n",
       "      <th>RBI</th>\n",
       "      <th>Walks</th>\n",
       "      <th>Years</th>\n",
       "      <th>CAtBat</th>\n",
       "      <th>CHits</th>\n",
       "      <th>CHmRun</th>\n",
       "      <th>CRuns</th>\n",
       "      <th>CRBI</th>\n",
       "      <th>CWalks</th>\n",
       "      <th>PutOuts</th>\n",
       "      <th>Assists</th>\n",
       "      <th>Errors</th>\n",
       "      <th>Salary</th>\n",
       "      <th>League_N</th>\n",
       "      <th>Division_W</th>\n",
       "      <th>NewLeague_N</th>\n",
       "    </tr>\n",
       "  </thead>\n",
       "  <tbody>\n",
       "    <tr>\n",
       "      <th>-Alan Ashby</th>\n",
       "      <td>315</td>\n",
       "      <td>81</td>\n",
       "      <td>7</td>\n",
       "      <td>24</td>\n",
       "      <td>38</td>\n",
       "      <td>39</td>\n",
       "      <td>14</td>\n",
       "      <td>3449</td>\n",
       "      <td>835</td>\n",
       "      <td>69</td>\n",
       "      <td>321</td>\n",
       "      <td>414</td>\n",
       "      <td>375</td>\n",
       "      <td>632</td>\n",
       "      <td>43</td>\n",
       "      <td>10</td>\n",
       "      <td>475.0</td>\n",
       "      <td>1</td>\n",
       "      <td>1</td>\n",
       "      <td>1</td>\n",
       "    </tr>\n",
       "    <tr>\n",
       "      <th>-Alvin Davis</th>\n",
       "      <td>479</td>\n",
       "      <td>130</td>\n",
       "      <td>18</td>\n",
       "      <td>66</td>\n",
       "      <td>72</td>\n",
       "      <td>76</td>\n",
       "      <td>3</td>\n",
       "      <td>1624</td>\n",
       "      <td>457</td>\n",
       "      <td>63</td>\n",
       "      <td>224</td>\n",
       "      <td>266</td>\n",
       "      <td>263</td>\n",
       "      <td>880</td>\n",
       "      <td>82</td>\n",
       "      <td>14</td>\n",
       "      <td>480.0</td>\n",
       "      <td>0</td>\n",
       "      <td>1</td>\n",
       "      <td>0</td>\n",
       "    </tr>\n",
       "    <tr>\n",
       "      <th>-Andre Dawson</th>\n",
       "      <td>496</td>\n",
       "      <td>141</td>\n",
       "      <td>20</td>\n",
       "      <td>65</td>\n",
       "      <td>78</td>\n",
       "      <td>37</td>\n",
       "      <td>11</td>\n",
       "      <td>5628</td>\n",
       "      <td>1575</td>\n",
       "      <td>225</td>\n",
       "      <td>828</td>\n",
       "      <td>838</td>\n",
       "      <td>354</td>\n",
       "      <td>200</td>\n",
       "      <td>11</td>\n",
       "      <td>3</td>\n",
       "      <td>500.0</td>\n",
       "      <td>1</td>\n",
       "      <td>0</td>\n",
       "      <td>1</td>\n",
       "    </tr>\n",
       "    <tr>\n",
       "      <th>-Andres Galarraga</th>\n",
       "      <td>321</td>\n",
       "      <td>87</td>\n",
       "      <td>10</td>\n",
       "      <td>39</td>\n",
       "      <td>42</td>\n",
       "      <td>30</td>\n",
       "      <td>2</td>\n",
       "      <td>396</td>\n",
       "      <td>101</td>\n",
       "      <td>12</td>\n",
       "      <td>48</td>\n",
       "      <td>46</td>\n",
       "      <td>33</td>\n",
       "      <td>805</td>\n",
       "      <td>40</td>\n",
       "      <td>4</td>\n",
       "      <td>91.5</td>\n",
       "      <td>1</td>\n",
       "      <td>0</td>\n",
       "      <td>1</td>\n",
       "    </tr>\n",
       "    <tr>\n",
       "      <th>-Alfredo Griffin</th>\n",
       "      <td>594</td>\n",
       "      <td>169</td>\n",
       "      <td>4</td>\n",
       "      <td>74</td>\n",
       "      <td>51</td>\n",
       "      <td>35</td>\n",
       "      <td>11</td>\n",
       "      <td>4408</td>\n",
       "      <td>1133</td>\n",
       "      <td>19</td>\n",
       "      <td>501</td>\n",
       "      <td>336</td>\n",
       "      <td>194</td>\n",
       "      <td>282</td>\n",
       "      <td>421</td>\n",
       "      <td>25</td>\n",
       "      <td>750.0</td>\n",
       "      <td>0</td>\n",
       "      <td>1</td>\n",
       "      <td>0</td>\n",
       "    </tr>\n",
       "  </tbody>\n",
       "</table>\n",
       "</div>"
      ],
      "text/plain": [
       "                   AtBat  Hits  HmRun  Runs  RBI  Walks  Years  CAtBat  CHits  \\\n",
       "-Alan Ashby          315    81      7    24   38     39     14    3449    835   \n",
       "-Alvin Davis         479   130     18    66   72     76      3    1624    457   \n",
       "-Andre Dawson        496   141     20    65   78     37     11    5628   1575   \n",
       "-Andres Galarraga    321    87     10    39   42     30      2     396    101   \n",
       "-Alfredo Griffin     594   169      4    74   51     35     11    4408   1133   \n",
       "\n",
       "                   CHmRun  CRuns  CRBI  CWalks  PutOuts  Assists  Errors  \\\n",
       "-Alan Ashby            69    321   414     375      632       43      10   \n",
       "-Alvin Davis           63    224   266     263      880       82      14   \n",
       "-Andre Dawson         225    828   838     354      200       11       3   \n",
       "-Andres Galarraga      12     48    46      33      805       40       4   \n",
       "-Alfredo Griffin       19    501   336     194      282      421      25   \n",
       "\n",
       "                   Salary  League_N  Division_W  NewLeague_N  \n",
       "-Alan Ashby         475.0         1           1            1  \n",
       "-Alvin Davis        480.0         0           1            0  \n",
       "-Andre Dawson       500.0         1           0            1  \n",
       "-Andres Galarraga    91.5         1           0            1  \n",
       "-Alfredo Griffin    750.0         0           1            0  "
      ]
     },
     "execution_count": 6,
     "metadata": {},
     "output_type": "execute_result"
    }
   ],
   "source": [
    "hitters_df.head()"
   ]
  },
  {
   "cell_type": "code",
   "execution_count": 7,
   "metadata": {},
   "outputs": [],
   "source": [
    "def best_subset(df, max_feats=8):\n",
    "    preds = df.drop('Salary', axis=1)\n",
    "\n",
    "    def lin_mod(features):\n",
    "        X = sm.add_constant(df[features])\n",
    "        y = df['Salary']\n",
    "        \n",
    "        est = sm.OLS(y, X).fit()\n",
    "\n",
    "        return est, est.ssr\n",
    "\n",
    "    def best_model(k):\n",
    "        results = []\n",
    "        for combo in combinations(preds, k):\n",
    "            results.append(lin_mod(list(combo)))\n",
    "\n",
    "        return sorted(results, key=itemgetter(1)).pop(0)[0]\n",
    "\n",
    "    models = []\n",
    "    for k in tqdm(range(1, max_feats+1)):\n",
    "        models.append(best_model(k))\n",
    "        \n",
    "    return models"
   ]
  },
  {
   "cell_type": "code",
   "execution_count": 8,
   "metadata": {},
   "outputs": [
    {
     "name": "stderr",
     "output_type": "stream",
     "text": [
      "100%|████████████████████████████████████████████████████████████████████████████████████| 8/8 [06:25<00:00, 48.13s/it]\n"
     ]
    }
   ],
   "source": [
    "models = best_subset(hitters_df)"
   ]
  },
  {
   "cell_type": "code",
   "execution_count": 9,
   "metadata": {},
   "outputs": [
    {
     "name": "stdout",
     "output_type": "stream",
     "text": [
      "1.0 ['CRBI']\n",
      "2.0 ['Hits', 'CRBI']\n",
      "3.0 ['Hits', 'CRBI', 'PutOuts']\n",
      "4.0 ['Hits', 'CRBI', 'PutOuts', 'Division_W']\n",
      "5.0 ['AtBat', 'Hits', 'CRBI', 'PutOuts', 'Division_W']\n",
      "6.0 ['AtBat', 'Hits', 'Walks', 'CRBI', 'PutOuts', 'Division_W']\n",
      "7.0 ['Hits', 'Walks', 'CAtBat', 'CHits', 'CHmRun', 'PutOuts', 'Division_W']\n",
      "8.0 ['AtBat', 'Hits', 'Walks', 'CHmRun', 'CRuns', 'CWalks', 'PutOuts', 'Division_W']\n"
     ]
    }
   ],
   "source": [
    "for model in models:\n",
    "    print(model.model.df_model, model.model.exog_names[1:])"
   ]
  },
  {
   "cell_type": "code",
   "execution_count": 10,
   "metadata": {},
   "outputs": [
    {
     "name": "stderr",
     "output_type": "stream",
     "text": [
      "100%|██████████████████████████████████████████████████████████████████████████████████| 19/19 [24:40<00:00, 77.94s/it]\n"
     ]
    }
   ],
   "source": [
    "models_full = best_subset(hitters_df, 19)"
   ]
  },
  {
   "cell_type": "code",
   "execution_count": 11,
   "metadata": {},
   "outputs": [
    {
     "name": "stdout",
     "output_type": "stream",
     "text": [
      "1.0 ['CRBI']\n",
      "2.0 ['Hits', 'CRBI']\n",
      "3.0 ['Hits', 'CRBI', 'PutOuts']\n",
      "4.0 ['Hits', 'CRBI', 'PutOuts', 'Division_W']\n",
      "5.0 ['AtBat', 'Hits', 'CRBI', 'PutOuts', 'Division_W']\n",
      "6.0 ['AtBat', 'Hits', 'Walks', 'CRBI', 'PutOuts', 'Division_W']\n",
      "7.0 ['Hits', 'Walks', 'CAtBat', 'CHits', 'CHmRun', 'PutOuts', 'Division_W']\n",
      "8.0 ['AtBat', 'Hits', 'Walks', 'CHmRun', 'CRuns', 'CWalks', 'PutOuts', 'Division_W']\n",
      "9.0 ['AtBat', 'Hits', 'Walks', 'CAtBat', 'CRuns', 'CRBI', 'CWalks', 'PutOuts', 'Division_W']\n",
      "10.0 ['AtBat', 'Hits', 'Walks', 'CAtBat', 'CRuns', 'CRBI', 'CWalks', 'PutOuts', 'Assists', 'Division_W']\n",
      "11.0 ['AtBat', 'Hits', 'Walks', 'CAtBat', 'CRuns', 'CRBI', 'CWalks', 'PutOuts', 'Assists', 'League_N', 'Division_W']\n",
      "12.0 ['AtBat', 'Hits', 'Runs', 'Walks', 'CAtBat', 'CRuns', 'CRBI', 'CWalks', 'PutOuts', 'Assists', 'League_N', 'Division_W']\n",
      "13.0 ['AtBat', 'Hits', 'Runs', 'Walks', 'CAtBat', 'CRuns', 'CRBI', 'CWalks', 'PutOuts', 'Assists', 'Errors', 'League_N', 'Division_W']\n",
      "14.0 ['AtBat', 'Hits', 'HmRun', 'Runs', 'Walks', 'CAtBat', 'CRuns', 'CRBI', 'CWalks', 'PutOuts', 'Assists', 'Errors', 'League_N', 'Division_W']\n",
      "15.0 ['AtBat', 'Hits', 'HmRun', 'Runs', 'Walks', 'CAtBat', 'CHits', 'CRuns', 'CRBI', 'CWalks', 'PutOuts', 'Assists', 'Errors', 'League_N', 'Division_W']\n",
      "16.0 ['AtBat', 'Hits', 'HmRun', 'Runs', 'RBI', 'Walks', 'CAtBat', 'CHits', 'CRuns', 'CRBI', 'CWalks', 'PutOuts', 'Assists', 'Errors', 'League_N', 'Division_W']\n",
      "17.0 ['AtBat', 'Hits', 'HmRun', 'Runs', 'RBI', 'Walks', 'CAtBat', 'CHits', 'CRuns', 'CRBI', 'CWalks', 'PutOuts', 'Assists', 'Errors', 'League_N', 'Division_W', 'NewLeague_N']\n",
      "18.0 ['AtBat', 'Hits', 'HmRun', 'Runs', 'RBI', 'Walks', 'Years', 'CAtBat', 'CHits', 'CRuns', 'CRBI', 'CWalks', 'PutOuts', 'Assists', 'Errors', 'League_N', 'Division_W', 'NewLeague_N']\n",
      "19.0 ['AtBat', 'Hits', 'HmRun', 'Runs', 'RBI', 'Walks', 'Years', 'CAtBat', 'CHits', 'CHmRun', 'CRuns', 'CRBI', 'CWalks', 'PutOuts', 'Assists', 'Errors', 'League_N', 'Division_W', 'NewLeague_N']\n"
     ]
    }
   ],
   "source": [
    "for model in models_full:\n",
    "    print(model.model.df_model, model.model.exog_names[1:])"
   ]
  },
  {
   "cell_type": "code",
   "execution_count": 12,
   "metadata": {},
   "outputs": [],
   "source": [
    "RSS, BIC, AIC, R2_adj = [], [], [], []\n",
    "for model in models_full:\n",
    "    RSS.append(model.ssr)\n",
    "    BIC.append(model.bic)\n",
    "    AIC.append(model.aic)\n",
    "    R2_adj.append(model.rsquared_adj)"
   ]
  },
  {
   "cell_type": "code",
   "execution_count": 13,
   "metadata": {},
   "outputs": [
    {
     "data": {
      "image/png": "[encoded data removed]",
      "text/plain": [
       "<Figure size 1080x720 with 4 Axes>"
      ]
     },
     "metadata": {},
     "output_type": "display_data"
    }
   ],
   "source": [
    "fig, axes = plt.subplots(2, 2, figsize=(15, 10), constrained_layout=True)\n",
    "\n",
    "R2_adj_max, R2_adj_max_ind = max(R2_adj), R2_adj.index(max(R2_adj))\n",
    "AIC_min_ind, AIC_min = min(enumerate(AIC), key=itemgetter(1))\n",
    "BIC_min_ind, BIC_min = min(enumerate(BIC), key=itemgetter(1))\n",
    "\n",
    "for y_ax, y_label, axis, point in zip([RSS, R2_adj, AIC, BIC], ['RSS', 'Adjusted R2', 'AIC', 'BIC'],\n",
    "                                      [axes[0, 0], axes[0, 1],\n",
    "                                          axes[1, 0], axes[1, 1]],\n",
    "                                      [0, (R2_adj_max_ind, R2_adj_max), (AIC_min_ind, AIC_min), (BIC_min_ind, BIC_min)]):\n",
    "    sns.lineplot(x=range(1, 20), y=y_ax, ax=axis, color='k')\n",
    "\n",
    "    if y_label != 'RSS':\n",
    "        sns.scatterplot(x=[point[0]+1], y=point[1], ax=axis, s=100, marker='X')\n",
    "                                      \n",
    "    axis.set_xticks(range(1, 20, 2))\n",
    "    axis.set_xlabel('Number of Variables', fontsize=12)\n",
    "    axis.set_ylabel(y_label, fontsize=12)\n",
    "\n",
    "plt.show()"
   ]
  },
  {
   "cell_type": "code",
   "execution_count": 14,
   "metadata": {},
   "outputs": [
    {
     "data": {
      "image/png": "[encoded data removed]",
      "text/plain": [
       "<Figure size 1080x720 with 4 Axes>"
      ]
     },
     "metadata": {},
     "output_type": "display_data"
    }
   ],
   "source": [
    "fig, axes = plt.subplots(2,2, figsize=(15, 10), constrained_layout=True)\n",
    "\n",
    "for model in models_full:\n",
    "    sns.scatterplot(x=model.model.exog_names, y=model.rsquared, s=50, color='k', alpha=.5, ax=axes[0, 0])\n",
    "    sns.scatterplot(x=model.model.exog_names, y=model.rsquared_adj, s=50, color='k', alpha=.5, ax=axes[0, 1])\n",
    "    sns.scatterplot(x=model.model.exog_names, y=model.aic, s=50, color='k', alpha=.5, ax=axes[1, 0])\n",
    "    sns.scatterplot(x=model.model.exog_names, y=model.bic, s=50, color='k', alpha=.5, ax=axes[1, 1])\n",
    "\n",
    "for y_label, axis in zip(('R2', 'Adjusted R2', 'AIC', 'BIC'), \n",
    "                (axes[0, 0], axes[0, 1], axes[1, 0], axes[1, 1])):\n",
    "    axis.tick_params(axis='x', labelrotation = 90)\n",
    "    axis.set_ylabel(y_label, fontsize=12)\n",
    "    \n",
    "plt.show()"
   ]
  },
  {
   "cell_type": "code",
   "execution_count": 15,
   "metadata": {},
   "outputs": [
    {
     "data": {
      "text/plain": [
       "const          91.511798\n",
       "AtBat          -1.868589\n",
       "Hits            7.604398\n",
       "Walks           3.697647\n",
       "CRBI            0.643017\n",
       "PutOuts         0.264308\n",
       "Division_W   -122.951534\n",
       "dtype: float64"
      ]
     },
     "execution_count": 15,
     "metadata": {},
     "output_type": "execute_result"
    }
   ],
   "source": [
    "models_full[5].params"
   ]
  },
  {
   "cell_type": "markdown",
   "metadata": {},
   "source": [
    "# Forward and Backward Stepwise Selection"
   ]
  },
  {
   "cell_type": "code",
   "execution_count": 16,
   "metadata": {},
   "outputs": [],
   "source": [
    "def forward_stepwise(df, preds, y, results=[([], 0)]):\n",
    "    preds_used = results[-1][0]\n",
    "    preds_unused = [pred for pred in preds if pred not in preds_used]\n",
    "\n",
    "    if not preds_unused:\n",
    "        return results[1:]\n",
    "\n",
    "    res = []\n",
    "    for pred in preds_unused:\n",
    "        feats = [pred]+preds_used\n",
    "        X = sm.add_constant(df[feats])\n",
    "        est = sm.OLS(y, X).fit()\n",
    "        res.append((feats, est))\n",
    "\n",
    "    results.append(sorted(res, key=lambda r: r[1].ssr).pop(0))\n",
    "\n",
    "    return forward_stepwise(df, preds, y, results)"
   ]
  },
  {
   "cell_type": "code",
   "execution_count": 17,
   "metadata": {},
   "outputs": [],
   "source": [
    "models_fwd = forward_stepwise(hitters_df, hitters_df.drop('Salary', axis=1).columns, hitters_df['Salary'])"
   ]
  },
  {
   "cell_type": "code",
   "execution_count": 18,
   "metadata": {},
   "outputs": [
    {
     "name": "stdout",
     "output_type": "stream",
     "text": [
      "1.0 ['CRBI']\n",
      "2.0 ['Hits', 'CRBI']\n",
      "3.0 ['PutOuts', 'Hits', 'CRBI']\n",
      "4.0 ['Division_W', 'PutOuts', 'Hits', 'CRBI']\n",
      "5.0 ['AtBat', 'Division_W', 'PutOuts', 'Hits', 'CRBI']\n",
      "6.0 ['Walks', 'AtBat', 'Division_W', 'PutOuts', 'Hits', 'CRBI']\n",
      "7.0 ['CWalks', 'Walks', 'AtBat', 'Division_W', 'PutOuts', 'Hits', 'CRBI']\n",
      "8.0 ['CRuns', 'CWalks', 'Walks', 'AtBat', 'Division_W', 'PutOuts', 'Hits', 'CRBI']\n",
      "9.0 ['CAtBat', 'CRuns', 'CWalks', 'Walks', 'AtBat', 'Division_W', 'PutOuts', 'Hits', 'CRBI']\n",
      "10.0 ['Assists', 'CAtBat', 'CRuns', 'CWalks', 'Walks', 'AtBat', 'Division_W', 'PutOuts', 'Hits', 'CRBI']\n",
      "11.0 ['League_N', 'Assists', 'CAtBat', 'CRuns', 'CWalks', 'Walks', 'AtBat', 'Division_W', 'PutOuts', 'Hits', 'CRBI']\n",
      "12.0 ['Runs', 'League_N', 'Assists', 'CAtBat', 'CRuns', 'CWalks', 'Walks', 'AtBat', 'Division_W', 'PutOuts', 'Hits', 'CRBI']\n",
      "13.0 ['Errors', 'Runs', 'League_N', 'Assists', 'CAtBat', 'CRuns', 'CWalks', 'Walks', 'AtBat', 'Division_W', 'PutOuts', 'Hits', 'CRBI']\n",
      "14.0 ['HmRun', 'Errors', 'Runs', 'League_N', 'Assists', 'CAtBat', 'CRuns', 'CWalks', 'Walks', 'AtBat', 'Division_W', 'PutOuts', 'Hits', 'CRBI']\n",
      "15.0 ['CHits', 'HmRun', 'Errors', 'Runs', 'League_N', 'Assists', 'CAtBat', 'CRuns', 'CWalks', 'Walks', 'AtBat', 'Division_W', 'PutOuts', 'Hits', 'CRBI']\n",
      "16.0 ['RBI', 'CHits', 'HmRun', 'Errors', 'Runs', 'League_N', 'Assists', 'CAtBat', 'CRuns', 'CWalks', 'Walks', 'AtBat', 'Division_W', 'PutOuts', 'Hits', 'CRBI']\n",
      "17.0 ['NewLeague_N', 'RBI', 'CHits', 'HmRun', 'Errors', 'Runs', 'League_N', 'Assists', 'CAtBat', 'CRuns', 'CWalks', 'Walks', 'AtBat', 'Division_W', 'PutOuts', 'Hits', 'CRBI']\n",
      "18.0 ['Years', 'NewLeague_N', 'RBI', 'CHits', 'HmRun', 'Errors', 'Runs', 'League_N', 'Assists', 'CAtBat', 'CRuns', 'CWalks', 'Walks', 'AtBat', 'Division_W', 'PutOuts', 'Hits', 'CRBI']\n",
      "19.0 ['CHmRun', 'Years', 'NewLeague_N', 'RBI', 'CHits', 'HmRun', 'Errors', 'Runs', 'League_N', 'Assists', 'CAtBat', 'CRuns', 'CWalks', 'Walks', 'AtBat', 'Division_W', 'PutOuts', 'Hits', 'CRBI']\n"
     ]
    }
   ],
   "source": [
    "for model in models_fwd:\n",
    "    print(model[1].model.df_model, model[1].model.exog_names[1:])"
   ]
  },
  {
   "cell_type": "code",
   "execution_count": 19,
   "metadata": {},
   "outputs": [],
   "source": [
    "def backward_stepwise(df, preds, y, results=[]):\n",
    "    if not results:\n",
    "        X = sm.add_constant(df[preds])\n",
    "        est = sm.OLS(y, X).fit()\n",
    "        return backward_stepwise(df, preds, y, [(list(preds), est)])\n",
    "    else:\n",
    "        preds_used = results[-1][0]\n",
    "        \n",
    "    if len(preds_used) == 1:\n",
    "        return results\n",
    "    \n",
    "    res = []\n",
    "    for p in preds_used:\n",
    "        feats = [pred for pred in preds_used if pred != p]\n",
    "        X = sm.add_constant(df[feats])\n",
    "        est = sm.OLS(y, X).fit()\n",
    "        res.append((feats, est))\n",
    " \n",
    "    results.append(sorted(res, key=lambda r: r[1].ssr).pop(0))\n",
    "    \n",
    "    return backward_stepwise(df, preds, y, results)"
   ]
  },
  {
   "cell_type": "code",
   "execution_count": 20,
   "metadata": {},
   "outputs": [],
   "source": [
    "models_bwd = backward_stepwise(hitters_df, hitters_df.drop('Salary', axis=1).columns, hitters_df['Salary'])"
   ]
  },
  {
   "cell_type": "code",
   "execution_count": 21,
   "metadata": {},
   "outputs": [
    {
     "name": "stdout",
     "output_type": "stream",
     "text": [
      "19.0 ['AtBat', 'Hits', 'HmRun', 'Runs', 'RBI', 'Walks', 'Years', 'CAtBat', 'CHits', 'CHmRun', 'CRuns', 'CRBI', 'CWalks', 'PutOuts', 'Assists', 'Errors', 'League_N', 'Division_W', 'NewLeague_N']\n",
      "18.0 ['AtBat', 'Hits', 'HmRun', 'Runs', 'RBI', 'Walks', 'Years', 'CAtBat', 'CHits', 'CRuns', 'CRBI', 'CWalks', 'PutOuts', 'Assists', 'Errors', 'League_N', 'Division_W', 'NewLeague_N']\n",
      "17.0 ['AtBat', 'Hits', 'HmRun', 'Runs', 'RBI', 'Walks', 'CAtBat', 'CHits', 'CRuns', 'CRBI', 'CWalks', 'PutOuts', 'Assists', 'Errors', 'League_N', 'Division_W', 'NewLeague_N']\n",
      "16.0 ['AtBat', 'Hits', 'HmRun', 'Runs', 'RBI', 'Walks', 'CAtBat', 'CHits', 'CRuns', 'CRBI', 'CWalks', 'PutOuts', 'Assists', 'Errors', 'League_N', 'Division_W']\n",
      "15.0 ['AtBat', 'Hits', 'HmRun', 'Runs', 'Walks', 'CAtBat', 'CHits', 'CRuns', 'CRBI', 'CWalks', 'PutOuts', 'Assists', 'Errors', 'League_N', 'Division_W']\n",
      "14.0 ['AtBat', 'Hits', 'HmRun', 'Runs', 'Walks', 'CAtBat', 'CRuns', 'CRBI', 'CWalks', 'PutOuts', 'Assists', 'Errors', 'League_N', 'Division_W']\n",
      "13.0 ['AtBat', 'Hits', 'Runs', 'Walks', 'CAtBat', 'CRuns', 'CRBI', 'CWalks', 'PutOuts', 'Assists', 'Errors', 'League_N', 'Division_W']\n",
      "12.0 ['AtBat', 'Hits', 'Runs', 'Walks', 'CAtBat', 'CRuns', 'CRBI', 'CWalks', 'PutOuts', 'Assists', 'League_N', 'Division_W']\n",
      "11.0 ['AtBat', 'Hits', 'Walks', 'CAtBat', 'CRuns', 'CRBI', 'CWalks', 'PutOuts', 'Assists', 'League_N', 'Division_W']\n",
      "10.0 ['AtBat', 'Hits', 'Walks', 'CAtBat', 'CRuns', 'CRBI', 'CWalks', 'PutOuts', 'Assists', 'Division_W']\n",
      "9.0 ['AtBat', 'Hits', 'Walks', 'CAtBat', 'CRuns', 'CRBI', 'CWalks', 'PutOuts', 'Division_W']\n",
      "8.0 ['AtBat', 'Hits', 'Walks', 'CRuns', 'CRBI', 'CWalks', 'PutOuts', 'Division_W']\n",
      "7.0 ['AtBat', 'Hits', 'Walks', 'CRuns', 'CWalks', 'PutOuts', 'Division_W']\n",
      "6.0 ['AtBat', 'Hits', 'Walks', 'CRuns', 'PutOuts', 'Division_W']\n",
      "5.0 ['AtBat', 'Hits', 'Walks', 'CRuns', 'PutOuts']\n",
      "4.0 ['AtBat', 'Hits', 'CRuns', 'PutOuts']\n",
      "3.0 ['Hits', 'CRuns', 'PutOuts']\n",
      "2.0 ['Hits', 'CRuns']\n",
      "1.0 ['CRuns']\n"
     ]
    }
   ],
   "source": [
    "for model in models_bwd:\n",
    "    print(model[1].model.df_model, model[1].model.exog_names[1:])"
   ]
  },
  {
   "cell_type": "code",
   "execution_count": 22,
   "metadata": {},
   "outputs": [
    {
     "data": {
      "text/plain": [
       "const         109.787306\n",
       "CWalks         -0.305307\n",
       "Walks           4.913140\n",
       "AtBat          -1.958885\n",
       "Division_W   -127.122393\n",
       "PutOuts         0.253340\n",
       "Hits            7.449877\n",
       "CRBI            0.853762\n",
       "dtype: float64"
      ]
     },
     "execution_count": 22,
     "metadata": {},
     "output_type": "execute_result"
    }
   ],
   "source": [
    "models_fwd[6][1].params"
   ]
  },
  {
   "cell_type": "code",
   "execution_count": 23,
   "metadata": {},
   "outputs": [
    {
     "data": {
      "text/plain": [
       "const         105.648749\n",
       "AtBat          -1.976284\n",
       "Hits            6.757491\n",
       "Walks           6.055869\n",
       "CRuns           1.129309\n",
       "CWalks         -0.716335\n",
       "PutOuts         0.302885\n",
       "Division_W   -116.169217\n",
       "dtype: float64"
      ]
     },
     "execution_count": 23,
     "metadata": {},
     "output_type": "execute_result"
    }
   ],
   "source": [
    "models_bwd[-7][1].params"
   ]
  },
  {
   "cell_type": "markdown",
   "metadata": {},
   "source": [
    "# Choosing Among Models Using the Validation Set"
   ]
  },
  {
   "cell_type": "code",
   "execution_count": 26,
   "metadata": {},
   "outputs": [],
   "source": [
    "np.random.seed(1)\n",
    "\n",
    "index = np.random.choice([True, False], size=hitters_df.shape[0])\n",
    "\n",
    "train, test = hitters_df[index], hitters_df[~index]"
   ]
  },
  {
   "cell_type": "code",
   "execution_count": 27,
   "metadata": {},
   "outputs": [
    {
     "name": "stderr",
     "output_type": "stream",
     "text": [
      "100%|██████████████████████████████████████████████████████████████████████████████████| 19/19 [20:57<00:00, 66.18s/it]\n"
     ]
    }
   ],
   "source": [
    "models_best = best_subset(train, 19)"
   ]
  },
  {
   "cell_type": "code",
   "execution_count": 28,
   "metadata": {},
   "outputs": [
    {
     "name": "stdout",
     "output_type": "stream",
     "text": [
      "(1, 166035.84549277302)\n",
      "(2, 142092.39385883862)\n",
      "(3, 135858.502928824)\n",
      "(4, 149145.71529971244)\n",
      "(5, 157081.93033478677)\n",
      "(6, 151618.21050902212)\n",
      "(7, 144090.1566319442)\n",
      "(8, 149447.58263116406)\n",
      "(9, 142041.95425394105)\n",
      "(10, 149422.51709356075)\n",
      "(11, 145058.19060783755)\n",
      "(12, 148414.3265654414)\n",
      "(13, 153374.60073843464)\n",
      "(14, 152454.49647719905)\n",
      "(15, 150814.70559325238)\n",
      "(16, 153460.665109441)\n",
      "(17, 153345.15603933326)\n",
      "(18, 152418.990077354)\n",
      "(19, 152263.94200235713)\n"
     ]
    }
   ],
   "source": [
    "mse = []\n",
    "for model in models_best:\n",
    "    feats = model.model.exog_names[1:]\n",
    "    pred = model.predict(sm.add_constant(test[feats]))\n",
    "    mse.append(mean_squared_error(test['Salary'], pred))\n",
    "print(*zip(range(1, 20), mse), sep='\\n')"
   ]
  },
  {
   "cell_type": "code",
   "execution_count": 29,
   "metadata": {},
   "outputs": [
    {
     "data": {
      "text/plain": [
       "(2, 135858.502928824)"
      ]
     },
     "execution_count": 29,
     "metadata": {},
     "output_type": "execute_result"
    }
   ],
   "source": [
    "min_ind, min_val = min(enumerate(mse), key=itemgetter(1))\n",
    "min_ind, min_val"
   ]
  },
  {
   "cell_type": "code",
   "execution_count": 30,
   "metadata": {},
   "outputs": [
    {
     "data": {
      "text/plain": [
       "const         133.938530\n",
       "Runs            4.905929\n",
       "CRBI            0.501988\n",
       "Division_W   -121.301760\n",
       "dtype: float64"
      ]
     },
     "execution_count": 30,
     "metadata": {},
     "output_type": "execute_result"
    }
   ],
   "source": [
    "models_best[min_ind].params"
   ]
  },
  {
   "cell_type": "code",
   "execution_count": 31,
   "metadata": {},
   "outputs": [
    {
     "name": "stderr",
     "output_type": "stream",
     "text": [
      "100%|██████████████████████████████████████████████████████████████████████████████████| 19/19 [25:04<00:00, 79.19s/it]\n"
     ]
    }
   ],
   "source": [
    "models_best_all = best_subset(hitters_df, 19)"
   ]
  },
  {
   "cell_type": "code",
   "execution_count": 32,
   "metadata": {},
   "outputs": [
    {
     "name": "stdout",
     "output_type": "stream",
     "text": [
      "(1, 143928.35202633354)\n",
      "(2, 123887.29042765782)\n",
      "(3, 118901.60932826439)\n",
      "(4, 124700.26168693123)\n",
      "(5, 126125.64885116763)\n",
      "(6, 121570.45709384038)\n",
      "(7, 117267.63233589633)\n",
      "(8, 119645.3368163162)\n",
      "(9, 115259.31837014247)\n",
      "(10, 118743.46909971125)\n",
      "(11, 116062.37945254776)\n",
      "(12, 117436.74587227327)\n",
      "(13, 119752.2303567133)\n",
      "(14, 119229.65876244733)\n",
      "(15, 118305.36695052047)\n",
      "(16, 119641.44337397485)\n",
      "(17, 119551.24629614681)\n",
      "(18, 119065.04114041153)\n",
      "(19, 118983.48334641551)\n"
     ]
    }
   ],
   "source": [
    "mse = []\n",
    "for model in models_best:\n",
    "    feats = model.model.exog_names[1:]\n",
    "    pred = model.predict(sm.add_constant(hitters_df[feats]))\n",
    "    mse.append(mean_squared_error(hitters_df['Salary'], pred))\n",
    "print(*zip(range(1, 20), mse), sep='\\n')"
   ]
  },
  {
   "cell_type": "code",
   "execution_count": 33,
   "metadata": {},
   "outputs": [
    {
     "data": {
      "text/plain": [
       "(8, 115259.31837014247)"
      ]
     },
     "execution_count": 33,
     "metadata": {},
     "output_type": "execute_result"
    }
   ],
   "source": [
    "min_ind, min_val = min(enumerate(mse), key=itemgetter(1))\n",
    "min_ind, min_val"
   ]
  },
  {
   "cell_type": "code",
   "execution_count": 34,
   "metadata": {},
   "outputs": [
    {
     "data": {
      "text/plain": [
       "const         146.249600\n",
       "AtBat          -1.936768\n",
       "Hits            6.656721\n",
       "Walks           5.552044\n",
       "CAtBat         -0.099539\n",
       "CRuns           1.250671\n",
       "CRBI            0.661768\n",
       "CWalks         -0.777985\n",
       "PutOuts         0.277731\n",
       "Division_W   -115.349501\n",
       "dtype: float64"
      ]
     },
     "execution_count": 34,
     "metadata": {},
     "output_type": "execute_result"
    }
   ],
   "source": [
    "models_best_all[min_ind].params"
   ]
  },
  {
   "cell_type": "code",
   "execution_count": 35,
   "metadata": {},
   "outputs": [
    {
     "data": {
      "text/plain": [
       "const     -71.459220\n",
       "Hits        2.803816\n",
       "CRBI        0.682528\n",
       "PutOuts     0.273581\n",
       "dtype: float64"
      ]
     },
     "execution_count": 35,
     "metadata": {},
     "output_type": "execute_result"
    }
   ],
   "source": [
    "models_best_all[2].params"
   ]
  },
  {
   "cell_type": "code",
   "execution_count": 36,
   "metadata": {},
   "outputs": [
    {
     "name": "stderr",
     "output_type": "stream",
     "text": [
      "100%|██████████████████████████████████████████████████████████████████████████████████| 19/19 [24:38<00:00, 77.82s/it]\n",
      "100%|██████████████████████████████████████████████████████████████████████████████████| 19/19 [24:30<00:00, 77.41s/it]\n",
      "100%|██████████████████████████████████████████████████████████████████████████████████| 19/19 [24:58<00:00, 78.87s/it]\n",
      "100%|██████████████████████████████████████████████████████████████████████████████████| 19/19 [24:37<00:00, 77.75s/it]\n",
      "100%|██████████████████████████████████████████████████████████████████████████████████| 19/19 [24:38<00:00, 77.84s/it]\n",
      "100%|██████████████████████████████████████████████████████████████████████████████████| 19/19 [24:38<00:00, 77.82s/it]\n",
      "100%|██████████████████████████████████████████████████████████████████████████████████| 19/19 [24:10<00:00, 76.36s/it]\n",
      "100%|██████████████████████████████████████████████████████████████████████████████████| 19/19 [24:31<00:00, 77.45s/it]\n",
      "100%|██████████████████████████████████████████████████████████████████████████████████| 19/19 [24:27<00:00, 77.25s/it]\n",
      "100%|██████████████████████████████████████████████████████████████████████████████████| 19/19 [24:46<00:00, 78.22s/it]\n"
     ]
    }
   ],
   "source": [
    "kf10 = KFold(n_splits=10, shuffle=True, random_state=2)\n",
    "mse = np.zeros([10, 19])\n",
    "\n",
    "fold = 0\n",
    "for train_ind, test_ind in kf10.split(hitters_df):\n",
    "    df_train, df_test = hitters_df.iloc[train_ind], hitters_df.iloc[test_ind]\n",
    "    \n",
    "    models = best_subset(df_train, 19)\n",
    "    for ind, model in enumerate(models):\n",
    "        feats = model.model.exog_names[1:]\n",
    "        pred = model.predict(sm.add_constant(df_test[feats]))\n",
    "        mse[fold, ind] = mean_squared_error(df_test['Salary'], pred)\n",
    "    \n",
    "    fold += 1"
   ]
  },
  {
   "cell_type": "code",
   "execution_count": 37,
   "metadata": {},
   "outputs": [
    {
     "data": {
      "text/html": [
       "<div>\n",
       "<style scoped>\n",
       "    .dataframe tbody tr th:only-of-type {\n",
       "        vertical-align: middle;\n",
       "    }\n",
       "\n",
       "    .dataframe tbody tr th {\n",
       "        vertical-align: top;\n",
       "    }\n",
       "\n",
       "    .dataframe thead th {\n",
       "        text-align: right;\n",
       "    }\n",
       "</style>\n",
       "<table border=\"1\" class=\"dataframe\">\n",
       "  <thead>\n",
       "    <tr style=\"text-align: right;\">\n",
       "      <th></th>\n",
       "      <th>MSE</th>\n",
       "    </tr>\n",
       "  </thead>\n",
       "  <tbody>\n",
       "    <tr>\n",
       "      <th>1</th>\n",
       "      <td>149906.551625</td>\n",
       "    </tr>\n",
       "    <tr>\n",
       "      <th>2</th>\n",
       "      <td>129420.026625</td>\n",
       "    </tr>\n",
       "    <tr>\n",
       "      <th>3</th>\n",
       "      <td>140291.834697</td>\n",
       "    </tr>\n",
       "    <tr>\n",
       "      <th>4</th>\n",
       "      <td>135994.820523</td>\n",
       "    </tr>\n",
       "    <tr>\n",
       "      <th>5</th>\n",
       "      <td>136409.147382</td>\n",
       "    </tr>\n",
       "    <tr>\n",
       "      <th>6</th>\n",
       "      <td>125420.699997</td>\n",
       "    </tr>\n",
       "    <tr>\n",
       "      <th>7</th>\n",
       "      <td>127578.926583</td>\n",
       "    </tr>\n",
       "    <tr>\n",
       "      <th>8</th>\n",
       "      <td>113615.237824</td>\n",
       "    </tr>\n",
       "    <tr>\n",
       "      <th>9</th>\n",
       "      <td>114814.107609</td>\n",
       "    </tr>\n",
       "    <tr>\n",
       "      <th>10</th>\n",
       "      <td>112175.133407</td>\n",
       "    </tr>\n",
       "    <tr>\n",
       "      <th>11</th>\n",
       "      <td>113356.529621</td>\n",
       "    </tr>\n",
       "    <tr>\n",
       "      <th>12</th>\n",
       "      <td>114187.653052</td>\n",
       "    </tr>\n",
       "    <tr>\n",
       "      <th>13</th>\n",
       "      <td>114492.145056</td>\n",
       "    </tr>\n",
       "    <tr>\n",
       "      <th>14</th>\n",
       "      <td>114643.855823</td>\n",
       "    </tr>\n",
       "    <tr>\n",
       "      <th>15</th>\n",
       "      <td>114513.506670</td>\n",
       "    </tr>\n",
       "    <tr>\n",
       "      <th>16</th>\n",
       "      <td>115771.302696</td>\n",
       "    </tr>\n",
       "    <tr>\n",
       "      <th>17</th>\n",
       "      <td>115436.946315</td>\n",
       "    </tr>\n",
       "    <tr>\n",
       "      <th>18</th>\n",
       "      <td>115291.311877</td>\n",
       "    </tr>\n",
       "    <tr>\n",
       "      <th>19</th>\n",
       "      <td>115303.966486</td>\n",
       "    </tr>\n",
       "  </tbody>\n",
       "</table>\n",
       "</div>"
      ],
      "text/plain": [
       "              MSE\n",
       "1   149906.551625\n",
       "2   129420.026625\n",
       "3   140291.834697\n",
       "4   135994.820523\n",
       "5   136409.147382\n",
       "6   125420.699997\n",
       "7   127578.926583\n",
       "8   113615.237824\n",
       "9   114814.107609\n",
       "10  112175.133407\n",
       "11  113356.529621\n",
       "12  114187.653052\n",
       "13  114492.145056\n",
       "14  114643.855823\n",
       "15  114513.506670\n",
       "16  115771.302696\n",
       "17  115436.946315\n",
       "18  115291.311877\n",
       "19  115303.966486"
      ]
     },
     "execution_count": 37,
     "metadata": {},
     "output_type": "execute_result"
    }
   ],
   "source": [
    "MSE = pd.DataFrame(np.mean(mse, axis=0), columns=['MSE'], index=range(1, 20))\n",
    "MSE"
   ]
  },
  {
   "cell_type": "code",
   "execution_count": 38,
   "metadata": {},
   "outputs": [
    {
     "data": {
      "image/png": "[encoded data removed]",
      "text/plain": [
       "<Figure size 720x576 with 1 Axes>"
      ]
     },
     "metadata": {},
     "output_type": "display_data"
    }
   ],
   "source": [
    "plt.figure(figsize=(10, 8))\n",
    "\n",
    "sns.lineplot(x=MSE.index, y=MSE.squeeze(), linestyle='--')\n",
    "sns.scatterplot(x=MSE.index, y=MSE.squeeze(), facecolor='none', edgecolor='k')\n",
    "\n",
    "plt.xticks(range(1, 20, 2))\n",
    "plt.xlabel('Number of features')\n",
    "\n",
    "plt.show()"
   ]
  },
  {
   "cell_type": "code",
   "execution_count": 39,
   "metadata": {},
   "outputs": [
    {
     "data": {
      "text/plain": [
       "const         135.751219\n",
       "AtBat          -2.127748\n",
       "Hits            6.923699\n",
       "Walks           5.620276\n",
       "CAtBat         -0.138991\n",
       "CRuns           1.455331\n",
       "CRBI            0.785253\n",
       "CWalks         -0.822856\n",
       "PutOuts         0.289409\n",
       "Assists         0.268828\n",
       "League_N       43.111615\n",
       "Division_W   -111.146025\n",
       "dtype: float64"
      ]
     },
     "execution_count": 39,
     "metadata": {},
     "output_type": "execute_result"
    }
   ],
   "source": [
    "models_best_all[MSE.idxmin().squeeze()].params"
   ]
  },
  {
   "cell_type": "code",
   "execution_count": null,
   "metadata": {},
   "outputs": [],
   "source": []
  }
 ],
 "metadata": {
  "kernelspec": {
   "display_name": "Python 3",
   "language": "python",
   "name": "python3"
  },
  "language_info": {
   "codemirror_mode": {
    "name": "ipython",
    "version": 3
   },
   "file_extension": ".py",
   "mimetype": "text/x-python",
   "name": "python",
   "nbconvert_exporter": "python",
   "pygments_lexer": "ipython3",
   "version": "3.8.5"
  },
  "varInspector": {
   "cols": {
    "lenName": 16,
    "lenType": 16,
    "lenVar": 40
   },
   "kernels_config": {
    "python": {
     "delete_cmd_postfix": "",
     "delete_cmd_prefix": "del ",
     "library": "var_list.py",
     "varRefreshCmd": "print(var_dic_list())"
    },
    "r": {
     "delete_cmd_postfix": ") ",
     "delete_cmd_prefix": "rm(",
     "library": "var_list.r",
     "varRefreshCmd": "cat(var_dic_list()) "
    }
   },
   "types_to_exclude": [
    "module",
    "function",
    "builtin_function_or_method",
    "instance",
    "_Feature"
   ],
   "window_display": false
  }
 },
 "nbformat": 4,
 "nbformat_minor": 5
}
