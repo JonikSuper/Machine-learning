{
 "cells": [
  {
   "cell_type": "code",
   "execution_count": 1,
   "id": "26f2f9e8",
   "metadata": {},
   "outputs": [],
   "source": [
    "options(warn=-1)"
   ]
  },
  {
   "cell_type": "code",
   "execution_count": 34,
   "id": "f2d51950",
   "metadata": {},
   "outputs": [],
   "source": [
    "library(ISLR)"
   ]
  },
  {
   "cell_type": "markdown",
   "id": "c606705c",
   "metadata": {},
   "source": [
    "# Principal Components Analysis"
   ]
  },
  {
   "cell_type": "code",
   "execution_count": 5,
   "id": "ab89b58e",
   "metadata": {},
   "outputs": [
    {
     "data": {
      "text/html": [
       "<dl class=dl-horizontal>\n",
       "\t<dt>Murder</dt>\n",
       "\t\t<dd>7.788</dd>\n",
       "\t<dt>Assault</dt>\n",
       "\t\t<dd>170.76</dd>\n",
       "\t<dt>UrbanPop</dt>\n",
       "\t\t<dd>65.54</dd>\n",
       "\t<dt>Rape</dt>\n",
       "\t\t<dd>21.232</dd>\n",
       "</dl>\n"
      ],
      "text/latex": [
       "\\begin{description*}\n",
       "\\item[Murder] 7.788\n",
       "\\item[Assault] 170.76\n",
       "\\item[UrbanPop] 65.54\n",
       "\\item[Rape] 21.232\n",
       "\\end{description*}\n"
      ],
      "text/markdown": [
       "Murder\n",
       ":   7.788Assault\n",
       ":   170.76UrbanPop\n",
       ":   65.54Rape\n",
       ":   21.232\n",
       "\n"
      ],
      "text/plain": [
       "  Murder  Assault UrbanPop     Rape \n",
       "   7.788  170.760   65.540   21.232 "
      ]
     },
     "metadata": {},
     "output_type": "display_data"
    },
    {
     "data": {
      "text/html": [
       "<dl class=dl-horizontal>\n",
       "\t<dt>Murder</dt>\n",
       "\t\t<dd>4.35550976420929</dd>\n",
       "\t<dt>Assault</dt>\n",
       "\t\t<dd>83.3376608400171</dd>\n",
       "\t<dt>UrbanPop</dt>\n",
       "\t\t<dd>14.4747634008368</dd>\n",
       "\t<dt>Rape</dt>\n",
       "\t\t<dd>9.36638453105965</dd>\n",
       "</dl>\n"
      ],
      "text/latex": [
       "\\begin{description*}\n",
       "\\item[Murder] 4.35550976420929\n",
       "\\item[Assault] 83.3376608400171\n",
       "\\item[UrbanPop] 14.4747634008368\n",
       "\\item[Rape] 9.36638453105965\n",
       "\\end{description*}\n"
      ],
      "text/markdown": [
       "Murder\n",
       ":   4.35550976420929Assault\n",
       ":   83.3376608400171UrbanPop\n",
       ":   14.4747634008368Rape\n",
       ":   9.36638453105965\n",
       "\n"
      ],
      "text/plain": [
       "   Murder   Assault  UrbanPop      Rape \n",
       " 4.355510 83.337661 14.474763  9.366385 "
      ]
     },
     "metadata": {},
     "output_type": "display_data"
    },
    {
     "data": {
      "text/html": [
       "<table>\n",
       "<thead><tr><th></th><th scope=col>PC1</th><th scope=col>PC2</th><th scope=col>PC3</th><th scope=col>PC4</th></tr></thead>\n",
       "<tbody>\n",
       "\t<tr><th scope=row>Murder</th><td>-0.5358995 </td><td> 0.4181809 </td><td>-0.3412327 </td><td> 0.64922780</td></tr>\n",
       "\t<tr><th scope=row>Assault</th><td>-0.5831836 </td><td> 0.1879856 </td><td>-0.2681484 </td><td>-0.74340748</td></tr>\n",
       "\t<tr><th scope=row>UrbanPop</th><td>-0.2781909 </td><td>-0.8728062 </td><td>-0.3780158 </td><td> 0.13387773</td></tr>\n",
       "\t<tr><th scope=row>Rape</th><td>-0.5434321 </td><td>-0.1673186 </td><td> 0.8177779 </td><td> 0.08902432</td></tr>\n",
       "</tbody>\n",
       "</table>\n"
      ],
      "text/latex": [
       "\\begin{tabular}{r|llll}\n",
       "  & PC1 & PC2 & PC3 & PC4\\\\\n",
       "\\hline\n",
       "\tMurder & -0.5358995  &  0.4181809  & -0.3412327  &  0.64922780\\\\\n",
       "\tAssault & -0.5831836  &  0.1879856  & -0.2681484  & -0.74340748\\\\\n",
       "\tUrbanPop & -0.2781909  & -0.8728062  & -0.3780158  &  0.13387773\\\\\n",
       "\tRape & -0.5434321  & -0.1673186  &  0.8177779  &  0.08902432\\\\\n",
       "\\end{tabular}\n"
      ],
      "text/markdown": [
       "\n",
       "| <!--/--> | PC1 | PC2 | PC3 | PC4 |\n",
       "|---|---|---|---|---|\n",
       "| Murder | -0.5358995  |  0.4181809  | -0.3412327  |  0.64922780 |\n",
       "| Assault | -0.5831836  |  0.1879856  | -0.2681484  | -0.74340748 |\n",
       "| UrbanPop | -0.2781909  | -0.8728062  | -0.3780158  |  0.13387773 |\n",
       "| Rape | -0.5434321  | -0.1673186  |  0.8177779  |  0.08902432 |\n",
       "\n"
      ],
      "text/plain": [
       "         PC1        PC2        PC3        PC4        \n",
       "Murder   -0.5358995  0.4181809 -0.3412327  0.64922780\n",
       "Assault  -0.5831836  0.1879856 -0.2681484 -0.74340748\n",
       "UrbanPop -0.2781909 -0.8728062 -0.3780158  0.13387773\n",
       "Rape     -0.5434321 -0.1673186  0.8177779  0.08902432"
      ]
     },
     "metadata": {},
     "output_type": "display_data"
    }
   ],
   "source": [
    "pr.out = prcomp(USArrests, scale = TRUE)\n",
    "\n",
    "pr.out$center\n",
    "pr.out$scale\n",
    "pr.out$rotation"
   ]
  },
  {
   "cell_type": "code",
   "execution_count": 7,
   "id": "56b80923",
   "metadata": {},
   "outputs": [],
   "source": [
    "pr.out$rotation = -pr.out$rotation\n",
    "pr.out$x = -pr.out$x"
   ]
  },
  {
   "cell_type": "code",
   "execution_count": 8,
   "id": "ec17852a",
   "metadata": {},
   "outputs": [
    {
     "data": {
      "image/png": "[encoded data removed]",
      "text/plain": [
       "plot without title"
      ]
     },
     "metadata": {},
     "output_type": "display_data"
    }
   ],
   "source": [
    "biplot(pr.out, scale = 0)"
   ]
  },
  {
   "cell_type": "code",
   "execution_count": 9,
   "id": "ad1122d3",
   "metadata": {},
   "outputs": [
    {
     "data": {
      "text/html": [
       "<ol class=list-inline>\n",
       "\t<li>1.57487827439123</li>\n",
       "\t<li>0.994869414817764</li>\n",
       "\t<li>0.597129115502527</li>\n",
       "\t<li>0.41644938195396</li>\n",
       "</ol>\n"
      ],
      "text/latex": [
       "\\begin{enumerate*}\n",
       "\\item 1.57487827439123\n",
       "\\item 0.994869414817764\n",
       "\\item 0.597129115502527\n",
       "\\item 0.41644938195396\n",
       "\\end{enumerate*}\n"
      ],
      "text/markdown": [
       "1. 1.57487827439123\n",
       "2. 0.994869414817764\n",
       "3. 0.597129115502527\n",
       "4. 0.41644938195396\n",
       "\n",
       "\n"
      ],
      "text/plain": [
       "[1] 1.5748783 0.9948694 0.5971291 0.4164494"
      ]
     },
     "metadata": {},
     "output_type": "display_data"
    },
    {
     "data": {
      "text/html": [
       "<ol class=list-inline>\n",
       "\t<li>2.48024157914949</li>\n",
       "\t<li>0.98976515253984</li>\n",
       "\t<li>0.35656318058083</li>\n",
       "\t<li>0.173430087729835</li>\n",
       "</ol>\n"
      ],
      "text/latex": [
       "\\begin{enumerate*}\n",
       "\\item 2.48024157914949\n",
       "\\item 0.98976515253984\n",
       "\\item 0.35656318058083\n",
       "\\item 0.173430087729835\n",
       "\\end{enumerate*}\n"
      ],
      "text/markdown": [
       "1. 2.48024157914949\n",
       "2. 0.98976515253984\n",
       "3. 0.35656318058083\n",
       "4. 0.173430087729835\n",
       "\n",
       "\n"
      ],
      "text/plain": [
       "[1] 2.4802416 0.9897652 0.3565632 0.1734301"
      ]
     },
     "metadata": {},
     "output_type": "display_data"
    }
   ],
   "source": [
    "pr.out$sdev\n",
    "pr.var = pr.out$sdev ^ 2\n",
    "pr.var"
   ]
  },
  {
   "cell_type": "code",
   "execution_count": 10,
   "id": "fe651290",
   "metadata": {},
   "outputs": [
    {
     "data": {
      "text/html": [
       "<ol class=list-inline>\n",
       "\t<li>0.620060394787374</li>\n",
       "\t<li>0.24744128813496</li>\n",
       "\t<li>0.0891407951452075</li>\n",
       "\t<li>0.0433575219324588</li>\n",
       "</ol>\n"
      ],
      "text/latex": [
       "\\begin{enumerate*}\n",
       "\\item 0.620060394787374\n",
       "\\item 0.24744128813496\n",
       "\\item 0.0891407951452075\n",
       "\\item 0.0433575219324588\n",
       "\\end{enumerate*}\n"
      ],
      "text/markdown": [
       "1. 0.620060394787374\n",
       "2. 0.24744128813496\n",
       "3. 0.0891407951452075\n",
       "4. 0.0433575219324588\n",
       "\n",
       "\n"
      ],
      "text/plain": [
       "[1] 0.62006039 0.24744129 0.08914080 0.04335752"
      ]
     },
     "metadata": {},
     "output_type": "display_data"
    }
   ],
   "source": [
    "pve = pr.var / sum(pr.var)\n",
    "pve"
   ]
  },
  {
   "cell_type": "code",
   "execution_count": 12,
   "id": "ee304673",
   "metadata": {},
   "outputs": [
    {
     "data": {
      "image/png": "[encoded data removed]",
      "text/plain": [
       "plot without title"
      ]
     },
     "metadata": {},
     "output_type": "display_data"
    }
   ],
   "source": [
    "plot(pve, xlab = 'Principal Component', ylab = 'Proportion of Variance Explained', ylim = c(0, 1), type = 'b')"
   ]
  },
  {
   "cell_type": "code",
   "execution_count": 14,
   "id": "1d86b85c",
   "metadata": {},
   "outputs": [
    {
     "data": {
      "image/png": "[encoded data removed]",
      "text/plain": [
       "plot without title"
      ]
     },
     "metadata": {},
     "output_type": "display_data"
    }
   ],
   "source": [
    "plot(cumsum(pve), xlab = 'Principal Component', ylab = 'Cumulative Proportion of Variance Explained', \n",
    "     ylim = c(0, 1), type = 'b')"
   ]
  },
  {
   "cell_type": "markdown",
   "id": "1878b470",
   "metadata": {},
   "source": [
    "# K-Means Clustering"
   ]
  },
  {
   "cell_type": "code",
   "execution_count": 15,
   "id": "d137c4ac",
   "metadata": {},
   "outputs": [],
   "source": [
    "set.seed(1)\n",
    "x = matrix(rnorm(50 * 2), ncol = 2)\n",
    "x[1:25, 1] = x[1:25, 1] + 3\n",
    "x[1:25, 2] = x[1:25, 2] - 4"
   ]
  },
  {
   "cell_type": "code",
   "execution_count": 16,
   "id": "cd18d865",
   "metadata": {},
   "outputs": [
    {
     "data": {
      "text/html": [
       "<ol class=list-inline>\n",
       "\t<li>1</li>\n",
       "\t<li>1</li>\n",
       "\t<li>1</li>\n",
       "\t<li>1</li>\n",
       "\t<li>1</li>\n",
       "\t<li>1</li>\n",
       "\t<li>1</li>\n",
       "\t<li>1</li>\n",
       "\t<li>1</li>\n",
       "\t<li>1</li>\n",
       "\t<li>1</li>\n",
       "\t<li>1</li>\n",
       "\t<li>1</li>\n",
       "\t<li>1</li>\n",
       "\t<li>1</li>\n",
       "\t<li>1</li>\n",
       "\t<li>1</li>\n",
       "\t<li>1</li>\n",
       "\t<li>1</li>\n",
       "\t<li>1</li>\n",
       "\t<li>1</li>\n",
       "\t<li>1</li>\n",
       "\t<li>1</li>\n",
       "\t<li>1</li>\n",
       "\t<li>1</li>\n",
       "\t<li>2</li>\n",
       "\t<li>2</li>\n",
       "\t<li>2</li>\n",
       "\t<li>2</li>\n",
       "\t<li>2</li>\n",
       "\t<li>2</li>\n",
       "\t<li>2</li>\n",
       "\t<li>2</li>\n",
       "\t<li>2</li>\n",
       "\t<li>2</li>\n",
       "\t<li>2</li>\n",
       "\t<li>2</li>\n",
       "\t<li>2</li>\n",
       "\t<li>2</li>\n",
       "\t<li>2</li>\n",
       "\t<li>2</li>\n",
       "\t<li>2</li>\n",
       "\t<li>2</li>\n",
       "\t<li>2</li>\n",
       "\t<li>2</li>\n",
       "\t<li>2</li>\n",
       "\t<li>2</li>\n",
       "\t<li>2</li>\n",
       "\t<li>2</li>\n",
       "\t<li>2</li>\n",
       "</ol>\n"
      ],
      "text/latex": [
       "\\begin{enumerate*}\n",
       "\\item 1\n",
       "\\item 1\n",
       "\\item 1\n",
       "\\item 1\n",
       "\\item 1\n",
       "\\item 1\n",
       "\\item 1\n",
       "\\item 1\n",
       "\\item 1\n",
       "\\item 1\n",
       "\\item 1\n",
       "\\item 1\n",
       "\\item 1\n",
       "\\item 1\n",
       "\\item 1\n",
       "\\item 1\n",
       "\\item 1\n",
       "\\item 1\n",
       "\\item 1\n",
       "\\item 1\n",
       "\\item 1\n",
       "\\item 1\n",
       "\\item 1\n",
       "\\item 1\n",
       "\\item 1\n",
       "\\item 2\n",
       "\\item 2\n",
       "\\item 2\n",
       "\\item 2\n",
       "\\item 2\n",
       "\\item 2\n",
       "\\item 2\n",
       "\\item 2\n",
       "\\item 2\n",
       "\\item 2\n",
       "\\item 2\n",
       "\\item 2\n",
       "\\item 2\n",
       "\\item 2\n",
       "\\item 2\n",
       "\\item 2\n",
       "\\item 2\n",
       "\\item 2\n",
       "\\item 2\n",
       "\\item 2\n",
       "\\item 2\n",
       "\\item 2\n",
       "\\item 2\n",
       "\\item 2\n",
       "\\item 2\n",
       "\\end{enumerate*}\n"
      ],
      "text/markdown": [
       "1. 1\n",
       "2. 1\n",
       "3. 1\n",
       "4. 1\n",
       "5. 1\n",
       "6. 1\n",
       "7. 1\n",
       "8. 1\n",
       "9. 1\n",
       "10. 1\n",
       "11. 1\n",
       "12. 1\n",
       "13. 1\n",
       "14. 1\n",
       "15. 1\n",
       "16. 1\n",
       "17. 1\n",
       "18. 1\n",
       "19. 1\n",
       "20. 1\n",
       "21. 1\n",
       "22. 1\n",
       "23. 1\n",
       "24. 1\n",
       "25. 1\n",
       "26. 2\n",
       "27. 2\n",
       "28. 2\n",
       "29. 2\n",
       "30. 2\n",
       "31. 2\n",
       "32. 2\n",
       "33. 2\n",
       "34. 2\n",
       "35. 2\n",
       "36. 2\n",
       "37. 2\n",
       "38. 2\n",
       "39. 2\n",
       "40. 2\n",
       "41. 2\n",
       "42. 2\n",
       "43. 2\n",
       "44. 2\n",
       "45. 2\n",
       "46. 2\n",
       "47. 2\n",
       "48. 2\n",
       "49. 2\n",
       "50. 2\n",
       "\n",
       "\n"
      ],
      "text/plain": [
       " [1] 1 1 1 1 1 1 1 1 1 1 1 1 1 1 1 1 1 1 1 1 1 1 1 1 1 2 2 2 2 2 2 2 2 2 2 2 2 2\n",
       "[39] 2 2 2 2 2 2 2 2 2 2 2 2"
      ]
     },
     "metadata": {},
     "output_type": "display_data"
    }
   ],
   "source": [
    "km.out = kmeans(x, 2, nstart = 20)\n",
    "km.out$cluster"
   ]
  },
  {
   "cell_type": "code",
   "execution_count": 17,
   "id": "1677dbd1",
   "metadata": {},
   "outputs": [
    {
     "data": {
      "image/png": "[encoded data removed]",
      "text/plain": [
       "Plot with title \"K-Means Clustering Results with K=2\""
      ]
     },
     "metadata": {},
     "output_type": "display_data"
    }
   ],
   "source": [
    "plot(x, col = km.out$cluster + 1, main = 'K-Means Clustering Results with K=2', xlab = '', ylab = '', pch = 20, cex = 2)"
   ]
  },
  {
   "cell_type": "code",
   "execution_count": 18,
   "id": "0ce64d73",
   "metadata": {},
   "outputs": [
    {
     "data": {
      "text/plain": [
       "K-means clustering with 3 clusters of sizes 5, 25, 20\n",
       "\n",
       "Cluster means:\n",
       "        [,1]        [,2]\n",
       "1 3.51171162 -2.10935842\n",
       "2 0.03223135  0.06924384\n",
       "3 3.08290361 -4.26589906\n",
       "\n",
       "Clustering vector:\n",
       " [1] 3 3 3 3 1 1 3 3 3 3 1 3 3 3 3 3 3 1 3 1 3 3 3 3 3 2 2 2 2 2 2 2 2 2 2 2 2 2\n",
       "[39] 2 2 2 2 2 2 2 2 2 2 2 2\n",
       "\n",
       "Within cluster sum of squares by cluster:\n",
       "[1]  3.740301 28.534174 27.901401\n",
       " (between_SS / total_SS =  84.7 %)\n",
       "\n",
       "Available components:\n",
       "\n",
       "[1] \"cluster\"      \"centers\"      \"totss\"        \"withinss\"     \"tot.withinss\"\n",
       "[6] \"betweenss\"    \"size\"         \"iter\"         \"ifault\"      "
      ]
     },
     "metadata": {},
     "output_type": "display_data"
    }
   ],
   "source": [
    "set.seed(1)\n",
    "km.out = kmeans(x, 3, nstart = 20)\n",
    "km.out"
   ]
  },
  {
   "cell_type": "code",
   "execution_count": 22,
   "id": "7a366a62",
   "metadata": {},
   "outputs": [
    {
     "data": {
      "text/html": [
       "60.3724870386759"
      ],
      "text/latex": [
       "60.3724870386759"
      ],
      "text/markdown": [
       "60.3724870386759"
      ],
      "text/plain": [
       "[1] 60.37249"
      ]
     },
     "metadata": {},
     "output_type": "display_data"
    }
   ],
   "source": [
    "set.seed(10)\n",
    "\n",
    "km.out = kmeans(x, 3, nstart = 1)\n",
    "km.out$tot.withinss"
   ]
  },
  {
   "cell_type": "code",
   "execution_count": 23,
   "id": "4a75c6dd",
   "metadata": {},
   "outputs": [
    {
     "data": {
      "text/html": [
       "60.1758753199515"
      ],
      "text/latex": [
       "60.1758753199515"
      ],
      "text/markdown": [
       "60.1758753199515"
      ],
      "text/plain": [
       "[1] 60.17588"
      ]
     },
     "metadata": {},
     "output_type": "display_data"
    }
   ],
   "source": [
    "set.seed(10)\n",
    "\n",
    "km.out = kmeans(x, 3, nstart = 20)\n",
    "km.out$tot.withinss"
   ]
  },
  {
   "cell_type": "markdown",
   "id": "b506d7c9",
   "metadata": {},
   "source": [
    "# Hierarchical Clustering"
   ]
  },
  {
   "cell_type": "code",
   "execution_count": 24,
   "id": "ddf3baae",
   "metadata": {},
   "outputs": [],
   "source": [
    "set.seed(1)\n",
    "x = matrix(rnorm(50 * 2), ncol = 2)\n",
    "x[1:25, 1] = x[1:25, 1] + 3\n",
    "x[1:25, 2] = x[1:25, 2] - 4"
   ]
  },
  {
   "cell_type": "code",
   "execution_count": 25,
   "id": "d82871dd",
   "metadata": {},
   "outputs": [],
   "source": [
    "hc.complete = hclust(dist(x), method = 'complete')\n",
    "hc.average = hclust(dist(x), method = 'average')\n",
    "hc.single = hclust(dist(x), method = 'single')"
   ]
  },
  {
   "cell_type": "code",
   "execution_count": 26,
   "id": "e57d0c4a",
   "metadata": {},
   "outputs": [
    {
     "data": {
      "image/png": "[encoded data removed]",
      "text/plain": [
       "Plot with title \"single Linkage\""
      ]
     },
     "metadata": {},
     "output_type": "display_data"
    }
   ],
   "source": [
    "par(mfrow = c(1, 3))\n",
    "\n",
    "plot(hc.complete, main = 'Complete Linkage', xlab = '', sub = '', cex = .9)\n",
    "plot(hc.average, main = 'Average Linkage', xlab = '', sub = '', cex = .9)\n",
    "plot(hc.single, main = 'single Linkage', xlab = '', sub = '', cex = .9)"
   ]
  },
  {
   "cell_type": "code",
   "execution_count": 29,
   "id": "32b2bc4f",
   "metadata": {},
   "outputs": [
    {
     "data": {
      "text/html": [
       "<ol class=list-inline>\n",
       "\t<li>1</li>\n",
       "\t<li>1</li>\n",
       "\t<li>1</li>\n",
       "\t<li>1</li>\n",
       "\t<li>1</li>\n",
       "\t<li>1</li>\n",
       "\t<li>1</li>\n",
       "\t<li>1</li>\n",
       "\t<li>1</li>\n",
       "\t<li>1</li>\n",
       "\t<li>1</li>\n",
       "\t<li>1</li>\n",
       "\t<li>1</li>\n",
       "\t<li>1</li>\n",
       "\t<li>1</li>\n",
       "\t<li>1</li>\n",
       "\t<li>1</li>\n",
       "\t<li>1</li>\n",
       "\t<li>1</li>\n",
       "\t<li>1</li>\n",
       "\t<li>1</li>\n",
       "\t<li>1</li>\n",
       "\t<li>1</li>\n",
       "\t<li>1</li>\n",
       "\t<li>1</li>\n",
       "\t<li>2</li>\n",
       "\t<li>2</li>\n",
       "\t<li>2</li>\n",
       "\t<li>2</li>\n",
       "\t<li>2</li>\n",
       "\t<li>2</li>\n",
       "\t<li>2</li>\n",
       "\t<li>2</li>\n",
       "\t<li>2</li>\n",
       "\t<li>2</li>\n",
       "\t<li>2</li>\n",
       "\t<li>2</li>\n",
       "\t<li>2</li>\n",
       "\t<li>2</li>\n",
       "\t<li>2</li>\n",
       "\t<li>2</li>\n",
       "\t<li>2</li>\n",
       "\t<li>2</li>\n",
       "\t<li>2</li>\n",
       "\t<li>2</li>\n",
       "\t<li>2</li>\n",
       "\t<li>2</li>\n",
       "\t<li>2</li>\n",
       "\t<li>2</li>\n",
       "\t<li>2</li>\n",
       "</ol>\n"
      ],
      "text/latex": [
       "\\begin{enumerate*}\n",
       "\\item 1\n",
       "\\item 1\n",
       "\\item 1\n",
       "\\item 1\n",
       "\\item 1\n",
       "\\item 1\n",
       "\\item 1\n",
       "\\item 1\n",
       "\\item 1\n",
       "\\item 1\n",
       "\\item 1\n",
       "\\item 1\n",
       "\\item 1\n",
       "\\item 1\n",
       "\\item 1\n",
       "\\item 1\n",
       "\\item 1\n",
       "\\item 1\n",
       "\\item 1\n",
       "\\item 1\n",
       "\\item 1\n",
       "\\item 1\n",
       "\\item 1\n",
       "\\item 1\n",
       "\\item 1\n",
       "\\item 2\n",
       "\\item 2\n",
       "\\item 2\n",
       "\\item 2\n",
       "\\item 2\n",
       "\\item 2\n",
       "\\item 2\n",
       "\\item 2\n",
       "\\item 2\n",
       "\\item 2\n",
       "\\item 2\n",
       "\\item 2\n",
       "\\item 2\n",
       "\\item 2\n",
       "\\item 2\n",
       "\\item 2\n",
       "\\item 2\n",
       "\\item 2\n",
       "\\item 2\n",
       "\\item 2\n",
       "\\item 2\n",
       "\\item 2\n",
       "\\item 2\n",
       "\\item 2\n",
       "\\item 2\n",
       "\\end{enumerate*}\n"
      ],
      "text/markdown": [
       "1. 1\n",
       "2. 1\n",
       "3. 1\n",
       "4. 1\n",
       "5. 1\n",
       "6. 1\n",
       "7. 1\n",
       "8. 1\n",
       "9. 1\n",
       "10. 1\n",
       "11. 1\n",
       "12. 1\n",
       "13. 1\n",
       "14. 1\n",
       "15. 1\n",
       "16. 1\n",
       "17. 1\n",
       "18. 1\n",
       "19. 1\n",
       "20. 1\n",
       "21. 1\n",
       "22. 1\n",
       "23. 1\n",
       "24. 1\n",
       "25. 1\n",
       "26. 2\n",
       "27. 2\n",
       "28. 2\n",
       "29. 2\n",
       "30. 2\n",
       "31. 2\n",
       "32. 2\n",
       "33. 2\n",
       "34. 2\n",
       "35. 2\n",
       "36. 2\n",
       "37. 2\n",
       "38. 2\n",
       "39. 2\n",
       "40. 2\n",
       "41. 2\n",
       "42. 2\n",
       "43. 2\n",
       "44. 2\n",
       "45. 2\n",
       "46. 2\n",
       "47. 2\n",
       "48. 2\n",
       "49. 2\n",
       "50. 2\n",
       "\n",
       "\n"
      ],
      "text/plain": [
       " [1] 1 1 1 1 1 1 1 1 1 1 1 1 1 1 1 1 1 1 1 1 1 1 1 1 1 2 2 2 2 2 2 2 2 2 2 2 2 2\n",
       "[39] 2 2 2 2 2 2 2 2 2 2 2 2"
      ]
     },
     "metadata": {},
     "output_type": "display_data"
    },
    {
     "data": {
      "text/html": [
       "<ol class=list-inline>\n",
       "\t<li>1</li>\n",
       "\t<li>1</li>\n",
       "\t<li>1</li>\n",
       "\t<li>1</li>\n",
       "\t<li>1</li>\n",
       "\t<li>1</li>\n",
       "\t<li>1</li>\n",
       "\t<li>1</li>\n",
       "\t<li>1</li>\n",
       "\t<li>1</li>\n",
       "\t<li>1</li>\n",
       "\t<li>1</li>\n",
       "\t<li>1</li>\n",
       "\t<li>1</li>\n",
       "\t<li>1</li>\n",
       "\t<li>1</li>\n",
       "\t<li>1</li>\n",
       "\t<li>1</li>\n",
       "\t<li>1</li>\n",
       "\t<li>1</li>\n",
       "\t<li>1</li>\n",
       "\t<li>1</li>\n",
       "\t<li>1</li>\n",
       "\t<li>1</li>\n",
       "\t<li>1</li>\n",
       "\t<li>2</li>\n",
       "\t<li>2</li>\n",
       "\t<li>2</li>\n",
       "\t<li>2</li>\n",
       "\t<li>2</li>\n",
       "\t<li>2</li>\n",
       "\t<li>2</li>\n",
       "\t<li>2</li>\n",
       "\t<li>2</li>\n",
       "\t<li>2</li>\n",
       "\t<li>2</li>\n",
       "\t<li>2</li>\n",
       "\t<li>2</li>\n",
       "\t<li>2</li>\n",
       "\t<li>2</li>\n",
       "\t<li>2</li>\n",
       "\t<li>2</li>\n",
       "\t<li>2</li>\n",
       "\t<li>2</li>\n",
       "\t<li>2</li>\n",
       "\t<li>2</li>\n",
       "\t<li>2</li>\n",
       "\t<li>2</li>\n",
       "\t<li>2</li>\n",
       "\t<li>2</li>\n",
       "</ol>\n"
      ],
      "text/latex": [
       "\\begin{enumerate*}\n",
       "\\item 1\n",
       "\\item 1\n",
       "\\item 1\n",
       "\\item 1\n",
       "\\item 1\n",
       "\\item 1\n",
       "\\item 1\n",
       "\\item 1\n",
       "\\item 1\n",
       "\\item 1\n",
       "\\item 1\n",
       "\\item 1\n",
       "\\item 1\n",
       "\\item 1\n",
       "\\item 1\n",
       "\\item 1\n",
       "\\item 1\n",
       "\\item 1\n",
       "\\item 1\n",
       "\\item 1\n",
       "\\item 1\n",
       "\\item 1\n",
       "\\item 1\n",
       "\\item 1\n",
       "\\item 1\n",
       "\\item 2\n",
       "\\item 2\n",
       "\\item 2\n",
       "\\item 2\n",
       "\\item 2\n",
       "\\item 2\n",
       "\\item 2\n",
       "\\item 2\n",
       "\\item 2\n",
       "\\item 2\n",
       "\\item 2\n",
       "\\item 2\n",
       "\\item 2\n",
       "\\item 2\n",
       "\\item 2\n",
       "\\item 2\n",
       "\\item 2\n",
       "\\item 2\n",
       "\\item 2\n",
       "\\item 2\n",
       "\\item 2\n",
       "\\item 2\n",
       "\\item 2\n",
       "\\item 2\n",
       "\\item 2\n",
       "\\end{enumerate*}\n"
      ],
      "text/markdown": [
       "1. 1\n",
       "2. 1\n",
       "3. 1\n",
       "4. 1\n",
       "5. 1\n",
       "6. 1\n",
       "7. 1\n",
       "8. 1\n",
       "9. 1\n",
       "10. 1\n",
       "11. 1\n",
       "12. 1\n",
       "13. 1\n",
       "14. 1\n",
       "15. 1\n",
       "16. 1\n",
       "17. 1\n",
       "18. 1\n",
       "19. 1\n",
       "20. 1\n",
       "21. 1\n",
       "22. 1\n",
       "23. 1\n",
       "24. 1\n",
       "25. 1\n",
       "26. 2\n",
       "27. 2\n",
       "28. 2\n",
       "29. 2\n",
       "30. 2\n",
       "31. 2\n",
       "32. 2\n",
       "33. 2\n",
       "34. 2\n",
       "35. 2\n",
       "36. 2\n",
       "37. 2\n",
       "38. 2\n",
       "39. 2\n",
       "40. 2\n",
       "41. 2\n",
       "42. 2\n",
       "43. 2\n",
       "44. 2\n",
       "45. 2\n",
       "46. 2\n",
       "47. 2\n",
       "48. 2\n",
       "49. 2\n",
       "50. 2\n",
       "\n",
       "\n"
      ],
      "text/plain": [
       " [1] 1 1 1 1 1 1 1 1 1 1 1 1 1 1 1 1 1 1 1 1 1 1 1 1 1 2 2 2 2 2 2 2 2 2 2 2 2 2\n",
       "[39] 2 2 2 2 2 2 2 2 2 2 2 2"
      ]
     },
     "metadata": {},
     "output_type": "display_data"
    },
    {
     "data": {
      "text/html": [
       "<ol class=list-inline>\n",
       "\t<li>1</li>\n",
       "\t<li>1</li>\n",
       "\t<li>1</li>\n",
       "\t<li>1</li>\n",
       "\t<li>1</li>\n",
       "\t<li>1</li>\n",
       "\t<li>1</li>\n",
       "\t<li>1</li>\n",
       "\t<li>1</li>\n",
       "\t<li>1</li>\n",
       "\t<li>1</li>\n",
       "\t<li>1</li>\n",
       "\t<li>1</li>\n",
       "\t<li>1</li>\n",
       "\t<li>1</li>\n",
       "\t<li>1</li>\n",
       "\t<li>1</li>\n",
       "\t<li>1</li>\n",
       "\t<li>1</li>\n",
       "\t<li>1</li>\n",
       "\t<li>1</li>\n",
       "\t<li>1</li>\n",
       "\t<li>1</li>\n",
       "\t<li>1</li>\n",
       "\t<li>1</li>\n",
       "\t<li>2</li>\n",
       "\t<li>2</li>\n",
       "\t<li>2</li>\n",
       "\t<li>2</li>\n",
       "\t<li>2</li>\n",
       "\t<li>2</li>\n",
       "\t<li>2</li>\n",
       "\t<li>2</li>\n",
       "\t<li>2</li>\n",
       "\t<li>2</li>\n",
       "\t<li>2</li>\n",
       "\t<li>2</li>\n",
       "\t<li>2</li>\n",
       "\t<li>2</li>\n",
       "\t<li>2</li>\n",
       "\t<li>2</li>\n",
       "\t<li>2</li>\n",
       "\t<li>2</li>\n",
       "\t<li>2</li>\n",
       "\t<li>2</li>\n",
       "\t<li>2</li>\n",
       "\t<li>2</li>\n",
       "\t<li>2</li>\n",
       "\t<li>2</li>\n",
       "\t<li>2</li>\n",
       "</ol>\n"
      ],
      "text/latex": [
       "\\begin{enumerate*}\n",
       "\\item 1\n",
       "\\item 1\n",
       "\\item 1\n",
       "\\item 1\n",
       "\\item 1\n",
       "\\item 1\n",
       "\\item 1\n",
       "\\item 1\n",
       "\\item 1\n",
       "\\item 1\n",
       "\\item 1\n",
       "\\item 1\n",
       "\\item 1\n",
       "\\item 1\n",
       "\\item 1\n",
       "\\item 1\n",
       "\\item 1\n",
       "\\item 1\n",
       "\\item 1\n",
       "\\item 1\n",
       "\\item 1\n",
       "\\item 1\n",
       "\\item 1\n",
       "\\item 1\n",
       "\\item 1\n",
       "\\item 2\n",
       "\\item 2\n",
       "\\item 2\n",
       "\\item 2\n",
       "\\item 2\n",
       "\\item 2\n",
       "\\item 2\n",
       "\\item 2\n",
       "\\item 2\n",
       "\\item 2\n",
       "\\item 2\n",
       "\\item 2\n",
       "\\item 2\n",
       "\\item 2\n",
       "\\item 2\n",
       "\\item 2\n",
       "\\item 2\n",
       "\\item 2\n",
       "\\item 2\n",
       "\\item 2\n",
       "\\item 2\n",
       "\\item 2\n",
       "\\item 2\n",
       "\\item 2\n",
       "\\item 2\n",
       "\\end{enumerate*}\n"
      ],
      "text/markdown": [
       "1. 1\n",
       "2. 1\n",
       "3. 1\n",
       "4. 1\n",
       "5. 1\n",
       "6. 1\n",
       "7. 1\n",
       "8. 1\n",
       "9. 1\n",
       "10. 1\n",
       "11. 1\n",
       "12. 1\n",
       "13. 1\n",
       "14. 1\n",
       "15. 1\n",
       "16. 1\n",
       "17. 1\n",
       "18. 1\n",
       "19. 1\n",
       "20. 1\n",
       "21. 1\n",
       "22. 1\n",
       "23. 1\n",
       "24. 1\n",
       "25. 1\n",
       "26. 2\n",
       "27. 2\n",
       "28. 2\n",
       "29. 2\n",
       "30. 2\n",
       "31. 2\n",
       "32. 2\n",
       "33. 2\n",
       "34. 2\n",
       "35. 2\n",
       "36. 2\n",
       "37. 2\n",
       "38. 2\n",
       "39. 2\n",
       "40. 2\n",
       "41. 2\n",
       "42. 2\n",
       "43. 2\n",
       "44. 2\n",
       "45. 2\n",
       "46. 2\n",
       "47. 2\n",
       "48. 2\n",
       "49. 2\n",
       "50. 2\n",
       "\n",
       "\n"
      ],
      "text/plain": [
       " [1] 1 1 1 1 1 1 1 1 1 1 1 1 1 1 1 1 1 1 1 1 1 1 1 1 1 2 2 2 2 2 2 2 2 2 2 2 2 2\n",
       "[39] 2 2 2 2 2 2 2 2 2 2 2 2"
      ]
     },
     "metadata": {},
     "output_type": "display_data"
    }
   ],
   "source": [
    "cutree(hc.complete, 2)\n",
    "cutree(hc.average, 2)\n",
    "cutree(hc.single, 2)"
   ]
  },
  {
   "cell_type": "code",
   "execution_count": 30,
   "id": "50f6ea03",
   "metadata": {},
   "outputs": [],
   "source": [
    "xsc = scale(x)"
   ]
  },
  {
   "cell_type": "code",
   "execution_count": 31,
   "id": "80e8125a",
   "metadata": {},
   "outputs": [
    {
     "data": {
      "image/png": "[encoded data removed]",
      "text/plain": [
       "Plot with title \"Hierarchical Clustering with Scaled Features\""
      ]
     },
     "metadata": {},
     "output_type": "display_data"
    }
   ],
   "source": [
    "plot(hclust(dist(xsc), method = 'complete'), main = 'Hierarchical Clustering with Scaled Features')"
   ]
  },
  {
   "cell_type": "code",
   "execution_count": 32,
   "id": "c7690311",
   "metadata": {},
   "outputs": [],
   "source": [
    "x = matrix(rnorm(30 * 3), ncol = 3)\n",
    "dd = as.dist(1 - cor(t(x)))"
   ]
  },
  {
   "cell_type": "code",
   "execution_count": 33,
   "id": "6ea16dfb",
   "metadata": {},
   "outputs": [
    {
     "data": {
      "image/png": "[encoded data removed]",
      "text/plain": [
       "Plot with title \"Complete Linkage with Correlation-Based Distance\""
      ]
     },
     "metadata": {},
     "output_type": "display_data"
    }
   ],
   "source": [
    "plot(hclust(dd, method = 'complete'), main = 'Complete Linkage with Correlation-Based Distance', xlab = '', sub = '')"
   ]
  },
  {
   "cell_type": "markdown",
   "id": "449f1981",
   "metadata": {},
   "source": [
    "# PCA on the NCI60 Data"
   ]
  },
  {
   "cell_type": "code",
   "execution_count": 35,
   "id": "1ecb4a3f",
   "metadata": {},
   "outputs": [],
   "source": [
    "nci.labs = NCI60$labs\n",
    "nci.data = NCI60$data"
   ]
  },
  {
   "cell_type": "code",
   "execution_count": 36,
   "id": "a2c1d68b",
   "metadata": {},
   "outputs": [
    {
     "data": {
      "text/plain": [
       "nci.labs\n",
       "     BREAST         CNS       COLON K562A-repro K562B-repro    LEUKEMIA \n",
       "          7           5           7           1           1           6 \n",
       "MCF7A-repro MCF7D-repro    MELANOMA       NSCLC     OVARIAN    PROSTATE \n",
       "          1           1           8           9           6           2 \n",
       "      RENAL     UNKNOWN \n",
       "          9           1 "
      ]
     },
     "metadata": {},
     "output_type": "display_data"
    }
   ],
   "source": [
    "table(nci.labs)"
   ]
  },
  {
   "cell_type": "code",
   "execution_count": 37,
   "id": "9309259e",
   "metadata": {},
   "outputs": [],
   "source": [
    "pr.out = prcomp(nci.data, scale = TRUE)"
   ]
  },
  {
   "cell_type": "code",
   "execution_count": 38,
   "id": "96ab0e60",
   "metadata": {},
   "outputs": [],
   "source": [
    "Cols = function(vec) {\n",
    "  cols = rainbow(length(unique(vec)))\n",
    "  return(cols[as.numeric(as.factor(vec))])\n",
    "}"
   ]
  },
  {
   "cell_type": "code",
   "execution_count": 39,
   "id": "de2e48c5",
   "metadata": {},
   "outputs": [
    {
     "data": {
      "image/png": "[encoded data removed]",
      "text/plain": [
       "plot without title"
      ]
     },
     "metadata": {},
     "output_type": "display_data"
    }
   ],
   "source": [
    "par(mfrow = c(1, 2))\n",
    "\n",
    "plot(pr.out$x[, 1:2], col = Cols(nci.labs), pch = 19, xlab = 'Z1', ylab = 'Z2')\n",
    "plot(pr.out$x[, c(1, 3)], col = Cols(nci.labs), pch = 19, xlab = 'Z1', ylab = 'Z3')"
   ]
  },
  {
   "cell_type": "code",
   "execution_count": 40,
   "id": "81b67137",
   "metadata": {},
   "outputs": [
    {
     "data": {
      "text/plain": [
       "Importance of components:\n",
       "                           PC1      PC2      PC3      PC4      PC5      PC6\n",
       "Standard deviation     27.8535 21.48136 19.82046 17.03256 15.97181 15.72108\n",
       "Proportion of Variance  0.1136  0.06756  0.05752  0.04248  0.03735  0.03619\n",
       "Cumulative Proportion   0.1136  0.18115  0.23867  0.28115  0.31850  0.35468\n",
       "                            PC7      PC8      PC9     PC10     PC11     PC12\n",
       "Standard deviation     14.47145 13.54427 13.14400 12.73860 12.68672 12.15769\n",
       "Proportion of Variance  0.03066  0.02686  0.02529  0.02376  0.02357  0.02164\n",
       "Cumulative Proportion   0.38534  0.41220  0.43750  0.46126  0.48482  0.50646\n",
       "                           PC13     PC14     PC15     PC16     PC17     PC18\n",
       "Standard deviation     11.83019 11.62554 11.43779 11.00051 10.65666 10.48880\n",
       "Proportion of Variance  0.02049  0.01979  0.01915  0.01772  0.01663  0.01611\n",
       "Cumulative Proportion   0.52695  0.54674  0.56590  0.58361  0.60024  0.61635\n",
       "                           PC19    PC20     PC21    PC22    PC23    PC24\n",
       "Standard deviation     10.43518 10.3219 10.14608 10.0544 9.90265 9.64766\n",
       "Proportion of Variance  0.01594  0.0156  0.01507  0.0148 0.01436 0.01363\n",
       "Cumulative Proportion   0.63229  0.6479  0.66296  0.6778 0.69212 0.70575\n",
       "                          PC25    PC26    PC27   PC28    PC29    PC30    PC31\n",
       "Standard deviation     9.50764 9.33253 9.27320 9.0900 8.98117 8.75003 8.59962\n",
       "Proportion of Variance 0.01324 0.01275 0.01259 0.0121 0.01181 0.01121 0.01083\n",
       "Cumulative Proportion  0.71899 0.73174 0.74433 0.7564 0.76824 0.77945 0.79027\n",
       "                          PC32    PC33    PC34    PC35    PC36    PC37    PC38\n",
       "Standard deviation     8.44738 8.37305 8.21579 8.15731 7.97465 7.90446 7.82127\n",
       "Proportion of Variance 0.01045 0.01026 0.00988 0.00974 0.00931 0.00915 0.00896\n",
       "Cumulative Proportion  0.80072 0.81099 0.82087 0.83061 0.83992 0.84907 0.85803\n",
       "                          PC39    PC40    PC41   PC42    PC43   PC44    PC45\n",
       "Standard deviation     7.72156 7.58603 7.45619 7.3444 7.10449 7.0131 6.95839\n",
       "Proportion of Variance 0.00873 0.00843 0.00814 0.0079 0.00739 0.0072 0.00709\n",
       "Cumulative Proportion  0.86676 0.87518 0.88332 0.8912 0.89861 0.9058 0.91290\n",
       "                         PC46    PC47    PC48    PC49    PC50    PC51    PC52\n",
       "Standard deviation     6.8663 6.80744 6.64763 6.61607 6.40793 6.21984 6.20326\n",
       "Proportion of Variance 0.0069 0.00678 0.00647 0.00641 0.00601 0.00566 0.00563\n",
       "Cumulative Proportion  0.9198 0.92659 0.93306 0.93947 0.94548 0.95114 0.95678\n",
       "                          PC53    PC54    PC55    PC56    PC57   PC58    PC59\n",
       "Standard deviation     6.06706 5.91805 5.91233 5.73539 5.47261 5.2921 5.02117\n",
       "Proportion of Variance 0.00539 0.00513 0.00512 0.00482 0.00438 0.0041 0.00369\n",
       "Cumulative Proportion  0.96216 0.96729 0.97241 0.97723 0.98161 0.9857 0.98940\n",
       "                          PC60    PC61    PC62    PC63      PC64\n",
       "Standard deviation     4.68398 4.17567 4.08212 4.04124 1.237e-14\n",
       "Proportion of Variance 0.00321 0.00255 0.00244 0.00239 0.000e+00\n",
       "Cumulative Proportion  0.99262 0.99517 0.99761 1.00000 1.000e+00"
      ]
     },
     "metadata": {},
     "output_type": "display_data"
    }
   ],
   "source": [
    "summary(pr.out)"
   ]
  },
  {
   "cell_type": "code",
   "execution_count": 41,
   "id": "919a2255",
   "metadata": {},
   "outputs": [
    {
     "data": {
      "image/png": "[encoded data removed]",
      "text/plain": [
       "Plot with title \"pr.out\""
      ]
     },
     "metadata": {},
     "output_type": "display_data"
    }
   ],
   "source": [
    "plot(pr.out)"
   ]
  },
  {
   "cell_type": "code",
   "execution_count": 42,
   "id": "59cbe52a",
   "metadata": {},
   "outputs": [],
   "source": [
    "pve = 100 * pr.out$sdev ^ 2 / sum(pr.out$sdev ^ 2)"
   ]
  },
  {
   "cell_type": "code",
   "execution_count": 43,
   "id": "275fe57d",
   "metadata": {},
   "outputs": [
    {
     "data": {
      "image/png": "[encoded data removed]",
      "text/plain": [
       "plot without title"
      ]
     },
     "metadata": {},
     "output_type": "display_data"
    }
   ],
   "source": [
    "par(mfrow = c(1, 2))\n",
    "\n",
    "plot(pve, type = 'o', ylab = 'PVE', xlab = 'Principal Component', col = 'blue')\n",
    "plot(cumsum(pve), type = 'o', xlab = 'Principal Component', ylab = 'Cumulative PVE', col = 'brown3')"
   ]
  },
  {
   "cell_type": "markdown",
   "id": "59146f77",
   "metadata": {},
   "source": [
    "# Clustering the Observations of the NCI60 Data"
   ]
  },
  {
   "cell_type": "code",
   "execution_count": 44,
   "id": "7b9fd240",
   "metadata": {},
   "outputs": [],
   "source": [
    "pr.out = prcomp(nci.data, scale = TRUE)"
   ]
  },
  {
   "cell_type": "code",
   "execution_count": 45,
   "id": "0fc0a207",
   "metadata": {},
   "outputs": [],
   "source": [
    "sd.data = scale(nci.data)\n",
    "data.dist = dist(sd.data)"
   ]
  },
  {
   "cell_type": "code",
   "execution_count": 46,
   "id": "e460c0da",
   "metadata": {},
   "outputs": [
    {
     "data": {
      "image/png": "[encoded data removed]",
      "text/plain": [
       "Plot with title \"Single Linkage\""
      ]
     },
     "metadata": {},
     "output_type": "display_data"
    }
   ],
   "source": [
    "par(mfrow = c(1, 3))\n",
    "\n",
    "plot(hclust(data.dist), labels = nci.labs, main = 'Complete Linkage', xlab = '', ylab = '')\n",
    "plot(hclust(data.dist, method = 'average'), labels = nci.labs, main = 'Average Linkage', xlab = '', ylab = '', sub = '')\n",
    "plot(hclust(data.dist, method = 'single'), labels = nci.labs, main = 'Single Linkage', xlab = '', ylab = '', sub = '')"
   ]
  },
  {
   "cell_type": "code",
   "execution_count": 47,
   "id": "19ee1346",
   "metadata": {},
   "outputs": [
    {
     "data": {
      "text/plain": [
       "           nci.labs\n",
       "hc.clusters BREAST CNS COLON K562A-repro K562B-repro LEUKEMIA MCF7A-repro\n",
       "          1      2   3     2           0           0        0           0\n",
       "          2      3   2     0           0           0        0           0\n",
       "          3      0   0     0           1           1        6           0\n",
       "          4      2   0     5           0           0        0           1\n",
       "           nci.labs\n",
       "hc.clusters MCF7D-repro MELANOMA NSCLC OVARIAN PROSTATE RENAL UNKNOWN\n",
       "          1           0        8     8       6        2     8       1\n",
       "          2           0        0     1       0        0     1       0\n",
       "          3           0        0     0       0        0     0       0\n",
       "          4           1        0     0       0        0     0       0"
      ]
     },
     "metadata": {},
     "output_type": "display_data"
    }
   ],
   "source": [
    "hc.out = hclust(dist(sd.data))\n",
    "hc.clusters = cutree(hc.out, 4)\n",
    "table(hc.clusters, nci.labs)"
   ]
  },
  {
   "cell_type": "code",
   "execution_count": 48,
   "id": "965d35bf",
   "metadata": {},
   "outputs": [
    {
     "data": {
      "image/png": "[encoded data removed]",
      "text/plain": [
       "Plot with title \"Cluster Dendrogram\""
      ]
     },
     "metadata": {},
     "output_type": "display_data"
    }
   ],
   "source": [
    "plot(hc.out, labels = nci.labs)\n",
    "abline(h = 139, col = 'red')"
   ]
  },
  {
   "cell_type": "code",
   "execution_count": 49,
   "id": "6b7ed696",
   "metadata": {},
   "outputs": [
    {
     "data": {
      "text/plain": [
       "\n",
       "Call:\n",
       "hclust(d = dist(sd.data))\n",
       "\n",
       "Cluster method   : complete \n",
       "Distance         : euclidean \n",
       "Number of objects: 64 \n"
      ]
     },
     "metadata": {},
     "output_type": "display_data"
    }
   ],
   "source": [
    "hc.out"
   ]
  },
  {
   "cell_type": "code",
   "execution_count": 50,
   "id": "9d6d8b37",
   "metadata": {},
   "outputs": [
    {
     "data": {
      "text/plain": [
       "           hc.clusters\n",
       "km.clusters  1  2  3  4\n",
       "          1  9  0  0  0\n",
       "          2 20  7  0  0\n",
       "          3  0  0  8  0\n",
       "          4 11  0  0  9"
      ]
     },
     "metadata": {},
     "output_type": "display_data"
    }
   ],
   "source": [
    "set.seed(1)\n",
    "\n",
    "km.out = kmeans(sd.data, 4, nstart = 20)\n",
    "km.clusters = km.out$cluster\n",
    "table(km.clusters, hc.clusters)"
   ]
  },
  {
   "cell_type": "code",
   "execution_count": 51,
   "id": "ff307ad7",
   "metadata": {},
   "outputs": [],
   "source": [
    "hc.out = hclust(dist(pr.out$x[, 1:5]))"
   ]
  },
  {
   "cell_type": "code",
   "execution_count": 52,
   "id": "2ad2f989",
   "metadata": {},
   "outputs": [
    {
     "data": {
      "image/png": "[encoded data removed]",
      "text/plain": [
       "Plot with title \"Hier. Clust. on First 5 Score Vectors\""
      ]
     },
     "metadata": {},
     "output_type": "display_data"
    }
   ],
   "source": [
    "plot(hc.out, labels = nci.labs, main = 'Hier. Clust. on First 5 Score Vectors')"
   ]
  },
  {
   "cell_type": "code",
   "execution_count": 53,
   "id": "08b375c6",
   "metadata": {},
   "outputs": [
    {
     "data": {
      "text/plain": [
       "   nci.labs\n",
       "    BREAST CNS COLON K562A-repro K562B-repro LEUKEMIA MCF7A-repro MCF7D-repro\n",
       "  1      0   2     7           0           0        2           0           0\n",
       "  2      5   3     0           0           0        0           0           0\n",
       "  3      0   0     0           1           1        4           0           0\n",
       "  4      2   0     0           0           0        0           1           1\n",
       "   nci.labs\n",
       "    MELANOMA NSCLC OVARIAN PROSTATE RENAL UNKNOWN\n",
       "  1        1     8       5        2     7       0\n",
       "  2        7     1       1        0     2       1\n",
       "  3        0     0       0        0     0       0\n",
       "  4        0     0       0        0     0       0"
      ]
     },
     "metadata": {},
     "output_type": "display_data"
    }
   ],
   "source": [
    "table(cutree(hc.out, 4), nci.labs)"
   ]
  },
  {
   "cell_type": "code",
   "execution_count": null,
   "id": "9ef48143",
   "metadata": {},
   "outputs": [],
   "source": []
  }
 ],
 "metadata": {
  "kernelspec": {
   "display_name": "R",
   "language": "R",
   "name": "ir"
  },
  "language_info": {
   "codemirror_mode": "r",
   "file_extension": ".r",
   "mimetype": "text/x-r-source",
   "name": "R",
   "pygments_lexer": "r",
   "version": "3.6.1"
  }
 },
 "nbformat": 4,
 "nbformat_minor": 5
}
